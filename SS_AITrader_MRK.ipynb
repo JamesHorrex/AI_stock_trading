{
  "nbformat": 4,
  "nbformat_minor": 0,
  "metadata": {
    "colab": {
      "name": "SS_AITrader.ipynb",
      "provenance": [],
      "collapsed_sections": [],
      "authorship_tag": "ABX9TyOhKO13sUtW43v27gGVArQP",
      "include_colab_link": true
    },
    "kernelspec": {
      "name": "python3",
      "display_name": "Python 3"
    },
    "accelerator": "GPU"
  },
  "cells": [
    {
      "cell_type": "markdown",
      "metadata": {
        "id": "view-in-github",
        "colab_type": "text"
      },
      "source": [
        "<a href=\"https://colab.research.google.com/github/JamesHorrex/AI_stock_trading/blob/master/SS_AITrader_MRK.ipynb\" target=\"_parent\"><img src=\"https://colab.research.google.com/assets/colab-badge.svg\" alt=\"Open In Colab\"/></a>"
      ]
    },
    {
      "cell_type": "code",
      "metadata": {
        "id": "bKT2tX6DtauA",
        "colab_type": "code",
        "colab": {
          "base_uri": "https://localhost:8080/",
          "height": 34
        },
        "outputId": "b6934d21-069b-4fc7-9759-13fdbf3b8a3f"
      },
      "source": [
        "%matplotlib inline\n",
        "import numpy as np\n",
        "import tensorflow as tf\n",
        "print(tf.__version__)"
      ],
      "execution_count": 2,
      "outputs": [
        {
          "output_type": "stream",
          "text": [
            "2.2.0\n"
          ],
          "name": "stdout"
        }
      ]
    },
    {
      "cell_type": "code",
      "metadata": {
        "id": "k2b2DdBskfka",
        "colab_type": "code",
        "colab": {
          "base_uri": "https://localhost:8080/",
          "height": 314
        },
        "outputId": "83c60797-79dc-416e-b1dd-4c6c0dcf0479"
      },
      "source": [
        "!pip install git+https://github.com/tensorflow/docs"
      ],
      "execution_count": 3,
      "outputs": [
        {
          "output_type": "stream",
          "text": [
            "Collecting git+https://github.com/tensorflow/docs\n",
            "  Cloning https://github.com/tensorflow/docs to /tmp/pip-req-build-u1gg8kd7\n",
            "  Running command git clone -q https://github.com/tensorflow/docs /tmp/pip-req-build-u1gg8kd7\n",
            "Requirement already satisfied: astor in /usr/local/lib/python3.6/dist-packages (from tensorflow-docs===0.0.087622f0d4888b557639c605c04a0e822874df5ba-) (0.8.1)\n",
            "Requirement already satisfied: absl-py in /usr/local/lib/python3.6/dist-packages (from tensorflow-docs===0.0.087622f0d4888b557639c605c04a0e822874df5ba-) (0.9.0)\n",
            "Requirement already satisfied: protobuf in /usr/local/lib/python3.6/dist-packages (from tensorflow-docs===0.0.087622f0d4888b557639c605c04a0e822874df5ba-) (3.10.0)\n",
            "Requirement already satisfied: pyyaml in /usr/local/lib/python3.6/dist-packages (from tensorflow-docs===0.0.087622f0d4888b557639c605c04a0e822874df5ba-) (3.13)\n",
            "Requirement already satisfied: six in /usr/local/lib/python3.6/dist-packages (from absl-py->tensorflow-docs===0.0.087622f0d4888b557639c605c04a0e822874df5ba-) (1.12.0)\n",
            "Requirement already satisfied: setuptools in /usr/local/lib/python3.6/dist-packages (from protobuf->tensorflow-docs===0.0.087622f0d4888b557639c605c04a0e822874df5ba-) (47.3.1)\n",
            "Building wheels for collected packages: tensorflow-docs\n",
            "  Building wheel for tensorflow-docs (setup.py) ... \u001b[?25l\u001b[?25hdone\n",
            "  Created wheel for tensorflow-docs: filename=tensorflow_docs-0.0.087622f0d4888b557639c605c04a0e822874df5ba_-cp36-none-any.whl size=123835 sha256=6bd4575d9ab5558f18a03de08bb32ffe50026b9f6c5c612e189fbdd90ce56612\n",
            "  Stored in directory: /tmp/pip-ephem-wheel-cache-boryl4mq/wheels/eb/1b/35/fce87697be00d2fc63e0b4b395b0d9c7e391a10e98d9a0d97f\n",
            "Successfully built tensorflow-docs\n",
            "Installing collected packages: tensorflow-docs\n",
            "Successfully installed tensorflow-docs-0.0.087622f0d4888b557639c605c04a0e822874df5ba-\n"
          ],
          "name": "stdout"
        }
      ]
    },
    {
      "cell_type": "code",
      "metadata": {
        "id": "IYtw7-dbkYiD",
        "colab_type": "code",
        "colab": {}
      },
      "source": [
        "import tensorflow_docs as tfdocs\n",
        "import tensorflow_docs.plots\n",
        "import tensorflow_docs.modeling"
      ],
      "execution_count": 4,
      "outputs": []
    },
    {
      "cell_type": "code",
      "metadata": {
        "id": "hDdT5zKLv1rP",
        "colab_type": "code",
        "colab": {
          "base_uri": "https://localhost:8080/",
          "height": 123
        },
        "outputId": "b0389859-a0a4-4852-fcf7-310a27f6929d"
      },
      "source": [
        "from google.colab import drive \n",
        "drive.mount('/content/gdrive')"
      ],
      "execution_count": 5,
      "outputs": [
        {
          "output_type": "stream",
          "text": [
            "Go to this URL in a browser: https://accounts.google.com/o/oauth2/auth?client_id=947318989803-6bn6qk8qdgf4n4g3pfee6491hc0brc4i.apps.googleusercontent.com&redirect_uri=urn%3aietf%3awg%3aoauth%3a2.0%3aoob&response_type=code&scope=email%20https%3a%2f%2fwww.googleapis.com%2fauth%2fdocs.test%20https%3a%2f%2fwww.googleapis.com%2fauth%2fdrive%20https%3a%2f%2fwww.googleapis.com%2fauth%2fdrive.photos.readonly%20https%3a%2f%2fwww.googleapis.com%2fauth%2fpeopleapi.readonly\n",
            "\n",
            "Enter your authorization code:\n",
            "··········\n",
            "Mounted at /content/gdrive\n"
          ],
          "name": "stdout"
        }
      ]
    },
    {
      "cell_type": "code",
      "metadata": {
        "id": "mAz2vMeqAyTL",
        "colab_type": "code",
        "colab": {}
      },
      "source": [
        "import pandas as pd \n",
        "stock='MRK'\n",
        "df=pd.read_csv('gdrive/My Drive/SS_AITrader/'+stock+'/df_'+stock+'_20drtn_features.csv')"
      ],
      "execution_count": 361,
      "outputs": []
    },
    {
      "cell_type": "code",
      "metadata": {
        "id": "I0Qvmpz-BCSt",
        "colab_type": "code",
        "colab": {
          "base_uri": "https://localhost:8080/",
          "height": 312
        },
        "outputId": "90afc90a-ec05-4af6-8f72-8b97cb9b3190"
      },
      "source": [
        "df.head()"
      ],
      "execution_count": 362,
      "outputs": [
        {
          "output_type": "execute_result",
          "data": {
            "text/html": [
              "<div>\n",
              "<style scoped>\n",
              "    .dataframe tbody tr th:only-of-type {\n",
              "        vertical-align: middle;\n",
              "    }\n",
              "\n",
              "    .dataframe tbody tr th {\n",
              "        vertical-align: top;\n",
              "    }\n",
              "\n",
              "    .dataframe thead th {\n",
              "        text-align: right;\n",
              "    }\n",
              "</style>\n",
              "<table border=\"1\" class=\"dataframe\">\n",
              "  <thead>\n",
              "    <tr style=\"text-align: right;\">\n",
              "      <th></th>\n",
              "      <th>timestamp</th>\n",
              "      <th>rsi_10</th>\n",
              "      <th>rsi_15</th>\n",
              "      <th>rsi_20</th>\n",
              "      <th>rsi_40</th>\n",
              "      <th>wr_10</th>\n",
              "      <th>wr_15</th>\n",
              "      <th>wr_20</th>\n",
              "      <th>wr_40</th>\n",
              "      <th>mfi_10</th>\n",
              "      <th>mfi_15</th>\n",
              "      <th>mfi_20</th>\n",
              "      <th>mfi_40</th>\n",
              "      <th>roc_1</th>\n",
              "      <th>roc_3</th>\n",
              "      <th>roc_5</th>\n",
              "      <th>roc_10</th>\n",
              "      <th>roc_20</th>\n",
              "      <th>trix_10</th>\n",
              "      <th>trix_15</th>\n",
              "      <th>trix_20</th>\n",
              "      <th>trix_40</th>\n",
              "      <th>macd10</th>\n",
              "      <th>macd15</th>\n",
              "      <th>macd20</th>\n",
              "      <th>macd40</th>\n",
              "      <th>cci_5</th>\n",
              "      <th>cci_10</th>\n",
              "      <th>cci_15</th>\n",
              "      <th>cci_25</th>\n",
              "      <th>kst_20</th>\n",
              "      <th>kst_40</th>\n",
              "      <th>ibr</th>\n",
              "      <th>bb_h10</th>\n",
              "      <th>bb_l10</th>\n",
              "      <th>bb_h15</th>\n",
              "      <th>bb_l15</th>\n",
              "      <th>bb_h20</th>\n",
              "      <th>bb_l20</th>\n",
              "      <th>bb_h40</th>\n",
              "      <th>bb_l40</th>\n",
              "      <th>realised_vol_10</th>\n",
              "      <th>realised_vol_change_5d_10</th>\n",
              "      <th>realised_vol_20</th>\n",
              "      <th>realised_vol_change_5d_20</th>\n",
              "      <th>realised_vol_40</th>\n",
              "      <th>realised_vol_change_5d_40</th>\n",
              "      <th>vix_level</th>\n",
              "      <th>vix_1d_change</th>\n",
              "      <th>vix_5d_change</th>\n",
              "      <th>forcei_10</th>\n",
              "      <th>forcei_15</th>\n",
              "      <th>forcei_20</th>\n",
              "      <th>forcei_40</th>\n",
              "      <th>cmf_10</th>\n",
              "      <th>cmf_15</th>\n",
              "      <th>cmf_20</th>\n",
              "      <th>cmf_40</th>\n",
              "      <th>volume_delta</th>\n",
              "      <th>curve</th>\n",
              "      <th>curve_shift</th>\n",
              "      <th>curve_shift_5d</th>\n",
              "      <th>dollarix_1d_change</th>\n",
              "      <th>dollarix_5d_change</th>\n",
              "      <th>labels</th>\n",
              "    </tr>\n",
              "  </thead>\n",
              "  <tbody>\n",
              "    <tr>\n",
              "      <th>0</th>\n",
              "      <td>2008-03-06</td>\n",
              "      <td>11.677793</td>\n",
              "      <td>26.610465</td>\n",
              "      <td>35.445346</td>\n",
              "      <td>28.334963</td>\n",
              "      <td>-98.264684</td>\n",
              "      <td>-98.648682</td>\n",
              "      <td>-98.648682</td>\n",
              "      <td>-99.576057</td>\n",
              "      <td>8.336545</td>\n",
              "      <td>20.400147</td>\n",
              "      <td>39.730985</td>\n",
              "      <td>25.485069</td>\n",
              "      <td>-1.988441</td>\n",
              "      <td>-3.790290</td>\n",
              "      <td>-6.216817</td>\n",
              "      <td>-8.107526</td>\n",
              "      <td>-7.263180</td>\n",
              "      <td>-0.454792</td>\n",
              "      <td>-0.535048</td>\n",
              "      <td>-0.542240</td>\n",
              "      <td>-0.275986</td>\n",
              "      <td>-1.836419</td>\n",
              "      <td>-1.836419</td>\n",
              "      <td>-1.836419</td>\n",
              "      <td>-1.836419</td>\n",
              "      <td>-121.175404</td>\n",
              "      <td>-123.842266</td>\n",
              "      <td>-146.624130</td>\n",
              "      <td>-199.393746</td>\n",
              "      <td>-107.122049</td>\n",
              "      <td>-120.582003</td>\n",
              "      <td>0.082472</td>\n",
              "      <td>0.0</td>\n",
              "      <td>0.0</td>\n",
              "      <td>0.0</td>\n",
              "      <td>1.0</td>\n",
              "      <td>0.0</td>\n",
              "      <td>1.0</td>\n",
              "      <td>0.0</td>\n",
              "      <td>0.0</td>\n",
              "      <td>0.173075</td>\n",
              "      <td>-0.020998</td>\n",
              "      <td>0.244899</td>\n",
              "      <td>-0.034358</td>\n",
              "      <td>0.320751</td>\n",
              "      <td>-0.017503</td>\n",
              "      <td>27.549999</td>\n",
              "      <td>2.949999</td>\n",
              "      <td>4.019999</td>\n",
              "      <td>-8.878482e+06</td>\n",
              "      <td>-8.878482e+06</td>\n",
              "      <td>-8.878482e+06</td>\n",
              "      <td>-8.878482e+06</td>\n",
              "      <td>-0.222352</td>\n",
              "      <td>-0.211977</td>\n",
              "      <td>-0.120590</td>\n",
              "      <td>0.019555</td>\n",
              "      <td>-0.106337</td>\n",
              "      <td>2.257</td>\n",
              "      <td>0.044</td>\n",
              "      <td>0.397</td>\n",
              "      <td>-0.480003</td>\n",
              "      <td>-0.720001</td>\n",
              "      <td>0.0</td>\n",
              "    </tr>\n",
              "    <tr>\n",
              "      <th>1</th>\n",
              "      <td>2008-03-07</td>\n",
              "      <td>12.221817</td>\n",
              "      <td>15.760495</td>\n",
              "      <td>34.367533</td>\n",
              "      <td>24.233596</td>\n",
              "      <td>-95.740747</td>\n",
              "      <td>-96.572287</td>\n",
              "      <td>-96.572287</td>\n",
              "      <td>-98.830114</td>\n",
              "      <td>8.234080</td>\n",
              "      <td>20.284305</td>\n",
              "      <td>33.313851</td>\n",
              "      <td>23.018455</td>\n",
              "      <td>-1.509789</td>\n",
              "      <td>-4.593232</td>\n",
              "      <td>-5.756206</td>\n",
              "      <td>-9.377034</td>\n",
              "      <td>-8.643328</td>\n",
              "      <td>-0.498258</td>\n",
              "      <td>-0.541628</td>\n",
              "      <td>-0.544849</td>\n",
              "      <td>-0.283319</td>\n",
              "      <td>-1.933714</td>\n",
              "      <td>-1.933714</td>\n",
              "      <td>-1.933714</td>\n",
              "      <td>-1.933714</td>\n",
              "      <td>-112.739018</td>\n",
              "      <td>-124.895619</td>\n",
              "      <td>-142.636175</td>\n",
              "      <td>-194.939267</td>\n",
              "      <td>-109.281399</td>\n",
              "      <td>-124.646570</td>\n",
              "      <td>0.155405</td>\n",
              "      <td>0.0</td>\n",
              "      <td>0.0</td>\n",
              "      <td>0.0</td>\n",
              "      <td>0.0</td>\n",
              "      <td>0.0</td>\n",
              "      <td>1.0</td>\n",
              "      <td>0.0</td>\n",
              "      <td>0.0</td>\n",
              "      <td>0.171152</td>\n",
              "      <td>-0.032500</td>\n",
              "      <td>0.247811</td>\n",
              "      <td>-0.039497</td>\n",
              "      <td>0.315917</td>\n",
              "      <td>-0.023732</td>\n",
              "      <td>27.490000</td>\n",
              "      <td>-0.059999</td>\n",
              "      <td>0.949999</td>\n",
              "      <td>-9.199881e+06</td>\n",
              "      <td>-9.199881e+06</td>\n",
              "      <td>-9.199881e+06</td>\n",
              "      <td>-9.199881e+06</td>\n",
              "      <td>-0.318679</td>\n",
              "      <td>-0.212743</td>\n",
              "      <td>-0.145858</td>\n",
              "      <td>-0.006505</td>\n",
              "      <td>-0.001921</td>\n",
              "      <td>2.141</td>\n",
              "      <td>-0.116</td>\n",
              "      <td>0.392</td>\n",
              "      <td>0.029999</td>\n",
              "      <td>-0.680000</td>\n",
              "      <td>0.0</td>\n",
              "    </tr>\n",
              "    <tr>\n",
              "      <th>2</th>\n",
              "      <td>2008-03-10</td>\n",
              "      <td>11.420527</td>\n",
              "      <td>16.119384</td>\n",
              "      <td>33.142599</td>\n",
              "      <td>22.043080</td>\n",
              "      <td>-96.075094</td>\n",
              "      <td>-96.805562</td>\n",
              "      <td>-96.805562</td>\n",
              "      <td>-98.858563</td>\n",
              "      <td>0.000000</td>\n",
              "      <td>12.576454</td>\n",
              "      <td>33.601023</td>\n",
              "      <td>20.959595</td>\n",
              "      <td>-1.173657</td>\n",
              "      <td>-4.601160</td>\n",
              "      <td>-6.354977</td>\n",
              "      <td>-11.818770</td>\n",
              "      <td>-7.343365</td>\n",
              "      <td>-0.546515</td>\n",
              "      <td>-0.552581</td>\n",
              "      <td>-0.549540</td>\n",
              "      <td>-0.290803</td>\n",
              "      <td>-2.026995</td>\n",
              "      <td>-2.026995</td>\n",
              "      <td>-2.026995</td>\n",
              "      <td>-2.026995</td>\n",
              "      <td>-116.090693</td>\n",
              "      <td>-129.853607</td>\n",
              "      <td>-142.717000</td>\n",
              "      <td>-192.285206</td>\n",
              "      <td>-113.461584</td>\n",
              "      <td>-130.584755</td>\n",
              "      <td>0.261363</td>\n",
              "      <td>0.0</td>\n",
              "      <td>0.0</td>\n",
              "      <td>0.0</td>\n",
              "      <td>0.0</td>\n",
              "      <td>0.0</td>\n",
              "      <td>1.0</td>\n",
              "      <td>0.0</td>\n",
              "      <td>0.0</td>\n",
              "      <td>0.096332</td>\n",
              "      <td>-0.077805</td>\n",
              "      <td>0.236713</td>\n",
              "      <td>-0.050869</td>\n",
              "      <td>0.315212</td>\n",
              "      <td>-0.024165</td>\n",
              "      <td>29.379999</td>\n",
              "      <td>1.889999</td>\n",
              "      <td>3.099998</td>\n",
              "      <td>-8.152322e+06</td>\n",
              "      <td>-8.152322e+06</td>\n",
              "      <td>-8.152322e+06</td>\n",
              "      <td>-8.152322e+06</td>\n",
              "      <td>-0.409535</td>\n",
              "      <td>-0.274467</td>\n",
              "      <td>-0.136257</td>\n",
              "      <td>-0.022165</td>\n",
              "      <td>-0.196213</td>\n",
              "      <td>2.138</td>\n",
              "      <td>-0.003</td>\n",
              "      <td>0.239</td>\n",
              "      <td>-0.040001</td>\n",
              "      <td>-0.709999</td>\n",
              "      <td>0.0</td>\n",
              "    </tr>\n",
              "    <tr>\n",
              "      <th>3</th>\n",
              "      <td>2008-03-11</td>\n",
              "      <td>17.558402</td>\n",
              "      <td>20.978702</td>\n",
              "      <td>41.818913</td>\n",
              "      <td>24.458478</td>\n",
              "      <td>-75.239919</td>\n",
              "      <td>-79.748817</td>\n",
              "      <td>-82.083323</td>\n",
              "      <td>-93.156495</td>\n",
              "      <td>10.930056</td>\n",
              "      <td>13.185241</td>\n",
              "      <td>34.426659</td>\n",
              "      <td>21.221841</td>\n",
              "      <td>2.569078</td>\n",
              "      <td>-0.165133</td>\n",
              "      <td>-3.290673</td>\n",
              "      <td>-8.773442</td>\n",
              "      <td>-6.598988</td>\n",
              "      <td>-0.576709</td>\n",
              "      <td>-0.560854</td>\n",
              "      <td>-0.553480</td>\n",
              "      <td>-0.298127</td>\n",
              "      <td>-1.992420</td>\n",
              "      <td>-1.992420</td>\n",
              "      <td>-1.992420</td>\n",
              "      <td>-1.992420</td>\n",
              "      <td>-40.572787</td>\n",
              "      <td>-85.805430</td>\n",
              "      <td>-105.498964</td>\n",
              "      <td>-146.666014</td>\n",
              "      <td>-114.506356</td>\n",
              "      <td>-133.589530</td>\n",
              "      <td>0.953124</td>\n",
              "      <td>0.0</td>\n",
              "      <td>0.0</td>\n",
              "      <td>0.0</td>\n",
              "      <td>0.0</td>\n",
              "      <td>0.0</td>\n",
              "      <td>0.0</td>\n",
              "      <td>0.0</td>\n",
              "      <td>0.0</td>\n",
              "      <td>0.215325</td>\n",
              "      <td>0.041598</td>\n",
              "      <td>0.247942</td>\n",
              "      <td>-0.009577</td>\n",
              "      <td>0.326267</td>\n",
              "      <td>-0.013079</td>\n",
              "      <td>26.360001</td>\n",
              "      <td>-3.019999</td>\n",
              "      <td>0.840000</td>\n",
              "      <td>4.150188e+05</td>\n",
              "      <td>4.150188e+05</td>\n",
              "      <td>4.150188e+05</td>\n",
              "      <td>4.150188e+05</td>\n",
              "      <td>-0.261980</td>\n",
              "      <td>-0.144114</td>\n",
              "      <td>-0.113780</td>\n",
              "      <td>-0.001664</td>\n",
              "      <td>0.339333</td>\n",
              "      <td>2.156</td>\n",
              "      <td>0.018</td>\n",
              "      <td>0.172</td>\n",
              "      <td>0.290001</td>\n",
              "      <td>-0.380005</td>\n",
              "      <td>0.0</td>\n",
              "    </tr>\n",
              "    <tr>\n",
              "      <th>4</th>\n",
              "      <td>2008-03-12</td>\n",
              "      <td>19.014238</td>\n",
              "      <td>22.715388</td>\n",
              "      <td>38.557011</td>\n",
              "      <td>24.514132</td>\n",
              "      <td>-68.859615</td>\n",
              "      <td>-77.707985</td>\n",
              "      <td>-80.277752</td>\n",
              "      <td>-92.353247</td>\n",
              "      <td>21.652856</td>\n",
              "      <td>20.463145</td>\n",
              "      <td>32.915776</td>\n",
              "      <td>23.156668</td>\n",
              "      <td>0.307186</td>\n",
              "      <td>1.676649</td>\n",
              "      <td>-1.849709</td>\n",
              "      <td>-6.580101</td>\n",
              "      <td>-8.768532</td>\n",
              "      <td>-0.589460</td>\n",
              "      <td>-0.565476</td>\n",
              "      <td>-0.556136</td>\n",
              "      <td>-0.305213</td>\n",
              "      <td>-1.932255</td>\n",
              "      <td>-1.932255</td>\n",
              "      <td>-1.932255</td>\n",
              "      <td>-1.932255</td>\n",
              "      <td>88.812428</td>\n",
              "      <td>-28.932435</td>\n",
              "      <td>-63.197380</td>\n",
              "      <td>-99.927627</td>\n",
              "      <td>-115.664250</td>\n",
              "      <td>-136.148405</td>\n",
              "      <td>0.195652</td>\n",
              "      <td>0.0</td>\n",
              "      <td>0.0</td>\n",
              "      <td>0.0</td>\n",
              "      <td>0.0</td>\n",
              "      <td>0.0</td>\n",
              "      <td>0.0</td>\n",
              "      <td>0.0</td>\n",
              "      <td>0.0</td>\n",
              "      <td>0.212790</td>\n",
              "      <td>0.041440</td>\n",
              "      <td>0.222541</td>\n",
              "      <td>-0.014883</td>\n",
              "      <td>0.327418</td>\n",
              "      <td>-0.005920</td>\n",
              "      <td>27.219999</td>\n",
              "      <td>0.859999</td>\n",
              "      <td>2.619999</td>\n",
              "      <td>9.548687e+05</td>\n",
              "      <td>9.548687e+05</td>\n",
              "      <td>9.548687e+05</td>\n",
              "      <td>9.548687e+05</td>\n",
              "      <td>-0.253173</td>\n",
              "      <td>-0.247603</td>\n",
              "      <td>-0.171131</td>\n",
              "      <td>-0.029677</td>\n",
              "      <td>-0.054716</td>\n",
              "      <td>2.043</td>\n",
              "      <td>-0.113</td>\n",
              "      <td>-0.170</td>\n",
              "      <td>-0.879997</td>\n",
              "      <td>-1.080002</td>\n",
              "      <td>0.0</td>\n",
              "    </tr>\n",
              "  </tbody>\n",
              "</table>\n",
              "</div>"
            ],
            "text/plain": [
              "    timestamp     rsi_10  ...  dollarix_5d_change  labels\n",
              "0  2008-03-06  11.677793  ...           -0.720001     0.0\n",
              "1  2008-03-07  12.221817  ...           -0.680000     0.0\n",
              "2  2008-03-10  11.420527  ...           -0.709999     0.0\n",
              "3  2008-03-11  17.558402  ...           -0.380005     0.0\n",
              "4  2008-03-12  19.014238  ...           -1.080002     0.0\n",
              "\n",
              "[5 rows x 65 columns]"
            ]
          },
          "metadata": {
            "tags": []
          },
          "execution_count": 362
        }
      ]
    },
    {
      "cell_type": "code",
      "metadata": {
        "id": "1qE_jesFKOpZ",
        "colab_type": "code",
        "colab": {}
      },
      "source": [
        "df['timestamp'] = pd.to_datetime(df['timestamp'])"
      ],
      "execution_count": 363,
      "outputs": []
    },
    {
      "cell_type": "code",
      "metadata": {
        "id": "qTGO7R82NRMH",
        "colab_type": "code",
        "colab": {}
      },
      "source": [
        "from_date='2010-01-01'\n",
        "to_date='2020-01-01'"
      ],
      "execution_count": 364,
      "outputs": []
    },
    {
      "cell_type": "code",
      "metadata": {
        "id": "Hy0qnGa0NZpz",
        "colab_type": "code",
        "colab": {}
      },
      "source": [
        "df = df[pd.to_datetime(from_date) < df['timestamp'] ]\n",
        "df = df[pd.to_datetime(to_date) > df['timestamp'] ]\n"
      ],
      "execution_count": 365,
      "outputs": []
    },
    {
      "cell_type": "code",
      "metadata": {
        "id": "inuuZ7pWKXup",
        "colab_type": "code",
        "colab": {
          "base_uri": "https://localhost:8080/",
          "height": 312
        },
        "outputId": "a26f4cea-a2e4-4ce5-ad8d-360c7b39d226"
      },
      "source": [
        "df.head()"
      ],
      "execution_count": 366,
      "outputs": [
        {
          "output_type": "execute_result",
          "data": {
            "text/html": [
              "<div>\n",
              "<style scoped>\n",
              "    .dataframe tbody tr th:only-of-type {\n",
              "        vertical-align: middle;\n",
              "    }\n",
              "\n",
              "    .dataframe tbody tr th {\n",
              "        vertical-align: top;\n",
              "    }\n",
              "\n",
              "    .dataframe thead th {\n",
              "        text-align: right;\n",
              "    }\n",
              "</style>\n",
              "<table border=\"1\" class=\"dataframe\">\n",
              "  <thead>\n",
              "    <tr style=\"text-align: right;\">\n",
              "      <th></th>\n",
              "      <th>timestamp</th>\n",
              "      <th>rsi_10</th>\n",
              "      <th>rsi_15</th>\n",
              "      <th>rsi_20</th>\n",
              "      <th>rsi_40</th>\n",
              "      <th>wr_10</th>\n",
              "      <th>wr_15</th>\n",
              "      <th>wr_20</th>\n",
              "      <th>wr_40</th>\n",
              "      <th>mfi_10</th>\n",
              "      <th>mfi_15</th>\n",
              "      <th>mfi_20</th>\n",
              "      <th>mfi_40</th>\n",
              "      <th>roc_1</th>\n",
              "      <th>roc_3</th>\n",
              "      <th>roc_5</th>\n",
              "      <th>roc_10</th>\n",
              "      <th>roc_20</th>\n",
              "      <th>trix_10</th>\n",
              "      <th>trix_15</th>\n",
              "      <th>trix_20</th>\n",
              "      <th>trix_40</th>\n",
              "      <th>macd10</th>\n",
              "      <th>macd15</th>\n",
              "      <th>macd20</th>\n",
              "      <th>macd40</th>\n",
              "      <th>cci_5</th>\n",
              "      <th>cci_10</th>\n",
              "      <th>cci_15</th>\n",
              "      <th>cci_25</th>\n",
              "      <th>kst_20</th>\n",
              "      <th>kst_40</th>\n",
              "      <th>ibr</th>\n",
              "      <th>bb_h10</th>\n",
              "      <th>bb_l10</th>\n",
              "      <th>bb_h15</th>\n",
              "      <th>bb_l15</th>\n",
              "      <th>bb_h20</th>\n",
              "      <th>bb_l20</th>\n",
              "      <th>bb_h40</th>\n",
              "      <th>bb_l40</th>\n",
              "      <th>realised_vol_10</th>\n",
              "      <th>realised_vol_change_5d_10</th>\n",
              "      <th>realised_vol_20</th>\n",
              "      <th>realised_vol_change_5d_20</th>\n",
              "      <th>realised_vol_40</th>\n",
              "      <th>realised_vol_change_5d_40</th>\n",
              "      <th>vix_level</th>\n",
              "      <th>vix_1d_change</th>\n",
              "      <th>vix_5d_change</th>\n",
              "      <th>forcei_10</th>\n",
              "      <th>forcei_15</th>\n",
              "      <th>forcei_20</th>\n",
              "      <th>forcei_40</th>\n",
              "      <th>cmf_10</th>\n",
              "      <th>cmf_15</th>\n",
              "      <th>cmf_20</th>\n",
              "      <th>cmf_40</th>\n",
              "      <th>volume_delta</th>\n",
              "      <th>curve</th>\n",
              "      <th>curve_shift</th>\n",
              "      <th>curve_shift_5d</th>\n",
              "      <th>dollarix_1d_change</th>\n",
              "      <th>dollarix_5d_change</th>\n",
              "      <th>labels</th>\n",
              "    </tr>\n",
              "  </thead>\n",
              "  <tbody>\n",
              "    <tr>\n",
              "      <th>445</th>\n",
              "      <td>2010-01-05</td>\n",
              "      <td>48.228591</td>\n",
              "      <td>46.329680</td>\n",
              "      <td>52.997139</td>\n",
              "      <td>66.529875</td>\n",
              "      <td>-65.624975</td>\n",
              "      <td>-65.624975</td>\n",
              "      <td>-54.310280</td>\n",
              "      <td>-20.322564</td>\n",
              "      <td>55.131932</td>\n",
              "      <td>65.395923</td>\n",
              "      <td>60.119500</td>\n",
              "      <td>66.272610</td>\n",
              "      <td>0.405300</td>\n",
              "      <td>0.269829</td>\n",
              "      <td>-0.348622</td>\n",
              "      <td>-0.641716</td>\n",
              "      <td>1.253403</td>\n",
              "      <td>0.083406</td>\n",
              "      <td>0.242288</td>\n",
              "      <td>0.298182</td>\n",
              "      <td>0.254169</td>\n",
              "      <td>0.380283</td>\n",
              "      <td>0.380283</td>\n",
              "      <td>0.380283</td>\n",
              "      <td>0.380283</td>\n",
              "      <td>72.376101</td>\n",
              "      <td>-10.113186</td>\n",
              "      <td>-37.813428</td>\n",
              "      <td>6.916901</td>\n",
              "      <td>61.960297</td>\n",
              "      <td>76.980881</td>\n",
              "      <td>0.442306</td>\n",
              "      <td>0.0</td>\n",
              "      <td>0.0</td>\n",
              "      <td>0.0</td>\n",
              "      <td>0.0</td>\n",
              "      <td>0.0</td>\n",
              "      <td>0.0</td>\n",
              "      <td>0.0</td>\n",
              "      <td>0.0</td>\n",
              "      <td>0.145376</td>\n",
              "      <td>-0.017789</td>\n",
              "      <td>0.170580</td>\n",
              "      <td>0.003154</td>\n",
              "      <td>0.189406</td>\n",
              "      <td>-0.058499</td>\n",
              "      <td>19.350000</td>\n",
              "      <td>-0.690001</td>\n",
              "      <td>-0.580000</td>\n",
              "      <td>1.510813e+06</td>\n",
              "      <td>1.510813e+06</td>\n",
              "      <td>1.510813e+06</td>\n",
              "      <td>1.510813e+06</td>\n",
              "      <td>-0.148697</td>\n",
              "      <td>-0.109427</td>\n",
              "      <td>-0.109707</td>\n",
              "      <td>0.039378</td>\n",
              "      <td>0.061044</td>\n",
              "      <td>3.695</td>\n",
              "      <td>-0.091</td>\n",
              "      <td>-0.092</td>\n",
              "      <td>0.090004</td>\n",
              "      <td>-0.009995</td>\n",
              "      <td>1.0</td>\n",
              "    </tr>\n",
              "    <tr>\n",
              "      <th>446</th>\n",
              "      <td>2010-01-06</td>\n",
              "      <td>54.730162</td>\n",
              "      <td>56.151688</td>\n",
              "      <td>56.959287</td>\n",
              "      <td>67.570215</td>\n",
              "      <td>-21.621608</td>\n",
              "      <td>-39.583284</td>\n",
              "      <td>-32.758553</td>\n",
              "      <td>-13.286690</td>\n",
              "      <td>55.246898</td>\n",
              "      <td>65.881207</td>\n",
              "      <td>64.508063</td>\n",
              "      <td>68.937561</td>\n",
              "      <td>1.345533</td>\n",
              "      <td>3.065131</td>\n",
              "      <td>1.509438</td>\n",
              "      <td>-0.079593</td>\n",
              "      <td>2.615801</td>\n",
              "      <td>0.073309</td>\n",
              "      <td>0.224986</td>\n",
              "      <td>0.286304</td>\n",
              "      <td>0.254055</td>\n",
              "      <td>0.396451</td>\n",
              "      <td>0.396451</td>\n",
              "      <td>0.396451</td>\n",
              "      <td>0.396451</td>\n",
              "      <td>124.833962</td>\n",
              "      <td>75.024995</td>\n",
              "      <td>20.066478</td>\n",
              "      <td>46.203730</td>\n",
              "      <td>55.761980</td>\n",
              "      <td>70.792078</td>\n",
              "      <td>0.915663</td>\n",
              "      <td>0.0</td>\n",
              "      <td>0.0</td>\n",
              "      <td>0.0</td>\n",
              "      <td>0.0</td>\n",
              "      <td>0.0</td>\n",
              "      <td>0.0</td>\n",
              "      <td>0.0</td>\n",
              "      <td>0.0</td>\n",
              "      <td>0.156915</td>\n",
              "      <td>0.028019</td>\n",
              "      <td>0.176456</td>\n",
              "      <td>0.007891</td>\n",
              "      <td>0.190232</td>\n",
              "      <td>-0.055239</td>\n",
              "      <td>19.160000</td>\n",
              "      <td>-0.190001</td>\n",
              "      <td>-0.850000</td>\n",
              "      <td>3.547192e+06</td>\n",
              "      <td>3.547192e+06</td>\n",
              "      <td>3.547192e+06</td>\n",
              "      <td>3.547192e+06</td>\n",
              "      <td>0.037677</td>\n",
              "      <td>-0.099404</td>\n",
              "      <td>-0.053418</td>\n",
              "      <td>0.058868</td>\n",
              "      <td>0.033578</td>\n",
              "      <td>3.763</td>\n",
              "      <td>0.068</td>\n",
              "      <td>0.049</td>\n",
              "      <td>-0.130005</td>\n",
              "      <td>-0.340004</td>\n",
              "      <td>0.0</td>\n",
              "    </tr>\n",
              "    <tr>\n",
              "      <th>447</th>\n",
              "      <td>2010-01-07</td>\n",
              "      <td>50.599827</td>\n",
              "      <td>49.482210</td>\n",
              "      <td>57.181909</td>\n",
              "      <td>68.259698</td>\n",
              "      <td>-12.857151</td>\n",
              "      <td>-36.458209</td>\n",
              "      <td>-30.172286</td>\n",
              "      <td>-12.589879</td>\n",
              "      <td>67.477904</td>\n",
              "      <td>65.709811</td>\n",
              "      <td>69.720742</td>\n",
              "      <td>68.228325</td>\n",
              "      <td>0.159324</td>\n",
              "      <td>1.918408</td>\n",
              "      <td>1.780895</td>\n",
              "      <td>-0.079467</td>\n",
              "      <td>3.768921</td>\n",
              "      <td>0.072486</td>\n",
              "      <td>0.211297</td>\n",
              "      <td>0.275647</td>\n",
              "      <td>0.253825</td>\n",
              "      <td>0.409387</td>\n",
              "      <td>0.409387</td>\n",
              "      <td>0.409387</td>\n",
              "      <td>0.409387</td>\n",
              "      <td>110.959817</td>\n",
              "      <td>156.315020</td>\n",
              "      <td>77.762184</td>\n",
              "      <td>85.615138</td>\n",
              "      <td>50.391877</td>\n",
              "      <td>64.904039</td>\n",
              "      <td>0.639999</td>\n",
              "      <td>0.0</td>\n",
              "      <td>0.0</td>\n",
              "      <td>0.0</td>\n",
              "      <td>0.0</td>\n",
              "      <td>0.0</td>\n",
              "      <td>0.0</td>\n",
              "      <td>0.0</td>\n",
              "      <td>0.0</td>\n",
              "      <td>0.156915</td>\n",
              "      <td>0.035430</td>\n",
              "      <td>0.171707</td>\n",
              "      <td>0.015845</td>\n",
              "      <td>0.181579</td>\n",
              "      <td>-0.063808</td>\n",
              "      <td>19.059999</td>\n",
              "      <td>-0.100000</td>\n",
              "      <td>-0.900000</td>\n",
              "      <td>2.603132e+06</td>\n",
              "      <td>2.603132e+06</td>\n",
              "      <td>2.603132e+06</td>\n",
              "      <td>2.603132e+06</td>\n",
              "      <td>0.078153</td>\n",
              "      <td>-0.148001</td>\n",
              "      <td>0.001652</td>\n",
              "      <td>0.026395</td>\n",
              "      <td>-0.218066</td>\n",
              "      <td>3.777</td>\n",
              "      <td>0.014</td>\n",
              "      <td>0.033</td>\n",
              "      <td>0.420006</td>\n",
              "      <td>0.000000</td>\n",
              "      <td>0.0</td>\n",
              "    </tr>\n",
              "    <tr>\n",
              "      <th>448</th>\n",
              "      <td>2010-01-08</td>\n",
              "      <td>49.133173</td>\n",
              "      <td>46.412794</td>\n",
              "      <td>59.931809</td>\n",
              "      <td>66.134996</td>\n",
              "      <td>-14.285753</td>\n",
              "      <td>-37.499901</td>\n",
              "      <td>-37.499901</td>\n",
              "      <td>-12.949599</td>\n",
              "      <td>68.688261</td>\n",
              "      <td>58.998706</td>\n",
              "      <td>64.831304</td>\n",
              "      <td>66.259930</td>\n",
              "      <td>-0.053023</td>\n",
              "      <td>1.453178</td>\n",
              "      <td>3.174603</td>\n",
              "      <td>1.208056</td>\n",
              "      <td>1.480482</td>\n",
              "      <td>0.076037</td>\n",
              "      <td>0.200078</td>\n",
              "      <td>0.265869</td>\n",
              "      <td>0.253458</td>\n",
              "      <td>0.413261</td>\n",
              "      <td>0.413261</td>\n",
              "      <td>0.413261</td>\n",
              "      <td>0.413261</td>\n",
              "      <td>76.656102</td>\n",
              "      <td>130.795850</td>\n",
              "      <td>81.600528</td>\n",
              "      <td>78.476981</td>\n",
              "      <td>44.509307</td>\n",
              "      <td>58.888416</td>\n",
              "      <td>0.586959</td>\n",
              "      <td>0.0</td>\n",
              "      <td>0.0</td>\n",
              "      <td>0.0</td>\n",
              "      <td>0.0</td>\n",
              "      <td>0.0</td>\n",
              "      <td>0.0</td>\n",
              "      <td>0.0</td>\n",
              "      <td>0.0</td>\n",
              "      <td>0.138891</td>\n",
              "      <td>0.005210</td>\n",
              "      <td>0.154486</td>\n",
              "      <td>-0.009341</td>\n",
              "      <td>0.181702</td>\n",
              "      <td>-0.061006</td>\n",
              "      <td>18.129999</td>\n",
              "      <td>-0.930000</td>\n",
              "      <td>-3.550001</td>\n",
              "      <td>1.663639e+06</td>\n",
              "      <td>1.663639e+06</td>\n",
              "      <td>1.663639e+06</td>\n",
              "      <td>1.663639e+06</td>\n",
              "      <td>0.180042</td>\n",
              "      <td>-0.124878</td>\n",
              "      <td>-0.049208</td>\n",
              "      <td>0.020300</td>\n",
              "      <td>-0.096462</td>\n",
              "      <td>3.768</td>\n",
              "      <td>-0.009</td>\n",
              "      <td>-0.025</td>\n",
              "      <td>-0.440002</td>\n",
              "      <td>-0.389999</td>\n",
              "      <td>0.0</td>\n",
              "    </tr>\n",
              "    <tr>\n",
              "      <th>449</th>\n",
              "      <td>2010-01-11</td>\n",
              "      <td>61.519288</td>\n",
              "      <td>51.346635</td>\n",
              "      <td>55.757187</td>\n",
              "      <td>66.070478</td>\n",
              "      <td>-4.929562</td>\n",
              "      <td>-29.687512</td>\n",
              "      <td>-29.687512</td>\n",
              "      <td>-10.251798</td>\n",
              "      <td>75.335484</td>\n",
              "      <td>67.137344</td>\n",
              "      <td>64.143234</td>\n",
              "      <td>68.526394</td>\n",
              "      <td>0.397872</td>\n",
              "      <td>0.504510</td>\n",
              "      <td>2.269657</td>\n",
              "      <td>2.324944</td>\n",
              "      <td>0.825779</td>\n",
              "      <td>0.083631</td>\n",
              "      <td>0.191396</td>\n",
              "      <td>0.257116</td>\n",
              "      <td>0.252995</td>\n",
              "      <td>0.423552</td>\n",
              "      <td>0.423552</td>\n",
              "      <td>0.423552</td>\n",
              "      <td>0.423552</td>\n",
              "      <td>75.034625</td>\n",
              "      <td>112.015194</td>\n",
              "      <td>90.796729</td>\n",
              "      <td>87.311443</td>\n",
              "      <td>41.708874</td>\n",
              "      <td>55.972649</td>\n",
              "      <td>0.833333</td>\n",
              "      <td>0.0</td>\n",
              "      <td>0.0</td>\n",
              "      <td>0.0</td>\n",
              "      <td>0.0</td>\n",
              "      <td>0.0</td>\n",
              "      <td>0.0</td>\n",
              "      <td>0.0</td>\n",
              "      <td>0.0</td>\n",
              "      <td>0.131435</td>\n",
              "      <td>-0.013251</td>\n",
              "      <td>0.150735</td>\n",
              "      <td>-0.019592</td>\n",
              "      <td>0.177811</td>\n",
              "      <td>-0.011604</td>\n",
              "      <td>17.549999</td>\n",
              "      <td>-0.580000</td>\n",
              "      <td>-2.490002</td>\n",
              "      <td>1.588175e+06</td>\n",
              "      <td>1.588175e+06</td>\n",
              "      <td>1.588175e+06</td>\n",
              "      <td>1.588175e+06</td>\n",
              "      <td>0.220661</td>\n",
              "      <td>-0.001902</td>\n",
              "      <td>-0.000729</td>\n",
              "      <td>0.050338</td>\n",
              "      <td>-0.110085</td>\n",
              "      <td>3.793</td>\n",
              "      <td>0.025</td>\n",
              "      <td>0.007</td>\n",
              "      <td>-0.470001</td>\n",
              "      <td>-0.529999</td>\n",
              "      <td>0.0</td>\n",
              "    </tr>\n",
              "  </tbody>\n",
              "</table>\n",
              "</div>"
            ],
            "text/plain": [
              "     timestamp     rsi_10  ...  dollarix_5d_change  labels\n",
              "445 2010-01-05  48.228591  ...           -0.009995     1.0\n",
              "446 2010-01-06  54.730162  ...           -0.340004     0.0\n",
              "447 2010-01-07  50.599827  ...            0.000000     0.0\n",
              "448 2010-01-08  49.133173  ...           -0.389999     0.0\n",
              "449 2010-01-11  61.519288  ...           -0.529999     0.0\n",
              "\n",
              "[5 rows x 65 columns]"
            ]
          },
          "metadata": {
            "tags": []
          },
          "execution_count": 366
        }
      ]
    },
    {
      "cell_type": "code",
      "metadata": {
        "id": "KR7WRpTJaRB4",
        "colab_type": "code",
        "colab": {}
      },
      "source": [
        "df.drop(['timestamp'], inplace=True, axis=1)"
      ],
      "execution_count": 367,
      "outputs": []
    },
    {
      "cell_type": "code",
      "metadata": {
        "id": "Anb_cU4SHzkl",
        "colab_type": "code",
        "colab": {}
      },
      "source": [
        "train_dataset = df.sample(frac=0.8,random_state=0)\n",
        "test_dataset = df.drop(train_dataset.index)"
      ],
      "execution_count": 368,
      "outputs": []
    },
    {
      "cell_type": "code",
      "metadata": {
        "id": "KyB_Wb9Fav0m",
        "colab_type": "code",
        "colab": {}
      },
      "source": [
        "train_labels = train_dataset.pop('labels')\n",
        "test_labels = test_dataset.pop('labels')"
      ],
      "execution_count": 369,
      "outputs": []
    },
    {
      "cell_type": "code",
      "metadata": {
        "id": "YumkgVabeud9",
        "colab_type": "code",
        "colab": {
          "base_uri": "https://localhost:8080/",
          "height": 121
        },
        "outputId": "44c72257-9f55-4ff2-9dc7-b078e8ed97f2"
      },
      "source": [
        "train_labels.head()"
      ],
      "execution_count": 370,
      "outputs": [
        {
          "output_type": "execute_result",
          "data": {
            "text/plain": [
              "1856    1.0\n",
              "2747    1.0\n",
              "898     0.0\n",
              "765     1.0\n",
              "1100    1.0\n",
              "Name: labels, dtype: float64"
            ]
          },
          "metadata": {
            "tags": []
          },
          "execution_count": 370
        }
      ]
    },
    {
      "cell_type": "code",
      "metadata": {
        "id": "LQpxY8Kjeh9H",
        "colab_type": "code",
        "colab": {}
      },
      "source": [
        "from sklearn.utils import compute_class_weight\n",
        "def get_sample_weights(y):\n",
        "      y = y.astype(int)  # compute_class_weight needs int labels\n",
        "      class_weights = compute_class_weight('balanced', np.unique(y), y)\n",
        "\n",
        "      print(\"real class weights are {}\".format(class_weights), np.unique(y))\n",
        "      print(\"value_counts\", np.unique(y, return_counts=True))\n",
        "      sample_weights = y.copy().astype(float)\n",
        "      for i in np.unique(y):\n",
        "          sample_weights[sample_weights == i] = class_weights[i]  # if i == 2 else 0.8 * class_weights[i]\n",
        "            # sample_weights = np.where(sample_weights == i, class_weights[int(i)], y_)\n",
        "\n",
        "      return sample_weights\n"
      ],
      "execution_count": 371,
      "outputs": []
    },
    {
      "cell_type": "code",
      "metadata": {
        "id": "iXhEiJnO28kQ",
        "colab_type": "code",
        "colab": {
          "base_uri": "https://localhost:8080/",
          "height": 259
        },
        "outputId": "55118680-ca1c-4580-f963-745a4fa21dd2"
      },
      "source": [
        "get_sample_weights(train_labels)"
      ],
      "execution_count": 372,
      "outputs": [
        {
          "output_type": "stream",
          "text": [
            "real class weights are [1.16251483 0.87735004] [0 1]\n",
            "value_counts (array([0, 1]), array([ 843, 1117]))\n"
          ],
          "name": "stdout"
        },
        {
          "output_type": "execute_result",
          "data": {
            "text/plain": [
              "1856    0.877350\n",
              "2747    0.877350\n",
              "898     1.162515\n",
              "765     0.877350\n",
              "1100    0.877350\n",
              "          ...   \n",
              "2051    0.877350\n",
              "1301    0.877350\n",
              "2192    1.162515\n",
              "1640    1.162515\n",
              "2882    0.877350\n",
              "Name: labels, Length: 1960, dtype: float64"
            ]
          },
          "metadata": {
            "tags": []
          },
          "execution_count": 372
        }
      ]
    },
    {
      "cell_type": "code",
      "metadata": {
        "id": "EmTtLI6ufD7f",
        "colab_type": "code",
        "colab": {
          "base_uri": "https://localhost:8080/",
          "height": 51
        },
        "outputId": "577ff08a-60a9-43bc-89b2-12676aea2725"
      },
      "source": [
        "SAMPLE_WEIGHT=get_sample_weights(train_labels)"
      ],
      "execution_count": 373,
      "outputs": [
        {
          "output_type": "stream",
          "text": [
            "real class weights are [1.16251483 0.87735004] [0 1]\n",
            "value_counts (array([0, 1]), array([ 843, 1117]))\n"
          ],
          "name": "stdout"
        }
      ]
    },
    {
      "cell_type": "code",
      "metadata": {
        "id": "ft6KC349cvWN",
        "colab_type": "code",
        "colab": {}
      },
      "source": [
        "train_stats = train_dataset.describe()\n",
        "train_stats = train_stats.transpose()"
      ],
      "execution_count": 374,
      "outputs": []
    },
    {
      "cell_type": "code",
      "metadata": {
        "id": "zMEH1r2ya1UM",
        "colab_type": "code",
        "colab": {}
      },
      "source": [
        "def norm(x):\n",
        "  return (x - train_stats['mean']) / train_stats['std']\n",
        "normed_train_data = norm(train_dataset)\n",
        "normed_test_data = norm(test_dataset)"
      ],
      "execution_count": 375,
      "outputs": []
    },
    {
      "cell_type": "code",
      "metadata": {
        "id": "QZQxTHBAGIJY",
        "colab_type": "code",
        "colab": {
          "base_uri": "https://localhost:8080/",
          "height": 363
        },
        "outputId": "d07946f9-82ad-4d11-e398-546ec9ee73ec"
      },
      "source": [
        "from sklearn.feature_selection import SelectKBest, f_classif, mutual_info_classif\n",
        "from operator import itemgetter\n",
        "\n",
        "k=20\n",
        "list_features = list(normed_train_data.columns)\n",
        "select_k_best = SelectKBest(f_classif, k=k)\n",
        "select_k_best.fit(normed_train_data, train_labels)\n",
        "selected_features_anova = itemgetter(*select_k_best.get_support(indices=True))(list_features)\n",
        "\n",
        "selected_features_anova"
      ],
      "execution_count": 376,
      "outputs": [
        {
          "output_type": "execute_result",
          "data": {
            "text/plain": [
              "('rsi_15',\n",
              " 'rsi_20',\n",
              " 'rsi_40',\n",
              " 'wr_20',\n",
              " 'wr_40',\n",
              " 'mfi_15',\n",
              " 'mfi_20',\n",
              " 'mfi_40',\n",
              " 'roc_20',\n",
              " 'trix_10',\n",
              " 'trix_15',\n",
              " 'trix_20',\n",
              " 'macd10',\n",
              " 'macd15',\n",
              " 'macd20',\n",
              " 'macd40',\n",
              " 'cci_25',\n",
              " 'kst_20',\n",
              " 'kst_40',\n",
              " 'curve')"
            ]
          },
          "metadata": {
            "tags": []
          },
          "execution_count": 376
        }
      ]
    },
    {
      "cell_type": "code",
      "metadata": {
        "id": "UoGj_iK6JdDy",
        "colab_type": "code",
        "colab": {
          "base_uri": "https://localhost:8080/",
          "height": 363
        },
        "outputId": "f44d3420-fd79-4996-c49f-ed0a49b7352c"
      },
      "source": [
        "select_k_best = SelectKBest(mutual_info_classif, k=k)\n",
        "select_k_best.fit(normed_train_data, train_labels)\n",
        "selected_features_mic = itemgetter(*select_k_best.get_support(indices=True))(list_features)\n",
        "selected_features_mic"
      ],
      "execution_count": 377,
      "outputs": [
        {
          "output_type": "execute_result",
          "data": {
            "text/plain": [
              "('rsi_15',\n",
              " 'rsi_40',\n",
              " 'roc_1',\n",
              " 'roc_20',\n",
              " 'trix_10',\n",
              " 'trix_15',\n",
              " 'trix_20',\n",
              " 'trix_40',\n",
              " 'macd10',\n",
              " 'macd15',\n",
              " 'macd20',\n",
              " 'macd40',\n",
              " 'cci_25',\n",
              " 'kst_20',\n",
              " 'kst_40',\n",
              " 'realised_vol_20',\n",
              " 'realised_vol_40',\n",
              " 'vix_5d_change',\n",
              " 'cmf_40',\n",
              " 'curve')"
            ]
          },
          "metadata": {
            "tags": []
          },
          "execution_count": 377
        }
      ]
    },
    {
      "cell_type": "code",
      "metadata": {
        "id": "VS_4c6YyMHl9",
        "colab_type": "code",
        "colab": {
          "base_uri": "https://localhost:8080/",
          "height": 226
        },
        "outputId": "5bdce988-4fb8-40a9-ff97-0494250c3fb4"
      },
      "source": [
        "list_features = list(normed_train_data.columns)\n",
        "feat_idx = []\n",
        "for c in selected_features_mic:\n",
        "      feat_idx.append(list_features.index(c))\n",
        "\n",
        "feat_idx = sorted(feat_idx)\n",
        "X_train_new=normed_train_data.iloc[:, feat_idx]\n",
        "X_test_new=normed_test_data.iloc[:, feat_idx]\n",
        "#kbest=SelectKBest(f_classif, k=10)\n",
        "#X_train_new = kbest.fit_transform(normed_train_data, train_labels)\n",
        "#X_test_new = kbest.transform(normed_test_data)\n",
        "\n",
        "X_test_new.shape\n",
        "X_test_new.head()"
      ],
      "execution_count": 378,
      "outputs": [
        {
          "output_type": "execute_result",
          "data": {
            "text/html": [
              "<div>\n",
              "<style scoped>\n",
              "    .dataframe tbody tr th:only-of-type {\n",
              "        vertical-align: middle;\n",
              "    }\n",
              "\n",
              "    .dataframe tbody tr th {\n",
              "        vertical-align: top;\n",
              "    }\n",
              "\n",
              "    .dataframe thead th {\n",
              "        text-align: right;\n",
              "    }\n",
              "</style>\n",
              "<table border=\"1\" class=\"dataframe\">\n",
              "  <thead>\n",
              "    <tr style=\"text-align: right;\">\n",
              "      <th></th>\n",
              "      <th>rsi_15</th>\n",
              "      <th>rsi_40</th>\n",
              "      <th>roc_1</th>\n",
              "      <th>roc_20</th>\n",
              "      <th>trix_10</th>\n",
              "      <th>trix_15</th>\n",
              "      <th>trix_20</th>\n",
              "      <th>trix_40</th>\n",
              "      <th>macd10</th>\n",
              "      <th>macd15</th>\n",
              "      <th>macd20</th>\n",
              "      <th>macd40</th>\n",
              "      <th>cci_25</th>\n",
              "      <th>kst_20</th>\n",
              "      <th>kst_40</th>\n",
              "      <th>realised_vol_20</th>\n",
              "      <th>realised_vol_40</th>\n",
              "      <th>vix_5d_change</th>\n",
              "      <th>cmf_40</th>\n",
              "      <th>curve</th>\n",
              "    </tr>\n",
              "  </thead>\n",
              "  <tbody>\n",
              "    <tr>\n",
              "      <th>445</th>\n",
              "      <td>-0.450015</td>\n",
              "      <td>1.607678</td>\n",
              "      <td>0.310561</td>\n",
              "      <td>0.084069</td>\n",
              "      <td>0.225967</td>\n",
              "      <td>1.310779</td>\n",
              "      <td>1.984222</td>\n",
              "      <td>2.445432</td>\n",
              "      <td>0.386893</td>\n",
              "      <td>0.386893</td>\n",
              "      <td>0.386893</td>\n",
              "      <td>0.386893</td>\n",
              "      <td>-0.089555</td>\n",
              "      <td>1.285662</td>\n",
              "      <td>1.581568</td>\n",
              "      <td>-0.171365</td>\n",
              "      <td>0.049577</td>\n",
              "      <td>-0.194993</td>\n",
              "      <td>0.325769</td>\n",
              "      <td>2.013397</td>\n",
              "    </tr>\n",
              "    <tr>\n",
              "      <th>448</th>\n",
              "      <td>-0.444466</td>\n",
              "      <td>1.563129</td>\n",
              "      <td>-0.067004</td>\n",
              "      <td>0.131342</td>\n",
              "      <td>0.189580</td>\n",
              "      <td>1.043611</td>\n",
              "      <td>1.740410</td>\n",
              "      <td>2.437380</td>\n",
              "      <td>0.441285</td>\n",
              "      <td>0.441285</td>\n",
              "      <td>0.441285</td>\n",
              "      <td>0.441285</td>\n",
              "      <td>0.554723</td>\n",
              "      <td>0.860018</td>\n",
              "      <td>1.153755</td>\n",
              "      <td>-0.413634</td>\n",
              "      <td>-0.098099</td>\n",
              "      <td>-1.176824</td>\n",
              "      <td>0.160890</td>\n",
              "      <td>2.093196</td>\n",
              "    </tr>\n",
              "    <tr>\n",
              "      <th>452</th>\n",
              "      <td>1.109191</td>\n",
              "      <td>2.306945</td>\n",
              "      <td>2.219743</td>\n",
              "      <td>0.913333</td>\n",
              "      <td>0.597493</td>\n",
              "      <td>0.984354</td>\n",
              "      <td>1.564598</td>\n",
              "      <td>2.421551</td>\n",
              "      <td>0.816965</td>\n",
              "      <td>0.816965</td>\n",
              "      <td>0.816965</td>\n",
              "      <td>0.816965</td>\n",
              "      <td>3.042213</td>\n",
              "      <td>0.701236</td>\n",
              "      <td>0.969301</td>\n",
              "      <td>0.353757</td>\n",
              "      <td>0.265399</td>\n",
              "      <td>-0.475989</td>\n",
              "      <td>1.053170</td>\n",
              "      <td>2.006838</td>\n",
              "    </tr>\n",
              "    <tr>\n",
              "      <th>469</th>\n",
              "      <td>-1.274811</td>\n",
              "      <td>-0.462289</td>\n",
              "      <td>-0.293492</td>\n",
              "      <td>-0.935870</td>\n",
              "      <td>-0.779131</td>\n",
              "      <td>0.270677</td>\n",
              "      <td>0.964075</td>\n",
              "      <td>2.306374</td>\n",
              "      <td>-0.567826</td>\n",
              "      <td>-0.567826</td>\n",
              "      <td>-0.567826</td>\n",
              "      <td>-0.567826</td>\n",
              "      <td>-1.260416</td>\n",
              "      <td>0.123775</td>\n",
              "      <td>0.136914</td>\n",
              "      <td>2.283860</td>\n",
              "      <td>1.328342</td>\n",
              "      <td>1.490979</td>\n",
              "      <td>-0.426129</td>\n",
              "      <td>1.836308</td>\n",
              "    </tr>\n",
              "    <tr>\n",
              "      <th>470</th>\n",
              "      <td>-1.944665</td>\n",
              "      <td>-0.664167</td>\n",
              "      <td>-0.633210</td>\n",
              "      <td>-0.925302</td>\n",
              "      <td>-1.076024</td>\n",
              "      <td>0.038669</td>\n",
              "      <td>0.792678</td>\n",
              "      <td>2.249123</td>\n",
              "      <td>-0.747217</td>\n",
              "      <td>-0.747217</td>\n",
              "      <td>-0.747217</td>\n",
              "      <td>-0.747217</td>\n",
              "      <td>-1.459089</td>\n",
              "      <td>-0.119227</td>\n",
              "      <td>-0.102466</td>\n",
              "      <td>2.281974</td>\n",
              "      <td>1.304954</td>\n",
              "      <td>1.252959</td>\n",
              "      <td>-0.395540</td>\n",
              "      <td>1.902990</td>\n",
              "    </tr>\n",
              "  </tbody>\n",
              "</table>\n",
              "</div>"
            ],
            "text/plain": [
              "       rsi_15    rsi_40     roc_1  ...  vix_5d_change    cmf_40     curve\n",
              "445 -0.450015  1.607678  0.310561  ...      -0.194993  0.325769  2.013397\n",
              "448 -0.444466  1.563129 -0.067004  ...      -1.176824  0.160890  2.093196\n",
              "452  1.109191  2.306945  2.219743  ...      -0.475989  1.053170  2.006838\n",
              "469 -1.274811 -0.462289 -0.293492  ...       1.490979 -0.426129  1.836308\n",
              "470 -1.944665 -0.664167 -0.633210  ...       1.252959 -0.395540  1.902990\n",
              "\n",
              "[5 rows x 20 columns]"
            ]
          },
          "metadata": {
            "tags": []
          },
          "execution_count": 378
        }
      ]
    },
    {
      "cell_type": "code",
      "metadata": {
        "id": "1Y6IeZLPdDbh",
        "colab_type": "code",
        "colab": {}
      },
      "source": [
        "def build_model(hidden_dim,dropout=0.5):\n",
        "    ## input layer\n",
        "    inputs=tf.keras.Input(shape=(X_train_new.shape[1],))\n",
        "\n",
        "\n",
        "    h1= tf.keras.layers.Dense(units=hidden_dim,activation='relu')(inputs)\n",
        "    h2= tf.keras.layers.Dropout(dropout)(h1)\n",
        "    h3= tf.keras.layers.Dense(units=hidden_dim*2,activation='relu')(h2)\n",
        "    h4= tf.keras.layers.Dropout(dropout)(h3)\n",
        "    h5= tf.keras.layers.Dense(units=hidden_dim*2,activation='relu')(h4)\n",
        "    h6= tf.keras.layers.Dropout(dropout)(h5)\n",
        "    h7= tf.keras.layers.Dense(units=hidden_dim,activation='relu')(h6)\n",
        "\n",
        "    ##output\n",
        "    outputs=tf.keras.layers.Dense(units=2,activation='softmax')(h7)\n",
        "\n",
        "    return tf.keras.Model(inputs=inputs, outputs=outputs)"
      ],
      "execution_count": 380,
      "outputs": []
    },
    {
      "cell_type": "code",
      "metadata": {
        "id": "YvYU19fefqf7",
        "colab_type": "code",
        "colab": {}
      },
      "source": [
        "tf.random.set_seed(1)\n",
        "\n",
        "criterion = tf.keras.losses.sparse_categorical_crossentropy\n",
        "\n",
        "optimizer = tf.keras.optimizers.Adam(learning_rate=0.001)\n",
        "\n",
        "model = build_model(hidden_dim=64)\n",
        "\n",
        "model.compile(optimizer=optimizer,loss=criterion,metrics=['accuracy'])"
      ],
      "execution_count": 381,
      "outputs": []
    },
    {
      "cell_type": "code",
      "metadata": {
        "id": "2RjdYWf5gX4x",
        "colab_type": "code",
        "colab": {
          "base_uri": "https://localhost:8080/",
          "height": 190
        },
        "outputId": "26babb66-fcbe-43c3-9001-45efb0fa96ad"
      },
      "source": [
        "example_batch = X_train_new[:10]\n",
        "example_result = model.predict(example_batch)\n",
        "example_result"
      ],
      "execution_count": 382,
      "outputs": [
        {
          "output_type": "execute_result",
          "data": {
            "text/plain": [
              "array([[0.5753907 , 0.42460927],\n",
              "       [0.54730994, 0.45269006],\n",
              "       [0.56634927, 0.43365076],\n",
              "       [0.5715948 , 0.42840526],\n",
              "       [0.4886788 , 0.5113211 ],\n",
              "       [0.5279631 , 0.4720369 ],\n",
              "       [0.5980535 , 0.40194649],\n",
              "       [0.5214368 , 0.4785632 ],\n",
              "       [0.5961742 , 0.40382585],\n",
              "       [0.5691063 , 0.43089372]], dtype=float32)"
            ]
          },
          "metadata": {
            "tags": []
          },
          "execution_count": 382
        }
      ]
    },
    {
      "cell_type": "code",
      "metadata": {
        "id": "bwsZt86Vg9Fs",
        "colab_type": "code",
        "colab": {
          "base_uri": "https://localhost:8080/",
          "height": 1000
        },
        "outputId": "ab852f97-e401-475f-d5c8-b9dd8de5f483"
      },
      "source": [
        "EPOCHS=200\n",
        "BATCH_SIZE=20\n",
        "\n",
        "history = model.fit(\n",
        "  X_train_new, train_labels,\n",
        "  epochs=EPOCHS, batch_size=BATCH_SIZE ,sample_weight=SAMPLE_WEIGHT,shuffle=True,validation_split = 0.2, verbose=1,\n",
        "  callbacks=[tfdocs.modeling.EpochDots()])"
      ],
      "execution_count": 383,
      "outputs": [
        {
          "output_type": "stream",
          "text": [
            "Epoch 1/200\n",
            "73/79 [==========================>...] - ETA: 0s - loss: 0.7098 - accuracy: 0.5212\n",
            "Epoch: 0, accuracy:0.5223,  loss:0.7083,  val_accuracy:0.6556,  val_loss:0.6656,  \n",
            "79/79 [==============================] - 1s 7ms/step - loss: 0.7083 - accuracy: 0.5223 - val_loss: 0.6656 - val_accuracy: 0.6556\n",
            "Epoch 2/200\n",
            "79/79 [==============================] - 0s 5ms/step - loss: 0.7033 - accuracy: 0.5472 - val_loss: 0.6654 - val_accuracy: 0.6786\n",
            "Epoch 3/200\n",
            "79/79 [==============================] - 0s 5ms/step - loss: 0.6846 - accuracy: 0.5663 - val_loss: 0.6618 - val_accuracy: 0.6837\n",
            "Epoch 4/200\n",
            "79/79 [==============================] - 0s 5ms/step - loss: 0.6798 - accuracy: 0.5676 - val_loss: 0.6496 - val_accuracy: 0.6786\n",
            "Epoch 5/200\n",
            "79/79 [==============================] - 0s 5ms/step - loss: 0.6738 - accuracy: 0.5918 - val_loss: 0.6411 - val_accuracy: 0.6811\n",
            "Epoch 6/200\n",
            "79/79 [==============================] - 0s 5ms/step - loss: 0.6712 - accuracy: 0.5886 - val_loss: 0.6327 - val_accuracy: 0.6862\n",
            "Epoch 7/200\n",
            "79/79 [==============================] - 0s 5ms/step - loss: 0.6527 - accuracy: 0.6027 - val_loss: 0.6307 - val_accuracy: 0.6760\n",
            "Epoch 8/200\n",
            "79/79 [==============================] - 0s 5ms/step - loss: 0.6593 - accuracy: 0.6065 - val_loss: 0.6250 - val_accuracy: 0.6939\n",
            "Epoch 9/200\n",
            "79/79 [==============================] - 0s 5ms/step - loss: 0.6591 - accuracy: 0.6142 - val_loss: 0.6329 - val_accuracy: 0.6913\n",
            "Epoch 10/200\n",
            "79/79 [==============================] - 0s 6ms/step - loss: 0.6514 - accuracy: 0.6352 - val_loss: 0.6108 - val_accuracy: 0.6964\n",
            "Epoch 11/200\n",
            "79/79 [==============================] - 0s 5ms/step - loss: 0.6521 - accuracy: 0.6282 - val_loss: 0.6125 - val_accuracy: 0.6888\n",
            "Epoch 12/200\n",
            "79/79 [==============================] - 0s 5ms/step - loss: 0.6404 - accuracy: 0.6403 - val_loss: 0.6220 - val_accuracy: 0.6658\n",
            "Epoch 13/200\n",
            "79/79 [==============================] - 0s 5ms/step - loss: 0.6490 - accuracy: 0.6320 - val_loss: 0.6134 - val_accuracy: 0.6709\n",
            "Epoch 14/200\n",
            "79/79 [==============================] - 0s 5ms/step - loss: 0.6395 - accuracy: 0.6499 - val_loss: 0.6037 - val_accuracy: 0.7117\n",
            "Epoch 15/200\n",
            "79/79 [==============================] - 0s 6ms/step - loss: 0.6344 - accuracy: 0.6460 - val_loss: 0.6067 - val_accuracy: 0.6786\n",
            "Epoch 16/200\n",
            "79/79 [==============================] - 0s 5ms/step - loss: 0.6260 - accuracy: 0.6499 - val_loss: 0.6035 - val_accuracy: 0.6709\n",
            "Epoch 17/200\n",
            "79/79 [==============================] - 0s 5ms/step - loss: 0.6297 - accuracy: 0.6531 - val_loss: 0.6032 - val_accuracy: 0.6837\n",
            "Epoch 18/200\n",
            "79/79 [==============================] - 0s 5ms/step - loss: 0.6235 - accuracy: 0.6773 - val_loss: 0.5968 - val_accuracy: 0.6964\n",
            "Epoch 19/200\n",
            "79/79 [==============================] - 0s 5ms/step - loss: 0.6109 - accuracy: 0.6665 - val_loss: 0.5832 - val_accuracy: 0.7015\n",
            "Epoch 20/200\n",
            "79/79 [==============================] - 0s 5ms/step - loss: 0.6062 - accuracy: 0.6811 - val_loss: 0.5778 - val_accuracy: 0.6964\n",
            "Epoch 21/200\n",
            "79/79 [==============================] - 0s 5ms/step - loss: 0.6150 - accuracy: 0.6735 - val_loss: 0.5923 - val_accuracy: 0.6939\n",
            "Epoch 22/200\n",
            "79/79 [==============================] - 0s 5ms/step - loss: 0.6121 - accuracy: 0.6824 - val_loss: 0.5757 - val_accuracy: 0.7168\n",
            "Epoch 23/200\n",
            "79/79 [==============================] - 0s 5ms/step - loss: 0.6120 - accuracy: 0.6843 - val_loss: 0.5860 - val_accuracy: 0.6964\n",
            "Epoch 24/200\n",
            "79/79 [==============================] - 0s 5ms/step - loss: 0.6117 - accuracy: 0.6888 - val_loss: 0.5775 - val_accuracy: 0.7041\n",
            "Epoch 25/200\n",
            "79/79 [==============================] - 0s 5ms/step - loss: 0.6182 - accuracy: 0.6614 - val_loss: 0.5760 - val_accuracy: 0.7296\n",
            "Epoch 26/200\n",
            "79/79 [==============================] - 0s 6ms/step - loss: 0.5985 - accuracy: 0.6849 - val_loss: 0.5708 - val_accuracy: 0.7194\n",
            "Epoch 27/200\n",
            "79/79 [==============================] - 0s 5ms/step - loss: 0.5984 - accuracy: 0.6881 - val_loss: 0.5830 - val_accuracy: 0.6939\n",
            "Epoch 28/200\n",
            "79/79 [==============================] - 0s 5ms/step - loss: 0.5895 - accuracy: 0.6926 - val_loss: 0.5652 - val_accuracy: 0.7066\n",
            "Epoch 29/200\n",
            "79/79 [==============================] - 0s 5ms/step - loss: 0.5997 - accuracy: 0.6881 - val_loss: 0.5766 - val_accuracy: 0.7092\n",
            "Epoch 30/200\n",
            "79/79 [==============================] - 0s 5ms/step - loss: 0.5922 - accuracy: 0.6996 - val_loss: 0.5711 - val_accuracy: 0.7066\n",
            "Epoch 31/200\n",
            "79/79 [==============================] - 0s 5ms/step - loss: 0.5901 - accuracy: 0.6894 - val_loss: 0.5663 - val_accuracy: 0.7092\n",
            "Epoch 32/200\n",
            "79/79 [==============================] - 0s 5ms/step - loss: 0.6084 - accuracy: 0.6741 - val_loss: 0.5691 - val_accuracy: 0.7194\n",
            "Epoch 33/200\n",
            "79/79 [==============================] - 0s 5ms/step - loss: 0.5749 - accuracy: 0.7054 - val_loss: 0.5580 - val_accuracy: 0.7015\n",
            "Epoch 34/200\n",
            "79/79 [==============================] - 0s 5ms/step - loss: 0.5847 - accuracy: 0.7028 - val_loss: 0.5609 - val_accuracy: 0.7347\n",
            "Epoch 35/200\n",
            "79/79 [==============================] - 0s 5ms/step - loss: 0.5843 - accuracy: 0.6964 - val_loss: 0.5627 - val_accuracy: 0.7168\n",
            "Epoch 36/200\n",
            "79/79 [==============================] - 0s 5ms/step - loss: 0.5778 - accuracy: 0.7003 - val_loss: 0.5516 - val_accuracy: 0.7194\n",
            "Epoch 37/200\n",
            "79/79 [==============================] - 0s 5ms/step - loss: 0.5830 - accuracy: 0.7136 - val_loss: 0.5655 - val_accuracy: 0.7092\n",
            "Epoch 38/200\n",
            "79/79 [==============================] - 0s 6ms/step - loss: 0.5825 - accuracy: 0.7066 - val_loss: 0.5537 - val_accuracy: 0.7219\n",
            "Epoch 39/200\n",
            "79/79 [==============================] - 0s 5ms/step - loss: 0.5752 - accuracy: 0.7066 - val_loss: 0.5486 - val_accuracy: 0.7219\n",
            "Epoch 40/200\n",
            "79/79 [==============================] - 0s 6ms/step - loss: 0.5808 - accuracy: 0.7047 - val_loss: 0.5398 - val_accuracy: 0.7423\n",
            "Epoch 41/200\n",
            "79/79 [==============================] - 0s 5ms/step - loss: 0.5662 - accuracy: 0.7028 - val_loss: 0.5388 - val_accuracy: 0.7500\n",
            "Epoch 42/200\n",
            "79/79 [==============================] - 0s 5ms/step - loss: 0.5541 - accuracy: 0.7277 - val_loss: 0.5385 - val_accuracy: 0.7372\n",
            "Epoch 43/200\n",
            "79/79 [==============================] - 0s 5ms/step - loss: 0.5553 - accuracy: 0.7302 - val_loss: 0.5414 - val_accuracy: 0.7372\n",
            "Epoch 44/200\n",
            "79/79 [==============================] - 0s 5ms/step - loss: 0.5709 - accuracy: 0.7143 - val_loss: 0.5476 - val_accuracy: 0.7372\n",
            "Epoch 45/200\n",
            "79/79 [==============================] - 0s 6ms/step - loss: 0.5626 - accuracy: 0.7239 - val_loss: 0.5443 - val_accuracy: 0.7347\n",
            "Epoch 46/200\n",
            "79/79 [==============================] - 0s 5ms/step - loss: 0.5558 - accuracy: 0.7213 - val_loss: 0.5539 - val_accuracy: 0.7321\n",
            "Epoch 47/200\n",
            "79/79 [==============================] - 0s 5ms/step - loss: 0.5383 - accuracy: 0.7188 - val_loss: 0.5392 - val_accuracy: 0.7296\n",
            "Epoch 48/200\n",
            "79/79 [==============================] - 0s 5ms/step - loss: 0.5547 - accuracy: 0.7168 - val_loss: 0.5148 - val_accuracy: 0.7602\n",
            "Epoch 49/200\n",
            "79/79 [==============================] - 0s 6ms/step - loss: 0.5529 - accuracy: 0.7149 - val_loss: 0.5186 - val_accuracy: 0.7398\n",
            "Epoch 50/200\n",
            "79/79 [==============================] - 0s 5ms/step - loss: 0.5438 - accuracy: 0.7188 - val_loss: 0.5150 - val_accuracy: 0.7628\n",
            "Epoch 51/200\n",
            "79/79 [==============================] - 0s 5ms/step - loss: 0.5563 - accuracy: 0.7302 - val_loss: 0.5240 - val_accuracy: 0.7577\n",
            "Epoch 52/200\n",
            "79/79 [==============================] - 0s 6ms/step - loss: 0.5415 - accuracy: 0.7226 - val_loss: 0.5222 - val_accuracy: 0.7500\n",
            "Epoch 53/200\n",
            "79/79 [==============================] - 0s 5ms/step - loss: 0.5344 - accuracy: 0.7334 - val_loss: 0.5327 - val_accuracy: 0.7398\n",
            "Epoch 54/200\n",
            "79/79 [==============================] - 0s 6ms/step - loss: 0.5472 - accuracy: 0.7398 - val_loss: 0.5366 - val_accuracy: 0.7296\n",
            "Epoch 55/200\n",
            "79/79 [==============================] - 0s 5ms/step - loss: 0.5233 - accuracy: 0.7411 - val_loss: 0.5066 - val_accuracy: 0.7526\n",
            "Epoch 56/200\n",
            "79/79 [==============================] - 0s 5ms/step - loss: 0.5227 - accuracy: 0.7474 - val_loss: 0.5176 - val_accuracy: 0.7372\n",
            "Epoch 57/200\n",
            "79/79 [==============================] - 0s 5ms/step - loss: 0.5381 - accuracy: 0.7302 - val_loss: 0.5099 - val_accuracy: 0.7321\n",
            "Epoch 58/200\n",
            "79/79 [==============================] - 0s 6ms/step - loss: 0.5153 - accuracy: 0.7449 - val_loss: 0.5013 - val_accuracy: 0.7474\n",
            "Epoch 59/200\n",
            "79/79 [==============================] - 0s 6ms/step - loss: 0.5322 - accuracy: 0.7290 - val_loss: 0.4899 - val_accuracy: 0.7628\n",
            "Epoch 60/200\n",
            "79/79 [==============================] - 0s 5ms/step - loss: 0.5253 - accuracy: 0.7264 - val_loss: 0.5021 - val_accuracy: 0.7653\n",
            "Epoch 61/200\n",
            "79/79 [==============================] - 0s 6ms/step - loss: 0.5270 - accuracy: 0.7360 - val_loss: 0.4964 - val_accuracy: 0.7551\n",
            "Epoch 62/200\n",
            "79/79 [==============================] - 0s 5ms/step - loss: 0.5179 - accuracy: 0.7449 - val_loss: 0.4980 - val_accuracy: 0.7577\n",
            "Epoch 63/200\n",
            "79/79 [==============================] - 0s 5ms/step - loss: 0.5336 - accuracy: 0.7200 - val_loss: 0.5013 - val_accuracy: 0.7551\n",
            "Epoch 64/200\n",
            "79/79 [==============================] - 0s 6ms/step - loss: 0.5243 - accuracy: 0.7385 - val_loss: 0.4930 - val_accuracy: 0.7474\n",
            "Epoch 65/200\n",
            "79/79 [==============================] - 0s 5ms/step - loss: 0.5310 - accuracy: 0.7353 - val_loss: 0.4968 - val_accuracy: 0.7398\n",
            "Epoch 66/200\n",
            "79/79 [==============================] - 0s 5ms/step - loss: 0.5192 - accuracy: 0.7392 - val_loss: 0.5042 - val_accuracy: 0.7602\n",
            "Epoch 67/200\n",
            "79/79 [==============================] - 0s 5ms/step - loss: 0.5074 - accuracy: 0.7436 - val_loss: 0.4819 - val_accuracy: 0.7602\n",
            "Epoch 68/200\n",
            "79/79 [==============================] - 0s 6ms/step - loss: 0.5256 - accuracy: 0.7302 - val_loss: 0.4969 - val_accuracy: 0.7628\n",
            "Epoch 69/200\n",
            "79/79 [==============================] - 0s 5ms/step - loss: 0.5182 - accuracy: 0.7551 - val_loss: 0.4868 - val_accuracy: 0.7704\n",
            "Epoch 70/200\n",
            "79/79 [==============================] - 0s 5ms/step - loss: 0.5089 - accuracy: 0.7551 - val_loss: 0.4741 - val_accuracy: 0.7755\n",
            "Epoch 71/200\n",
            "79/79 [==============================] - 0s 5ms/step - loss: 0.4948 - accuracy: 0.7526 - val_loss: 0.4744 - val_accuracy: 0.7704\n",
            "Epoch 72/200\n",
            "79/79 [==============================] - 0s 5ms/step - loss: 0.5187 - accuracy: 0.7519 - val_loss: 0.4773 - val_accuracy: 0.7730\n",
            "Epoch 73/200\n",
            "79/79 [==============================] - 0s 5ms/step - loss: 0.5174 - accuracy: 0.7455 - val_loss: 0.4848 - val_accuracy: 0.7755\n",
            "Epoch 74/200\n",
            "79/79 [==============================] - 0s 5ms/step - loss: 0.5125 - accuracy: 0.7379 - val_loss: 0.4805 - val_accuracy: 0.7551\n",
            "Epoch 75/200\n",
            "79/79 [==============================] - 0s 5ms/step - loss: 0.4893 - accuracy: 0.7730 - val_loss: 0.4892 - val_accuracy: 0.7602\n",
            "Epoch 76/200\n",
            "79/79 [==============================] - 0s 5ms/step - loss: 0.4955 - accuracy: 0.7647 - val_loss: 0.4939 - val_accuracy: 0.7526\n",
            "Epoch 77/200\n",
            "79/79 [==============================] - 0s 5ms/step - loss: 0.5158 - accuracy: 0.7411 - val_loss: 0.4816 - val_accuracy: 0.7526\n",
            "Epoch 78/200\n",
            "79/79 [==============================] - 0s 6ms/step - loss: 0.4816 - accuracy: 0.7755 - val_loss: 0.4630 - val_accuracy: 0.7755\n",
            "Epoch 79/200\n",
            "79/79 [==============================] - 0s 5ms/step - loss: 0.4897 - accuracy: 0.7698 - val_loss: 0.4566 - val_accuracy: 0.7806\n",
            "Epoch 80/200\n",
            "79/79 [==============================] - 0s 6ms/step - loss: 0.4853 - accuracy: 0.7730 - val_loss: 0.4551 - val_accuracy: 0.7857\n",
            "Epoch 81/200\n",
            "79/79 [==============================] - 0s 5ms/step - loss: 0.4901 - accuracy: 0.7768 - val_loss: 0.4608 - val_accuracy: 0.7934\n",
            "Epoch 82/200\n",
            "79/79 [==============================] - 0s 6ms/step - loss: 0.4892 - accuracy: 0.7570 - val_loss: 0.4652 - val_accuracy: 0.7883\n",
            "Epoch 83/200\n",
            "79/79 [==============================] - 0s 5ms/step - loss: 0.5142 - accuracy: 0.7398 - val_loss: 0.4720 - val_accuracy: 0.7755\n",
            "Epoch 84/200\n",
            "79/79 [==============================] - 0s 5ms/step - loss: 0.5017 - accuracy: 0.7596 - val_loss: 0.4694 - val_accuracy: 0.7806\n",
            "Epoch 85/200\n",
            "79/79 [==============================] - 0s 6ms/step - loss: 0.4913 - accuracy: 0.7653 - val_loss: 0.4647 - val_accuracy: 0.7806\n",
            "Epoch 86/200\n",
            "79/79 [==============================] - 0s 5ms/step - loss: 0.5065 - accuracy: 0.7570 - val_loss: 0.4593 - val_accuracy: 0.7781\n",
            "Epoch 87/200\n",
            "79/79 [==============================] - 0s 6ms/step - loss: 0.4868 - accuracy: 0.7647 - val_loss: 0.4571 - val_accuracy: 0.7908\n",
            "Epoch 88/200\n",
            "79/79 [==============================] - 0s 5ms/step - loss: 0.4835 - accuracy: 0.7602 - val_loss: 0.4563 - val_accuracy: 0.7985\n",
            "Epoch 89/200\n",
            "79/79 [==============================] - 0s 6ms/step - loss: 0.4933 - accuracy: 0.7506 - val_loss: 0.4652 - val_accuracy: 0.7679\n",
            "Epoch 90/200\n",
            "79/79 [==============================] - 0s 5ms/step - loss: 0.4757 - accuracy: 0.7640 - val_loss: 0.4543 - val_accuracy: 0.7806\n",
            "Epoch 91/200\n",
            "79/79 [==============================] - 0s 5ms/step - loss: 0.4865 - accuracy: 0.7628 - val_loss: 0.4645 - val_accuracy: 0.7577\n",
            "Epoch 92/200\n",
            "79/79 [==============================] - 0s 5ms/step - loss: 0.4939 - accuracy: 0.7564 - val_loss: 0.4644 - val_accuracy: 0.7679\n",
            "Epoch 93/200\n",
            "79/79 [==============================] - 0s 5ms/step - loss: 0.4699 - accuracy: 0.7532 - val_loss: 0.4546 - val_accuracy: 0.7806\n",
            "Epoch 94/200\n",
            "79/79 [==============================] - 0s 6ms/step - loss: 0.4852 - accuracy: 0.7634 - val_loss: 0.4481 - val_accuracy: 0.7934\n",
            "Epoch 95/200\n",
            "79/79 [==============================] - 0s 5ms/step - loss: 0.4712 - accuracy: 0.7621 - val_loss: 0.4583 - val_accuracy: 0.7908\n",
            "Epoch 96/200\n",
            "79/79 [==============================] - 0s 5ms/step - loss: 0.4712 - accuracy: 0.7755 - val_loss: 0.4418 - val_accuracy: 0.7908\n",
            "Epoch 97/200\n",
            "79/79 [==============================] - 0s 5ms/step - loss: 0.4716 - accuracy: 0.7742 - val_loss: 0.4426 - val_accuracy: 0.7934\n",
            "Epoch 98/200\n",
            "79/79 [==============================] - 0s 5ms/step - loss: 0.4874 - accuracy: 0.7615 - val_loss: 0.4330 - val_accuracy: 0.7934\n",
            "Epoch 99/200\n",
            "79/79 [==============================] - 0s 5ms/step - loss: 0.4601 - accuracy: 0.7851 - val_loss: 0.4231 - val_accuracy: 0.7959\n",
            "Epoch 100/200\n",
            "79/79 [==============================] - 0s 5ms/step - loss: 0.4632 - accuracy: 0.7691 - val_loss: 0.4301 - val_accuracy: 0.8061\n",
            "Epoch 101/200\n",
            "70/79 [=========================>....] - ETA: 0s - loss: 0.4665 - accuracy: 0.7764\n",
            "Epoch: 100, accuracy:0.7774,  loss:0.4650,  val_accuracy:0.8163,  val_loss:0.4341,  \n",
            "79/79 [==============================] - 0s 6ms/step - loss: 0.4650 - accuracy: 0.7774 - val_loss: 0.4341 - val_accuracy: 0.8163\n",
            "Epoch 102/200\n",
            "79/79 [==============================] - 0s 5ms/step - loss: 0.4640 - accuracy: 0.7825 - val_loss: 0.4252 - val_accuracy: 0.8061\n",
            "Epoch 103/200\n",
            "79/79 [==============================] - 0s 5ms/step - loss: 0.4676 - accuracy: 0.7870 - val_loss: 0.4378 - val_accuracy: 0.8112\n",
            "Epoch 104/200\n",
            "79/79 [==============================] - 0s 5ms/step - loss: 0.4648 - accuracy: 0.7710 - val_loss: 0.4332 - val_accuracy: 0.7934\n",
            "Epoch 105/200\n",
            "79/79 [==============================] - 0s 5ms/step - loss: 0.4688 - accuracy: 0.7889 - val_loss: 0.4271 - val_accuracy: 0.7908\n",
            "Epoch 106/200\n",
            "79/79 [==============================] - 0s 6ms/step - loss: 0.4695 - accuracy: 0.7717 - val_loss: 0.4278 - val_accuracy: 0.8189\n",
            "Epoch 107/200\n",
            "79/79 [==============================] - 0s 5ms/step - loss: 0.4746 - accuracy: 0.7825 - val_loss: 0.4426 - val_accuracy: 0.7806\n",
            "Epoch 108/200\n",
            "79/79 [==============================] - 0s 5ms/step - loss: 0.4472 - accuracy: 0.7889 - val_loss: 0.4252 - val_accuracy: 0.8087\n",
            "Epoch 109/200\n",
            "79/79 [==============================] - 0s 5ms/step - loss: 0.4579 - accuracy: 0.7825 - val_loss: 0.4200 - val_accuracy: 0.8087\n",
            "Epoch 110/200\n",
            "79/79 [==============================] - 0s 5ms/step - loss: 0.4507 - accuracy: 0.7653 - val_loss: 0.4308 - val_accuracy: 0.8112\n",
            "Epoch 111/200\n",
            "79/79 [==============================] - 0s 5ms/step - loss: 0.4493 - accuracy: 0.7902 - val_loss: 0.4409 - val_accuracy: 0.7857\n",
            "Epoch 112/200\n",
            "79/79 [==============================] - 0s 5ms/step - loss: 0.4656 - accuracy: 0.7781 - val_loss: 0.4234 - val_accuracy: 0.7985\n",
            "Epoch 113/200\n",
            "79/79 [==============================] - 1s 8ms/step - loss: 0.4477 - accuracy: 0.7934 - val_loss: 0.4300 - val_accuracy: 0.7959\n",
            "Epoch 114/200\n",
            "79/79 [==============================] - 0s 5ms/step - loss: 0.4581 - accuracy: 0.7768 - val_loss: 0.4356 - val_accuracy: 0.8061\n",
            "Epoch 115/200\n",
            "79/79 [==============================] - 0s 5ms/step - loss: 0.4408 - accuracy: 0.7991 - val_loss: 0.4170 - val_accuracy: 0.8163\n",
            "Epoch 116/200\n",
            "79/79 [==============================] - 0s 5ms/step - loss: 0.4579 - accuracy: 0.7793 - val_loss: 0.4227 - val_accuracy: 0.8138\n",
            "Epoch 117/200\n",
            "79/79 [==============================] - 0s 5ms/step - loss: 0.4351 - accuracy: 0.7908 - val_loss: 0.4170 - val_accuracy: 0.8189\n",
            "Epoch 118/200\n",
            "79/79 [==============================] - 0s 5ms/step - loss: 0.4370 - accuracy: 0.7927 - val_loss: 0.4096 - val_accuracy: 0.8265\n",
            "Epoch 119/200\n",
            "79/79 [==============================] - 0s 5ms/step - loss: 0.4487 - accuracy: 0.7812 - val_loss: 0.4374 - val_accuracy: 0.8036\n",
            "Epoch 120/200\n",
            "79/79 [==============================] - 0s 5ms/step - loss: 0.4453 - accuracy: 0.7755 - val_loss: 0.4320 - val_accuracy: 0.7985\n",
            "Epoch 121/200\n",
            "79/79 [==============================] - 0s 5ms/step - loss: 0.4557 - accuracy: 0.7864 - val_loss: 0.4310 - val_accuracy: 0.7883\n",
            "Epoch 122/200\n",
            "79/79 [==============================] - 0s 5ms/step - loss: 0.4493 - accuracy: 0.7851 - val_loss: 0.4344 - val_accuracy: 0.7857\n",
            "Epoch 123/200\n",
            "79/79 [==============================] - 0s 5ms/step - loss: 0.4340 - accuracy: 0.7953 - val_loss: 0.4304 - val_accuracy: 0.7959\n",
            "Epoch 124/200\n",
            "79/79 [==============================] - 0s 6ms/step - loss: 0.4568 - accuracy: 0.7889 - val_loss: 0.4201 - val_accuracy: 0.8061\n",
            "Epoch 125/200\n",
            "79/79 [==============================] - 0s 5ms/step - loss: 0.4226 - accuracy: 0.7902 - val_loss: 0.4089 - val_accuracy: 0.8138\n",
            "Epoch 126/200\n",
            "79/79 [==============================] - 0s 5ms/step - loss: 0.4296 - accuracy: 0.8048 - val_loss: 0.4057 - val_accuracy: 0.8061\n",
            "Epoch 127/200\n",
            "79/79 [==============================] - 0s 5ms/step - loss: 0.4704 - accuracy: 0.7761 - val_loss: 0.4178 - val_accuracy: 0.8087\n",
            "Epoch 128/200\n",
            "79/79 [==============================] - 0s 6ms/step - loss: 0.4131 - accuracy: 0.8138 - val_loss: 0.4107 - val_accuracy: 0.8138\n",
            "Epoch 129/200\n",
            "79/79 [==============================] - 0s 6ms/step - loss: 0.4595 - accuracy: 0.7781 - val_loss: 0.4184 - val_accuracy: 0.7985\n",
            "Epoch 130/200\n",
            "79/79 [==============================] - 0s 6ms/step - loss: 0.4346 - accuracy: 0.7921 - val_loss: 0.4104 - val_accuracy: 0.7985\n",
            "Epoch 131/200\n",
            "79/79 [==============================] - 0s 5ms/step - loss: 0.4453 - accuracy: 0.7793 - val_loss: 0.4182 - val_accuracy: 0.8010\n",
            "Epoch 132/200\n",
            "79/79 [==============================] - 0s 5ms/step - loss: 0.4284 - accuracy: 0.7997 - val_loss: 0.4189 - val_accuracy: 0.7883\n",
            "Epoch 133/200\n",
            "79/79 [==============================] - 0s 5ms/step - loss: 0.4266 - accuracy: 0.8125 - val_loss: 0.4035 - val_accuracy: 0.8214\n",
            "Epoch 134/200\n",
            "79/79 [==============================] - 0s 5ms/step - loss: 0.4209 - accuracy: 0.7997 - val_loss: 0.3999 - val_accuracy: 0.8291\n",
            "Epoch 135/200\n",
            "79/79 [==============================] - 0s 5ms/step - loss: 0.4443 - accuracy: 0.7921 - val_loss: 0.4134 - val_accuracy: 0.8061\n",
            "Epoch 136/200\n",
            "79/79 [==============================] - 0s 5ms/step - loss: 0.4492 - accuracy: 0.7844 - val_loss: 0.4193 - val_accuracy: 0.7985\n",
            "Epoch 137/200\n",
            "79/79 [==============================] - 0s 5ms/step - loss: 0.4235 - accuracy: 0.8068 - val_loss: 0.4027 - val_accuracy: 0.8138\n",
            "Epoch 138/200\n",
            "79/79 [==============================] - 0s 5ms/step - loss: 0.4300 - accuracy: 0.8029 - val_loss: 0.4156 - val_accuracy: 0.8061\n",
            "Epoch 139/200\n",
            "79/79 [==============================] - 0s 5ms/step - loss: 0.4197 - accuracy: 0.7940 - val_loss: 0.4008 - val_accuracy: 0.7908\n",
            "Epoch 140/200\n",
            "79/79 [==============================] - 0s 6ms/step - loss: 0.4369 - accuracy: 0.7959 - val_loss: 0.3961 - val_accuracy: 0.8214\n",
            "Epoch 141/200\n",
            "79/79 [==============================] - 0s 5ms/step - loss: 0.4049 - accuracy: 0.8068 - val_loss: 0.3847 - val_accuracy: 0.8265\n",
            "Epoch 142/200\n",
            "79/79 [==============================] - 0s 5ms/step - loss: 0.4196 - accuracy: 0.8042 - val_loss: 0.3964 - val_accuracy: 0.8061\n",
            "Epoch 143/200\n",
            "79/79 [==============================] - 0s 5ms/step - loss: 0.3996 - accuracy: 0.8119 - val_loss: 0.4167 - val_accuracy: 0.7934\n",
            "Epoch 144/200\n",
            "79/79 [==============================] - 0s 6ms/step - loss: 0.4237 - accuracy: 0.8157 - val_loss: 0.4017 - val_accuracy: 0.8138\n",
            "Epoch 145/200\n",
            "79/79 [==============================] - 0s 6ms/step - loss: 0.4387 - accuracy: 0.7997 - val_loss: 0.4156 - val_accuracy: 0.7934\n",
            "Epoch 146/200\n",
            "79/79 [==============================] - 0s 6ms/step - loss: 0.3994 - accuracy: 0.8061 - val_loss: 0.4007 - val_accuracy: 0.7959\n",
            "Epoch 147/200\n",
            "79/79 [==============================] - 0s 5ms/step - loss: 0.4244 - accuracy: 0.8061 - val_loss: 0.4154 - val_accuracy: 0.7985\n",
            "Epoch 148/200\n",
            "79/79 [==============================] - 0s 5ms/step - loss: 0.4291 - accuracy: 0.7953 - val_loss: 0.3900 - val_accuracy: 0.8240\n",
            "Epoch 149/200\n",
            "79/79 [==============================] - 0s 5ms/step - loss: 0.4287 - accuracy: 0.8055 - val_loss: 0.3935 - val_accuracy: 0.8214\n",
            "Epoch 150/200\n",
            "79/79 [==============================] - 0s 5ms/step - loss: 0.4277 - accuracy: 0.7985 - val_loss: 0.3898 - val_accuracy: 0.8444\n",
            "Epoch 151/200\n",
            "79/79 [==============================] - 0s 5ms/step - loss: 0.4224 - accuracy: 0.8029 - val_loss: 0.3921 - val_accuracy: 0.8240\n",
            "Epoch 152/200\n",
            "79/79 [==============================] - 0s 5ms/step - loss: 0.4316 - accuracy: 0.8004 - val_loss: 0.3914 - val_accuracy: 0.8393\n",
            "Epoch 153/200\n",
            "79/79 [==============================] - 0s 6ms/step - loss: 0.4126 - accuracy: 0.8119 - val_loss: 0.4030 - val_accuracy: 0.8138\n",
            "Epoch 154/200\n",
            "79/79 [==============================] - 0s 5ms/step - loss: 0.4072 - accuracy: 0.8131 - val_loss: 0.3976 - val_accuracy: 0.8036\n",
            "Epoch 155/200\n",
            "79/79 [==============================] - 0s 5ms/step - loss: 0.4304 - accuracy: 0.7876 - val_loss: 0.3981 - val_accuracy: 0.8214\n",
            "Epoch 156/200\n",
            "79/79 [==============================] - 0s 5ms/step - loss: 0.4257 - accuracy: 0.7997 - val_loss: 0.4111 - val_accuracy: 0.8087\n",
            "Epoch 157/200\n",
            "79/79 [==============================] - 0s 5ms/step - loss: 0.4200 - accuracy: 0.8099 - val_loss: 0.3979 - val_accuracy: 0.8265\n",
            "Epoch 158/200\n",
            "79/79 [==============================] - 0s 5ms/step - loss: 0.4130 - accuracy: 0.8055 - val_loss: 0.3999 - val_accuracy: 0.8189\n",
            "Epoch 159/200\n",
            "79/79 [==============================] - 0s 5ms/step - loss: 0.4148 - accuracy: 0.8202 - val_loss: 0.3959 - val_accuracy: 0.8240\n",
            "Epoch 160/200\n",
            "79/79 [==============================] - 0s 5ms/step - loss: 0.4273 - accuracy: 0.8036 - val_loss: 0.3975 - val_accuracy: 0.8112\n",
            "Epoch 161/200\n",
            "79/79 [==============================] - 0s 5ms/step - loss: 0.3925 - accuracy: 0.8259 - val_loss: 0.3954 - val_accuracy: 0.8112\n",
            "Epoch 162/200\n",
            "79/79 [==============================] - 0s 5ms/step - loss: 0.4244 - accuracy: 0.7991 - val_loss: 0.3982 - val_accuracy: 0.8138\n",
            "Epoch 163/200\n",
            "79/79 [==============================] - 0s 5ms/step - loss: 0.4334 - accuracy: 0.8004 - val_loss: 0.4006 - val_accuracy: 0.8087\n",
            "Epoch 164/200\n",
            "79/79 [==============================] - 0s 5ms/step - loss: 0.3930 - accuracy: 0.8170 - val_loss: 0.3789 - val_accuracy: 0.8163\n",
            "Epoch 165/200\n",
            "79/79 [==============================] - 0s 5ms/step - loss: 0.4279 - accuracy: 0.8080 - val_loss: 0.3881 - val_accuracy: 0.8265\n",
            "Epoch 166/200\n",
            "79/79 [==============================] - 0s 5ms/step - loss: 0.4161 - accuracy: 0.7972 - val_loss: 0.3940 - val_accuracy: 0.8240\n",
            "Epoch 167/200\n",
            "79/79 [==============================] - 0s 5ms/step - loss: 0.4154 - accuracy: 0.8170 - val_loss: 0.3842 - val_accuracy: 0.8189\n",
            "Epoch 168/200\n",
            "79/79 [==============================] - 0s 5ms/step - loss: 0.4327 - accuracy: 0.7953 - val_loss: 0.3944 - val_accuracy: 0.8163\n",
            "Epoch 169/200\n",
            "79/79 [==============================] - 0s 5ms/step - loss: 0.3919 - accuracy: 0.8227 - val_loss: 0.3877 - val_accuracy: 0.8189\n",
            "Epoch 170/200\n",
            "79/79 [==============================] - 0s 6ms/step - loss: 0.4214 - accuracy: 0.8093 - val_loss: 0.3903 - val_accuracy: 0.8189\n",
            "Epoch 171/200\n",
            "79/79 [==============================] - 0s 5ms/step - loss: 0.4087 - accuracy: 0.8144 - val_loss: 0.3855 - val_accuracy: 0.7908\n",
            "Epoch 172/200\n",
            "79/79 [==============================] - 0s 5ms/step - loss: 0.3935 - accuracy: 0.8157 - val_loss: 0.3738 - val_accuracy: 0.8138\n",
            "Epoch 173/200\n",
            "79/79 [==============================] - 0s 5ms/step - loss: 0.4056 - accuracy: 0.8157 - val_loss: 0.3718 - val_accuracy: 0.8316\n",
            "Epoch 174/200\n",
            "79/79 [==============================] - 0s 5ms/step - loss: 0.4239 - accuracy: 0.8042 - val_loss: 0.3776 - val_accuracy: 0.8393\n",
            "Epoch 175/200\n",
            "79/79 [==============================] - 0s 5ms/step - loss: 0.3879 - accuracy: 0.8253 - val_loss: 0.3847 - val_accuracy: 0.8240\n",
            "Epoch 176/200\n",
            "79/79 [==============================] - 0s 5ms/step - loss: 0.4098 - accuracy: 0.8176 - val_loss: 0.3810 - val_accuracy: 0.8291\n",
            "Epoch 177/200\n",
            "79/79 [==============================] - 0s 5ms/step - loss: 0.3971 - accuracy: 0.8214 - val_loss: 0.3785 - val_accuracy: 0.8163\n",
            "Epoch 178/200\n",
            "79/79 [==============================] - 0s 5ms/step - loss: 0.3931 - accuracy: 0.8195 - val_loss: 0.3881 - val_accuracy: 0.8036\n",
            "Epoch 179/200\n",
            "79/79 [==============================] - 0s 5ms/step - loss: 0.3897 - accuracy: 0.8176 - val_loss: 0.3876 - val_accuracy: 0.8036\n",
            "Epoch 180/200\n",
            "79/79 [==============================] - 0s 5ms/step - loss: 0.4236 - accuracy: 0.8125 - val_loss: 0.3920 - val_accuracy: 0.8087\n",
            "Epoch 181/200\n",
            "79/79 [==============================] - 0s 5ms/step - loss: 0.4100 - accuracy: 0.7985 - val_loss: 0.3897 - val_accuracy: 0.8087\n",
            "Epoch 182/200\n",
            "79/79 [==============================] - 0s 5ms/step - loss: 0.4117 - accuracy: 0.8106 - val_loss: 0.3820 - val_accuracy: 0.8163\n",
            "Epoch 183/200\n",
            "79/79 [==============================] - 0s 5ms/step - loss: 0.4098 - accuracy: 0.8061 - val_loss: 0.3883 - val_accuracy: 0.8061\n",
            "Epoch 184/200\n",
            "79/79 [==============================] - 0s 5ms/step - loss: 0.4010 - accuracy: 0.8170 - val_loss: 0.3841 - val_accuracy: 0.8163\n",
            "Epoch 185/200\n",
            "79/79 [==============================] - 0s 5ms/step - loss: 0.4002 - accuracy: 0.8138 - val_loss: 0.3797 - val_accuracy: 0.8189\n",
            "Epoch 186/200\n",
            "79/79 [==============================] - 0s 5ms/step - loss: 0.4159 - accuracy: 0.7972 - val_loss: 0.3853 - val_accuracy: 0.8214\n",
            "Epoch 187/200\n",
            "79/79 [==============================] - 0s 5ms/step - loss: 0.4115 - accuracy: 0.8182 - val_loss: 0.3766 - val_accuracy: 0.8291\n",
            "Epoch 188/200\n",
            "79/79 [==============================] - 0s 5ms/step - loss: 0.4396 - accuracy: 0.8042 - val_loss: 0.3869 - val_accuracy: 0.8418\n",
            "Epoch 189/200\n",
            "79/79 [==============================] - 0s 5ms/step - loss: 0.3902 - accuracy: 0.8221 - val_loss: 0.3949 - val_accuracy: 0.8189\n",
            "Epoch 190/200\n",
            "79/79 [==============================] - 0s 5ms/step - loss: 0.4085 - accuracy: 0.8074 - val_loss: 0.3827 - val_accuracy: 0.8367\n",
            "Epoch 191/200\n",
            "79/79 [==============================] - 0s 5ms/step - loss: 0.4101 - accuracy: 0.8106 - val_loss: 0.3772 - val_accuracy: 0.8367\n",
            "Epoch 192/200\n",
            "79/79 [==============================] - 0s 5ms/step - loss: 0.4111 - accuracy: 0.8138 - val_loss: 0.3875 - val_accuracy: 0.8265\n",
            "Epoch 193/200\n",
            "79/79 [==============================] - 0s 5ms/step - loss: 0.4017 - accuracy: 0.8119 - val_loss: 0.3927 - val_accuracy: 0.8138\n",
            "Epoch 194/200\n",
            "79/79 [==============================] - 0s 6ms/step - loss: 0.3806 - accuracy: 0.8304 - val_loss: 0.3820 - val_accuracy: 0.8214\n",
            "Epoch 195/200\n",
            "79/79 [==============================] - 0s 5ms/step - loss: 0.3843 - accuracy: 0.8329 - val_loss: 0.3819 - val_accuracy: 0.8316\n",
            "Epoch 196/200\n",
            "79/79 [==============================] - 0s 5ms/step - loss: 0.3891 - accuracy: 0.8265 - val_loss: 0.3783 - val_accuracy: 0.8112\n",
            "Epoch 197/200\n",
            "79/79 [==============================] - 0s 5ms/step - loss: 0.3920 - accuracy: 0.8221 - val_loss: 0.3783 - val_accuracy: 0.8189\n",
            "Epoch 198/200\n",
            "79/79 [==============================] - 0s 5ms/step - loss: 0.4099 - accuracy: 0.8099 - val_loss: 0.3852 - val_accuracy: 0.8240\n",
            "Epoch 199/200\n",
            "79/79 [==============================] - 0s 6ms/step - loss: 0.3918 - accuracy: 0.8202 - val_loss: 0.3716 - val_accuracy: 0.8469\n",
            "Epoch 200/200\n",
            "79/79 [==============================] - 0s 5ms/step - loss: 0.4136 - accuracy: 0.8068 - val_loss: 0.3800 - val_accuracy: 0.8316\n"
          ],
          "name": "stdout"
        }
      ]
    },
    {
      "cell_type": "code",
      "metadata": {
        "id": "ODHW1NAOqNcK",
        "colab_type": "code",
        "colab": {
          "base_uri": "https://localhost:8080/",
          "height": 206
        },
        "outputId": "51ca7ced-4afc-454f-808f-a36c1e931584"
      },
      "source": [
        "hist = pd.DataFrame(history.history)\n",
        "hist['epoch'] = history.epoch\n",
        "hist.tail()"
      ],
      "execution_count": 384,
      "outputs": [
        {
          "output_type": "execute_result",
          "data": {
            "text/html": [
              "<div>\n",
              "<style scoped>\n",
              "    .dataframe tbody tr th:only-of-type {\n",
              "        vertical-align: middle;\n",
              "    }\n",
              "\n",
              "    .dataframe tbody tr th {\n",
              "        vertical-align: top;\n",
              "    }\n",
              "\n",
              "    .dataframe thead th {\n",
              "        text-align: right;\n",
              "    }\n",
              "</style>\n",
              "<table border=\"1\" class=\"dataframe\">\n",
              "  <thead>\n",
              "    <tr style=\"text-align: right;\">\n",
              "      <th></th>\n",
              "      <th>loss</th>\n",
              "      <th>accuracy</th>\n",
              "      <th>val_loss</th>\n",
              "      <th>val_accuracy</th>\n",
              "      <th>epoch</th>\n",
              "    </tr>\n",
              "  </thead>\n",
              "  <tbody>\n",
              "    <tr>\n",
              "      <th>195</th>\n",
              "      <td>0.389142</td>\n",
              "      <td>0.826531</td>\n",
              "      <td>0.378292</td>\n",
              "      <td>0.811224</td>\n",
              "      <td>195</td>\n",
              "    </tr>\n",
              "    <tr>\n",
              "      <th>196</th>\n",
              "      <td>0.391982</td>\n",
              "      <td>0.822066</td>\n",
              "      <td>0.378319</td>\n",
              "      <td>0.818878</td>\n",
              "      <td>196</td>\n",
              "    </tr>\n",
              "    <tr>\n",
              "      <th>197</th>\n",
              "      <td>0.409905</td>\n",
              "      <td>0.809949</td>\n",
              "      <td>0.385219</td>\n",
              "      <td>0.823980</td>\n",
              "      <td>197</td>\n",
              "    </tr>\n",
              "    <tr>\n",
              "      <th>198</th>\n",
              "      <td>0.391841</td>\n",
              "      <td>0.820153</td>\n",
              "      <td>0.371551</td>\n",
              "      <td>0.846939</td>\n",
              "      <td>198</td>\n",
              "    </tr>\n",
              "    <tr>\n",
              "      <th>199</th>\n",
              "      <td>0.413612</td>\n",
              "      <td>0.806760</td>\n",
              "      <td>0.379967</td>\n",
              "      <td>0.831633</td>\n",
              "      <td>199</td>\n",
              "    </tr>\n",
              "  </tbody>\n",
              "</table>\n",
              "</div>"
            ],
            "text/plain": [
              "         loss  accuracy  val_loss  val_accuracy  epoch\n",
              "195  0.389142  0.826531  0.378292      0.811224    195\n",
              "196  0.391982  0.822066  0.378319      0.818878    196\n",
              "197  0.409905  0.809949  0.385219      0.823980    197\n",
              "198  0.391841  0.820153  0.371551      0.846939    198\n",
              "199  0.413612  0.806760  0.379967      0.831633    199"
            ]
          },
          "metadata": {
            "tags": []
          },
          "execution_count": 384
        }
      ]
    },
    {
      "cell_type": "code",
      "metadata": {
        "id": "Q3-cFZIRrMKd",
        "colab_type": "code",
        "colab": {
          "base_uri": "https://localhost:8080/",
          "height": 362
        },
        "outputId": "54bf691d-0f68-4b25-d034-cb5361f762c6"
      },
      "source": [
        "import matplotlib.pyplot as plt\n",
        "\n",
        "hist=history.history\n",
        "\n",
        "fig=plt.figure(figsize=(12,5))\n",
        "ax=fig.add_subplot(1,2,1)\n",
        "ax.plot(hist['loss'],lw=3)\n",
        "ax.plot(hist['val_loss'],lw=3)\n",
        "ax.set_title('Training & Validation Loss',size=15)\n",
        "ax.set_xlabel('Epoch',size=15)\n",
        "ax.tick_params(axis='both',which='major',labelsize=15)\n",
        "ax=fig.add_subplot(1,2,2)\n",
        "ax.plot(hist['accuracy'],lw=3)\n",
        "ax.plot(hist['val_accuracy'],lw=3)\n",
        "ax.set_title('Training & Validation accuracy',size=15)\n",
        "ax.set_xlabel('Epoch',size=15)\n",
        "ax.tick_params(axis='both',which='major',labelsize=15)\n",
        "plt.show()\n",
        "\n",
        "\n"
      ],
      "execution_count": 385,
      "outputs": [
        {
          "output_type": "display_data",
          "data": {
            "image/png": "[encoded data removed]",
            "text/plain": [
              "<Figure size 864x360 with 2 Axes>"
            ]
          },
          "metadata": {
            "tags": [],
            "needs_background": "light"
          }
        }
      ]
    },
    {
      "cell_type": "code",
      "metadata": {
        "id": "eOahIbKW6AMf",
        "colab_type": "code",
        "colab": {
          "base_uri": "https://localhost:8080/",
          "height": 366
        },
        "outputId": "ff45ce41-f959-4582-ea8d-95d45665fdb6"
      },
      "source": [
        "!pip install shap"
      ],
      "execution_count": 32,
      "outputs": [
        {
          "output_type": "stream",
          "text": [
            "Collecting shap\n",
            "\u001b[?25l  Downloading https://files.pythonhosted.org/packages/a8/77/b504e43e21a2ba543a1ac4696718beb500cfa708af2fb57cb54ce299045c/shap-0.35.0.tar.gz (273kB)\n",
            "\r\u001b[K     |█▏                              | 10kB 21.7MB/s eta 0:00:01\r\u001b[K     |██▍                             | 20kB 1.7MB/s eta 0:00:01\r\u001b[K     |███▋                            | 30kB 2.2MB/s eta 0:00:01\r\u001b[K     |████▉                           | 40kB 2.5MB/s eta 0:00:01\r\u001b[K     |██████                          | 51kB 2.0MB/s eta 0:00:01\r\u001b[K     |███████▏                        | 61kB 2.3MB/s eta 0:00:01\r\u001b[K     |████████▍                       | 71kB 2.5MB/s eta 0:00:01\r\u001b[K     |█████████▋                      | 81kB 2.7MB/s eta 0:00:01\r\u001b[K     |██████████▉                     | 92kB 2.9MB/s eta 0:00:01\r\u001b[K     |████████████                    | 102kB 2.8MB/s eta 0:00:01\r\u001b[K     |█████████████▏                  | 112kB 2.8MB/s eta 0:00:01\r\u001b[K     |██████████████▍                 | 122kB 2.8MB/s eta 0:00:01\r\u001b[K     |███████████████▋                | 133kB 2.8MB/s eta 0:00:01\r\u001b[K     |████████████████▉               | 143kB 2.8MB/s eta 0:00:01\r\u001b[K     |██████████████████              | 153kB 2.8MB/s eta 0:00:01\r\u001b[K     |███████████████████▏            | 163kB 2.8MB/s eta 0:00:01\r\u001b[K     |████████████████████▍           | 174kB 2.8MB/s eta 0:00:01\r\u001b[K     |█████████████████████▋          | 184kB 2.8MB/s eta 0:00:01\r\u001b[K     |██████████████████████▉         | 194kB 2.8MB/s eta 0:00:01\r\u001b[K     |████████████████████████        | 204kB 2.8MB/s eta 0:00:01\r\u001b[K     |█████████████████████████▏      | 215kB 2.8MB/s eta 0:00:01\r\u001b[K     |██████████████████████████▍     | 225kB 2.8MB/s eta 0:00:01\r\u001b[K     |███████████████████████████▋    | 235kB 2.8MB/s eta 0:00:01\r\u001b[K     |████████████████████████████▉   | 245kB 2.8MB/s eta 0:00:01\r\u001b[K     |██████████████████████████████  | 256kB 2.8MB/s eta 0:00:01\r\u001b[K     |███████████████████████████████▏| 266kB 2.8MB/s eta 0:00:01\r\u001b[K     |████████████████████████████████| 276kB 2.8MB/s \n",
            "\u001b[?25hRequirement already satisfied: numpy in /usr/local/lib/python3.6/dist-packages (from shap) (1.18.5)\n",
            "Requirement already satisfied: scipy in /usr/local/lib/python3.6/dist-packages (from shap) (1.4.1)\n",
            "Requirement already satisfied: scikit-learn in /usr/local/lib/python3.6/dist-packages (from shap) (0.22.2.post1)\n",
            "Requirement already satisfied: pandas in /usr/local/lib/python3.6/dist-packages (from shap) (1.0.5)\n",
            "Requirement already satisfied: tqdm>4.25.0 in /usr/local/lib/python3.6/dist-packages (from shap) (4.41.1)\n",
            "Requirement already satisfied: joblib>=0.11 in /usr/local/lib/python3.6/dist-packages (from scikit-learn->shap) (0.15.1)\n",
            "Requirement already satisfied: pytz>=2017.2 in /usr/local/lib/python3.6/dist-packages (from pandas->shap) (2018.9)\n",
            "Requirement already satisfied: python-dateutil>=2.6.1 in /usr/local/lib/python3.6/dist-packages (from pandas->shap) (2.8.1)\n",
            "Requirement already satisfied: six>=1.5 in /usr/local/lib/python3.6/dist-packages (from python-dateutil>=2.6.1->pandas->shap) (1.12.0)\n",
            "Building wheels for collected packages: shap\n",
            "  Building wheel for shap (setup.py) ... \u001b[?25l\u001b[?25hdone\n",
            "  Created wheel for shap: filename=shap-0.35.0-cp36-cp36m-linux_x86_64.whl size=394130 sha256=fa7a3695c4152743202e7de8bd95b7d76cec14ad3ea03f3ef255b7369251cec7\n",
            "  Stored in directory: /root/.cache/pip/wheels/e7/f7/0f/b57055080cf8894906b3bd3616d2fc2bfd0b12d5161bcb24ac\n",
            "Successfully built shap\n",
            "Installing collected packages: shap\n",
            "Successfully installed shap-0.35.0\n"
          ],
          "name": "stdout"
        }
      ]
    },
    {
      "cell_type": "code",
      "metadata": {
        "id": "368Jn0vJ6KwX",
        "colab_type": "code",
        "colab": {}
      },
      "source": [
        "import shap\n",
        "\n",
        "explainer = shap.DeepExplainer(model, np.array(X_train_new))"
      ],
      "execution_count": 386,
      "outputs": []
    },
    {
      "cell_type": "code",
      "metadata": {
        "id": "u9u_3boZEVPn",
        "colab_type": "code",
        "colab": {}
      },
      "source": [
        "shap_values  = explainer.shap_values(np.array(X_test_new))"
      ],
      "execution_count": 387,
      "outputs": []
    },
    {
      "cell_type": "code",
      "metadata": {
        "id": "A5xcKTYcExMZ",
        "colab_type": "code",
        "colab": {
          "base_uri": "https://localhost:8080/",
          "height": 585
        },
        "outputId": "81696af2-5759-497a-c7bf-023522bb4e2d"
      },
      "source": [
        "shap.summary_plot(shap_values[1], X_test_new)"
      ],
      "execution_count": 388,
      "outputs": [
        {
          "output_type": "display_data",
          "data": {
            "image/png": "[encoded data removed]",
            "text/plain": [
              "<Figure size 576x684 with 2 Axes>"
            ]
          },
          "metadata": {
            "tags": [],
            "needs_background": "light"
          }
        }
      ]
    },
    {
      "cell_type": "code",
      "metadata": {
        "id": "1e2NoPn2Oump",
        "colab_type": "code",
        "colab": {
          "base_uri": "https://localhost:8080/",
          "height": 415
        },
        "outputId": "517f6071-e63c-48dd-9251-b48e74b38ccf"
      },
      "source": [
        "pred=model.predict(X_test_new)\n",
        "pred.argmax(axis=1)"
      ],
      "execution_count": 389,
      "outputs": [
        {
          "output_type": "execute_result",
          "data": {
            "text/plain": [
              "array([0, 0, 0, 1, 1, 1, 0, 0, 0, 0, 0, 0, 0, 1, 1, 1, 1, 0, 0, 0, 0, 1,\n",
              "       1, 1, 1, 1, 1, 1, 1, 1, 1, 1, 1, 0, 0, 0, 0, 0, 1, 1, 0, 0, 0, 0,\n",
              "       0, 0, 0, 0, 0, 0, 0, 1, 1, 1, 1, 1, 1, 1, 0, 0, 0, 0, 0, 1, 1, 0,\n",
              "       0, 0, 1, 0, 0, 0, 0, 1, 1, 1, 1, 1, 1, 1, 1, 0, 1, 1, 0, 0, 0, 0,\n",
              "       0, 1, 1, 1, 1, 1, 1, 0, 0, 0, 1, 1, 1, 1, 1, 1, 1, 1, 1, 0, 0, 0,\n",
              "       0, 0, 0, 1, 1, 1, 0, 0, 0, 0, 0, 1, 1, 1, 0, 0, 1, 0, 1, 1, 0, 0,\n",
              "       1, 1, 1, 1, 1, 1, 1, 1, 0, 0, 0, 0, 0, 0, 0, 1, 1, 1, 1, 1, 1, 1,\n",
              "       1, 1, 1, 1, 1, 1, 0, 0, 0, 0, 0, 1, 0, 0, 0, 0, 1, 1, 1, 1, 1, 1,\n",
              "       1, 1, 1, 1, 0, 1, 1, 1, 1, 1, 1, 0, 1, 0, 0, 0, 1, 1, 1, 0, 1, 0,\n",
              "       1, 1, 0, 0, 0, 0, 0, 0, 0, 1, 1, 1, 1, 0, 0, 0, 0, 0, 0, 0, 1, 0,\n",
              "       1, 0, 1, 0, 0, 0, 0, 0, 1, 1, 0, 0, 0, 0, 1, 0, 0, 1, 0, 0, 0, 0,\n",
              "       1, 1, 1, 1, 1, 1, 1, 1, 0, 0, 0, 1, 0, 0, 1, 1, 1, 0, 1, 0, 0, 1,\n",
              "       0, 0, 0, 0, 0, 0, 1, 1, 1, 1, 0, 0, 0, 0, 0, 0, 0, 0, 0, 0, 0, 1,\n",
              "       1, 0, 0, 0, 0, 0, 1, 1, 1, 1, 1, 0, 0, 0, 0, 0, 0, 0, 0, 0, 0, 0,\n",
              "       0, 0, 1, 1, 1, 1, 1, 1, 1, 1, 0, 1, 0, 0, 0, 0, 0, 1, 0, 0, 1, 1,\n",
              "       1, 1, 0, 0, 1, 1, 1, 1, 1, 0, 1, 0, 1, 1, 0, 1, 0, 0, 0, 0, 0, 1,\n",
              "       1, 1, 1, 0, 0, 0, 0, 0, 0, 0, 0, 0, 0, 1, 1, 1, 1, 1, 1, 0, 0, 0,\n",
              "       0, 0, 0, 0, 0, 0, 0, 0, 1, 0, 1, 1, 1, 1, 1, 1, 0, 0, 0, 0, 0, 0,\n",
              "       0, 1, 0, 0, 0, 0, 1, 1, 1, 1, 1, 1, 0, 0, 1, 1, 1, 1, 1, 1, 1, 1,\n",
              "       0, 0, 0, 1, 1, 1, 1, 1, 1, 1, 1, 1, 1, 1, 1, 1, 1, 1, 1, 1, 1, 1,\n",
              "       1, 1, 1, 1, 0, 1, 1, 1, 1, 1, 1, 1, 1, 1, 0, 1, 1, 1, 1, 1, 0, 0,\n",
              "       0, 0, 0, 1, 0, 1, 1, 0, 0, 1, 1, 1, 1, 0, 1, 0, 0, 0, 0, 1, 1, 0,\n",
              "       1, 1, 1, 1, 0, 0])"
            ]
          },
          "metadata": {
            "tags": []
          },
          "execution_count": 389
        }
      ]
    },
    {
      "cell_type": "code",
      "metadata": {
        "id": "5t5o4NldebYo",
        "colab_type": "code",
        "colab": {}
      },
      "source": [
        "from sklearn.metrics import classification_report, confusion_matrix\n",
        "\n",
        "cm=confusion_matrix(test_labels, pred.argmax(axis=1))"
      ],
      "execution_count": 390,
      "outputs": []
    },
    {
      "cell_type": "code",
      "metadata": {
        "id": "E2N0EkwSkbPS",
        "colab_type": "code",
        "colab": {
          "base_uri": "https://localhost:8080/",
          "height": 215
        },
        "outputId": "8c441b9a-e39d-4514-8824-00d593622711"
      },
      "source": [
        "print('Confusion Matrix')\n",
        "fig,ax = plt.subplots(figsize=(2.5,2.5))\n",
        "ax.matshow(cm,cmap=plt.cm.Blues,alpha=0.3)\n",
        "for i in range(cm.shape[0]):\n",
        "  for j in range(cm.shape[1]):\n",
        "    ax.text(x=j,y=i,\n",
        "            s=cm[i,j],\n",
        "            va='center',ha='center')\n",
        "plt.xlabel('Predicted Label')\n",
        "plt.ylabel('True Label')\n",
        "plt.show()\n",
        "\n"
      ],
      "execution_count": 391,
      "outputs": [
        {
          "output_type": "stream",
          "text": [
            "Confusion Matrix\n"
          ],
          "name": "stdout"
        },
        {
          "output_type": "display_data",
          "data": {
            "image/png": "[encoded data removed]",
            "text/plain": [
              "<Figure size 180x180 with 1 Axes>"
            ]
          },
          "metadata": {
            "tags": [],
            "needs_background": "light"
          }
        }
      ]
    },
    {
      "cell_type": "code",
      "metadata": {
        "id": "BqloAWv8pioM",
        "colab_type": "code",
        "colab": {
          "base_uri": "https://localhost:8080/",
          "height": 69
        },
        "outputId": "5cb0e050-07fa-462d-d00f-fb8d022d76a4"
      },
      "source": [
        "from sklearn.metrics import precision_score\n",
        "from sklearn.metrics import recall_score, f1_score\n",
        "\n",
        "print('Precision: %.3f' % precision_score(y_true=test_labels,y_pred=pred.argmax(axis=1)))\n",
        "\n",
        "print('Recall: %.3f' % recall_score(y_true=test_labels,y_pred=pred.argmax(axis=1)))\n",
        "\n",
        "print('F1: %.3f' % f1_score(y_true=test_labels,y_pred=pred.argmax(axis=1)))"
      ],
      "execution_count": 392,
      "outputs": [
        {
          "output_type": "stream",
          "text": [
            "Precision: 0.837\n",
            "Recall: 0.787\n",
            "F1: 0.812\n"
          ],
          "name": "stdout"
        }
      ]
    },
    {
      "cell_type": "code",
      "metadata": {
        "id": "f6Kbg7ee6Ddc",
        "colab_type": "code",
        "colab": {}
      },
      "source": [
        "from sklearn.pipeline import Pipeline\n",
        "from sklearn.feature_selection import SelectKBest, chi2\n",
        "import xgboost as xgb\n",
        "from sklearn.model_selection import KFold, GridSearchCV\n",
        "from sklearn.metrics import accuracy_score, make_scorer"
      ],
      "execution_count": 393,
      "outputs": []
    },
    {
      "cell_type": "code",
      "metadata": {
        "id": "t3dxaKoa6HzT",
        "colab_type": "code",
        "colab": {}
      },
      "source": [
        "pipe = Pipeline([\n",
        "  ('fs', SelectKBest()),\n",
        "  ('clf', xgb.XGBClassifier(objective='binary:logistic'))\n",
        "])"
      ],
      "execution_count": 394,
      "outputs": []
    },
    {
      "cell_type": "code",
      "metadata": {
        "id": "YYasVbi56P_Q",
        "colab_type": "code",
        "colab": {}
      },
      "source": [
        "search_space = [\n",
        "  {\n",
        "    'clf__n_estimators': [200],\n",
        "    'clf__learning_rate': [0.05, 0.5, 0.1],\n",
        "    'clf__max_depth': range(3, 10),\n",
        "    'clf__colsample_bytree': [i/10.0 for i in range(1, 3)],\n",
        "    'clf__gamma': [i/10.0 for i in range(3)],\n",
        "    'fs__score_func': [mutual_info_classif,f_classif],\n",
        "    'fs__k': [30,40],\n",
        "  }\n",
        "]"
      ],
      "execution_count": 395,
      "outputs": []
    },
    {
      "cell_type": "code",
      "metadata": {
        "id": "MyjNXlvW7k0f",
        "colab_type": "code",
        "colab": {}
      },
      "source": [
        "kfold = KFold(n_splits=4, shuffle=True, random_state=42)"
      ],
      "execution_count": 396,
      "outputs": []
    },
    {
      "cell_type": "code",
      "metadata": {
        "id": "ytjrsKU77sQB",
        "colab_type": "code",
        "colab": {}
      },
      "source": [
        "scoring = {'AUC':'roc_auc', 'Accuracy':make_scorer(accuracy_score)}"
      ],
      "execution_count": 397,
      "outputs": []
    },
    {
      "cell_type": "code",
      "metadata": {
        "id": "VrXsHFmn7wML",
        "colab_type": "code",
        "colab": {}
      },
      "source": [
        "grid = GridSearchCV(\n",
        "  pipe,\n",
        "  param_grid=search_space,\n",
        "  cv=kfold,\n",
        "  scoring=scoring,\n",
        "  refit='AUC',\n",
        "  verbose=1,\n",
        "  n_jobs=-1\n",
        ")"
      ],
      "execution_count": 398,
      "outputs": []
    },
    {
      "cell_type": "code",
      "metadata": {
        "id": "Shvo5yEg7303",
        "colab_type": "code",
        "colab": {
          "base_uri": "https://localhost:8080/",
          "height": 173
        },
        "outputId": "daf00c30-a185-4ae4-8986-c4890336bec9"
      },
      "source": [
        "model = grid.fit(normed_train_data, train_labels)"
      ],
      "execution_count": 399,
      "outputs": [
        {
          "output_type": "stream",
          "text": [
            "Fitting 4 folds for each of 504 candidates, totalling 2016 fits\n"
          ],
          "name": "stdout"
        },
        {
          "output_type": "stream",
          "text": [
            "[Parallel(n_jobs=-1)]: Using backend LokyBackend with 2 concurrent workers.\n",
            "[Parallel(n_jobs=-1)]: Done  46 tasks      | elapsed:   24.4s\n",
            "[Parallel(n_jobs=-1)]: Done 196 tasks      | elapsed:  1.8min\n",
            "[Parallel(n_jobs=-1)]: Done 446 tasks      | elapsed:  4.0min\n",
            "[Parallel(n_jobs=-1)]: Done 796 tasks      | elapsed:  7.2min\n",
            "[Parallel(n_jobs=-1)]: Done 1246 tasks      | elapsed: 11.5min\n",
            "[Parallel(n_jobs=-1)]: Done 1796 tasks      | elapsed: 17.4min\n",
            "[Parallel(n_jobs=-1)]: Done 2016 out of 2016 | elapsed: 19.7min finished\n"
          ],
          "name": "stderr"
        }
      ]
    },
    {
      "cell_type": "code",
      "metadata": {
        "id": "S0MwiyBuOL-z",
        "colab_type": "code",
        "colab": {}
      },
      "source": [
        "import pickle\n",
        "\n",
        "# Dictionary of best parameters\n",
        "best_pars = grid.best_params_\n",
        "# Best XGB model that was found based on the metric score you specify\n",
        "best_model = grid.best_estimator_\n",
        "# Save model\n",
        "pickle.dump(grid.best_estimator_, open('gdrive/My Drive/SS_AITrader/'+stock+'/xgb_'+stock+'_log_reg.pickle', \"wb\"))"
      ],
      "execution_count": 400,
      "outputs": []
    },
    {
      "cell_type": "code",
      "metadata": {
        "id": "lYPYB1GQRn44",
        "colab_type": "code",
        "colab": {
          "base_uri": "https://localhost:8080/",
          "height": 51
        },
        "outputId": "41b59c0a-0607-46bb-ed80-ac921ed0f3dc"
      },
      "source": [
        "predict = model.predict(normed_test_data)\n",
        "print('Best AUC Score: {}'.format(model.best_score_))\n",
        "print('Accuracy: {}'.format(accuracy_score(test_labels, predict)))\n",
        "cm=confusion_matrix(test_labels,predict)"
      ],
      "execution_count": 402,
      "outputs": [
        {
          "output_type": "stream",
          "text": [
            "Best AUC Score: 0.9331986320959006\n",
            "Accuracy: 0.8734693877551021\n"
          ],
          "name": "stdout"
        }
      ]
    },
    {
      "cell_type": "code",
      "metadata": {
        "id": "_F-aB0lqS1dx",
        "colab_type": "code",
        "colab": {
          "base_uri": "https://localhost:8080/",
          "height": 215
        },
        "outputId": "4f686aff-192d-472c-bae1-de7b62696f75"
      },
      "source": [
        "print('Confusion Matrix')\n",
        "fig,ax = plt.subplots(figsize=(2.5,2.5))\n",
        "ax.matshow(cm,cmap=plt.cm.Blues,alpha=0.3)\n",
        "for i in range(cm.shape[0]):\n",
        "  for j in range(cm.shape[1]):\n",
        "    ax.text(x=j,y=i,\n",
        "            s=cm[i,j],\n",
        "            va='center',ha='center')\n",
        "plt.xlabel('Predicted Label')\n",
        "plt.ylabel('True Label')\n",
        "plt.show()"
      ],
      "execution_count": 403,
      "outputs": [
        {
          "output_type": "stream",
          "text": [
            "Confusion Matrix\n"
          ],
          "name": "stdout"
        },
        {
          "output_type": "display_data",
          "data": {
            "image/png": "[encoded data removed]",
            "text/plain": [
              "<Figure size 180x180 with 1 Axes>"
            ]
          },
          "metadata": {
            "tags": [],
            "needs_background": "light"
          }
        }
      ]
    },
    {
      "cell_type": "code",
      "metadata": {
        "id": "DNgkOrW_TPMl",
        "colab_type": "code",
        "colab": {
          "base_uri": "https://localhost:8080/",
          "height": 54
        },
        "outputId": "9984db88-a6d6-4414-dc61-ee29e9a0878b"
      },
      "source": [
        "print(model.best_params_)"
      ],
      "execution_count": 404,
      "outputs": [
        {
          "output_type": "stream",
          "text": [
            "{'clf__colsample_bytree': 0.2, 'clf__gamma': 0.0, 'clf__learning_rate': 0.1, 'clf__max_depth': 9, 'clf__n_estimators': 200, 'fs__k': 40, 'fs__score_func': <function f_classif at 0x7f9d4726fd90>}\n"
          ],
          "name": "stdout"
        }
      ]
    },
    {
      "cell_type": "code",
      "metadata": {
        "id": "9S0pNSHq8lEE",
        "colab_type": "code",
        "colab": {}
      },
      "source": [
        "k=40\n",
        "select_k_best = SelectKBest(f_classif, k=k)\n",
        "select_k_best.fit(normed_train_data, train_labels)\n",
        "selected_features_mic = itemgetter(*select_k_best.get_support(indices=True))(list_features)\n",
        "\n",
        "list_features = list(normed_train_data.columns)\n",
        "feat_idx = []\n",
        "for c in selected_features_mic:\n",
        "      feat_idx.append(list_features.index(c))\n",
        "\n",
        "feat_idx = sorted(feat_idx)\n",
        "X_train_new=normed_train_data.iloc[:, feat_idx]\n",
        "X_test_new=normed_test_data.iloc[:, feat_idx]\n",
        "\n",
        "\n"
      ],
      "execution_count": 405,
      "outputs": []
    },
    {
      "cell_type": "code",
      "metadata": {
        "id": "g5_E1028Tx0Q",
        "colab_type": "code",
        "colab": {
          "base_uri": "https://localhost:8080/",
          "height": 1000
        },
        "outputId": "12420849-40a2-4c5d-f459-30ce2ea33544"
      },
      "source": [
        "model_opt = xgb.XGBClassifier(max_depth=9,\n",
        "                        objective='binary:logistic',\n",
        "                        n_estimators=200,\n",
        "                        learning_rate = 0.1,\n",
        "                        colsample_bytree= 0.2,\n",
        "                        gamma= 0.0)\n",
        "eval_set = [(X_train_new, train_labels), (X_test_new, test_labels)]\n",
        "model_opt.fit(X_train_new, train_labels, early_stopping_rounds=15, eval_metric=[\"error\", \"logloss\"], eval_set=eval_set, verbose=True)"
      ],
      "execution_count": 406,
      "outputs": [
        {
          "output_type": "stream",
          "text": [
            "[0]\tvalidation_0-error:0.245408\tvalidation_0-logloss:0.66282\tvalidation_1-error:0.377551\tvalidation_1-logloss:0.679586\n",
            "Multiple eval metrics have been passed: 'validation_1-logloss' will be used for early stopping.\n",
            "\n",
            "Will train until validation_1-logloss hasn't improved in 15 rounds.\n",
            "[1]\tvalidation_0-error:0.138265\tvalidation_0-logloss:0.62787\tvalidation_1-error:0.32449\tvalidation_1-logloss:0.660771\n",
            "[2]\tvalidation_0-error:0.104592\tvalidation_0-logloss:0.596401\tvalidation_1-error:0.330612\tvalidation_1-logloss:0.652343\n",
            "[3]\tvalidation_0-error:0.071429\tvalidation_0-logloss:0.557086\tvalidation_1-error:0.253061\tvalidation_1-logloss:0.622557\n",
            "[4]\tvalidation_0-error:0.061735\tvalidation_0-logloss:0.528802\tvalidation_1-error:0.246939\tvalidation_1-logloss:0.610308\n",
            "[5]\tvalidation_0-error:0.05102\tvalidation_0-logloss:0.502803\tvalidation_1-error:0.246939\tvalidation_1-logloss:0.594649\n",
            "[6]\tvalidation_0-error:0.037755\tvalidation_0-logloss:0.473912\tvalidation_1-error:0.206122\tvalidation_1-logloss:0.572227\n",
            "[7]\tvalidation_0-error:0.028571\tvalidation_0-logloss:0.446216\tvalidation_1-error:0.193878\tvalidation_1-logloss:0.54976\n",
            "[8]\tvalidation_0-error:0.031122\tvalidation_0-logloss:0.423442\tvalidation_1-error:0.183673\tvalidation_1-logloss:0.535306\n",
            "[9]\tvalidation_0-error:0.027551\tvalidation_0-logloss:0.400267\tvalidation_1-error:0.169388\tvalidation_1-logloss:0.516699\n",
            "[10]\tvalidation_0-error:0.025\tvalidation_0-logloss:0.385548\tvalidation_1-error:0.167347\tvalidation_1-logloss:0.512658\n",
            "[11]\tvalidation_0-error:0.021939\tvalidation_0-logloss:0.367234\tvalidation_1-error:0.17551\tvalidation_1-logloss:0.502274\n",
            "[12]\tvalidation_0-error:0.022959\tvalidation_0-logloss:0.355567\tvalidation_1-error:0.177551\tvalidation_1-logloss:0.4979\n",
            "[13]\tvalidation_0-error:0.021939\tvalidation_0-logloss:0.340814\tvalidation_1-error:0.189796\tvalidation_1-logloss:0.48966\n",
            "[14]\tvalidation_0-error:0.018367\tvalidation_0-logloss:0.330102\tvalidation_1-error:0.193878\tvalidation_1-logloss:0.488773\n",
            "[15]\tvalidation_0-error:0.016327\tvalidation_0-logloss:0.319177\tvalidation_1-error:0.187755\tvalidation_1-logloss:0.481695\n",
            "[16]\tvalidation_0-error:0.016837\tvalidation_0-logloss:0.30501\tvalidation_1-error:0.181633\tvalidation_1-logloss:0.469164\n",
            "[17]\tvalidation_0-error:0.014286\tvalidation_0-logloss:0.291846\tvalidation_1-error:0.17551\tvalidation_1-logloss:0.459236\n",
            "[18]\tvalidation_0-error:0.013776\tvalidation_0-logloss:0.280184\tvalidation_1-error:0.173469\tvalidation_1-logloss:0.453594\n",
            "[19]\tvalidation_0-error:0.012245\tvalidation_0-logloss:0.272676\tvalidation_1-error:0.173469\tvalidation_1-logloss:0.454048\n",
            "[20]\tvalidation_0-error:0.010714\tvalidation_0-logloss:0.263594\tvalidation_1-error:0.177551\tvalidation_1-logloss:0.4502\n",
            "[21]\tvalidation_0-error:0.007653\tvalidation_0-logloss:0.256929\tvalidation_1-error:0.169388\tvalidation_1-logloss:0.448899\n",
            "[22]\tvalidation_0-error:0.006122\tvalidation_0-logloss:0.250343\tvalidation_1-error:0.173469\tvalidation_1-logloss:0.446352\n",
            "[23]\tvalidation_0-error:0.007143\tvalidation_0-logloss:0.239896\tvalidation_1-error:0.173469\tvalidation_1-logloss:0.439976\n",
            "[24]\tvalidation_0-error:0.005612\tvalidation_0-logloss:0.234729\tvalidation_1-error:0.177551\tvalidation_1-logloss:0.438592\n",
            "[25]\tvalidation_0-error:0.005102\tvalidation_0-logloss:0.22789\tvalidation_1-error:0.177551\tvalidation_1-logloss:0.434903\n",
            "[26]\tvalidation_0-error:0.004592\tvalidation_0-logloss:0.217249\tvalidation_1-error:0.159184\tvalidation_1-logloss:0.42293\n",
            "[27]\tvalidation_0-error:0.003571\tvalidation_0-logloss:0.210345\tvalidation_1-error:0.155102\tvalidation_1-logloss:0.418644\n",
            "[28]\tvalidation_0-error:0.004592\tvalidation_0-logloss:0.202822\tvalidation_1-error:0.159184\tvalidation_1-logloss:0.414181\n",
            "[29]\tvalidation_0-error:0.003571\tvalidation_0-logloss:0.197213\tvalidation_1-error:0.15102\tvalidation_1-logloss:0.409978\n",
            "[30]\tvalidation_0-error:0.00102\tvalidation_0-logloss:0.190259\tvalidation_1-error:0.165306\tvalidation_1-logloss:0.406739\n",
            "[31]\tvalidation_0-error:0.002041\tvalidation_0-logloss:0.183693\tvalidation_1-error:0.165306\tvalidation_1-logloss:0.399646\n",
            "[32]\tvalidation_0-error:0.00102\tvalidation_0-logloss:0.177751\tvalidation_1-error:0.165306\tvalidation_1-logloss:0.397087\n",
            "[33]\tvalidation_0-error:0.00051\tvalidation_0-logloss:0.170656\tvalidation_1-error:0.159184\tvalidation_1-logloss:0.391626\n",
            "[34]\tvalidation_0-error:0.00102\tvalidation_0-logloss:0.165714\tvalidation_1-error:0.161224\tvalidation_1-logloss:0.388852\n",
            "[35]\tvalidation_0-error:0.00051\tvalidation_0-logloss:0.162576\tvalidation_1-error:0.153061\tvalidation_1-logloss:0.388542\n",
            "[36]\tvalidation_0-error:0\tvalidation_0-logloss:0.160421\tvalidation_1-error:0.153061\tvalidation_1-logloss:0.38781\n",
            "[37]\tvalidation_0-error:0.00102\tvalidation_0-logloss:0.156041\tvalidation_1-error:0.15102\tvalidation_1-logloss:0.384434\n",
            "[38]\tvalidation_0-error:0.00102\tvalidation_0-logloss:0.151526\tvalidation_1-error:0.155102\tvalidation_1-logloss:0.381624\n",
            "[39]\tvalidation_0-error:0.00051\tvalidation_0-logloss:0.148272\tvalidation_1-error:0.153061\tvalidation_1-logloss:0.38026\n",
            "[40]\tvalidation_0-error:0\tvalidation_0-logloss:0.142342\tvalidation_1-error:0.146939\tvalidation_1-logloss:0.373475\n",
            "[41]\tvalidation_0-error:0.00051\tvalidation_0-logloss:0.138488\tvalidation_1-error:0.14898\tvalidation_1-logloss:0.370181\n",
            "[42]\tvalidation_0-error:0\tvalidation_0-logloss:0.134843\tvalidation_1-error:0.155102\tvalidation_1-logloss:0.367752\n",
            "[43]\tvalidation_0-error:0\tvalidation_0-logloss:0.132149\tvalidation_1-error:0.159184\tvalidation_1-logloss:0.366277\n",
            "[44]\tvalidation_0-error:0\tvalidation_0-logloss:0.129712\tvalidation_1-error:0.15102\tvalidation_1-logloss:0.36631\n",
            "[45]\tvalidation_0-error:0\tvalidation_0-logloss:0.126985\tvalidation_1-error:0.153061\tvalidation_1-logloss:0.364344\n",
            "[46]\tvalidation_0-error:0\tvalidation_0-logloss:0.124434\tvalidation_1-error:0.157143\tvalidation_1-logloss:0.364595\n",
            "[47]\tvalidation_0-error:0\tvalidation_0-logloss:0.121884\tvalidation_1-error:0.146939\tvalidation_1-logloss:0.362473\n",
            "[48]\tvalidation_0-error:0\tvalidation_0-logloss:0.118188\tvalidation_1-error:0.146939\tvalidation_1-logloss:0.360294\n",
            "[49]\tvalidation_0-error:0\tvalidation_0-logloss:0.116714\tvalidation_1-error:0.14898\tvalidation_1-logloss:0.360161\n",
            "[50]\tvalidation_0-error:0\tvalidation_0-logloss:0.113346\tvalidation_1-error:0.146939\tvalidation_1-logloss:0.357388\n",
            "[51]\tvalidation_0-error:0\tvalidation_0-logloss:0.110183\tvalidation_1-error:0.146939\tvalidation_1-logloss:0.354473\n",
            "[52]\tvalidation_0-error:0\tvalidation_0-logloss:0.106929\tvalidation_1-error:0.144898\tvalidation_1-logloss:0.352436\n",
            "[53]\tvalidation_0-error:0\tvalidation_0-logloss:0.1056\tvalidation_1-error:0.146939\tvalidation_1-logloss:0.352881\n",
            "[54]\tvalidation_0-error:0\tvalidation_0-logloss:0.102605\tvalidation_1-error:0.140816\tvalidation_1-logloss:0.347981\n",
            "[55]\tvalidation_0-error:0\tvalidation_0-logloss:0.099624\tvalidation_1-error:0.142857\tvalidation_1-logloss:0.345041\n",
            "[56]\tvalidation_0-error:0\tvalidation_0-logloss:0.098984\tvalidation_1-error:0.142857\tvalidation_1-logloss:0.34486\n",
            "[57]\tvalidation_0-error:0\tvalidation_0-logloss:0.097874\tvalidation_1-error:0.140816\tvalidation_1-logloss:0.343667\n",
            "[58]\tvalidation_0-error:0\tvalidation_0-logloss:0.094884\tvalidation_1-error:0.136735\tvalidation_1-logloss:0.340572\n",
            "[59]\tvalidation_0-error:0\tvalidation_0-logloss:0.092959\tvalidation_1-error:0.138776\tvalidation_1-logloss:0.340875\n",
            "[60]\tvalidation_0-error:0\tvalidation_0-logloss:0.09176\tvalidation_1-error:0.134694\tvalidation_1-logloss:0.339012\n",
            "[61]\tvalidation_0-error:0\tvalidation_0-logloss:0.089537\tvalidation_1-error:0.134694\tvalidation_1-logloss:0.336361\n",
            "[62]\tvalidation_0-error:0\tvalidation_0-logloss:0.088606\tvalidation_1-error:0.132653\tvalidation_1-logloss:0.335099\n",
            "[63]\tvalidation_0-error:0\tvalidation_0-logloss:0.087249\tvalidation_1-error:0.130612\tvalidation_1-logloss:0.334487\n",
            "[64]\tvalidation_0-error:0\tvalidation_0-logloss:0.085987\tvalidation_1-error:0.134694\tvalidation_1-logloss:0.334267\n",
            "[65]\tvalidation_0-error:0\tvalidation_0-logloss:0.084653\tvalidation_1-error:0.140816\tvalidation_1-logloss:0.334652\n",
            "[66]\tvalidation_0-error:0\tvalidation_0-logloss:0.082493\tvalidation_1-error:0.132653\tvalidation_1-logloss:0.331706\n",
            "[67]\tvalidation_0-error:0\tvalidation_0-logloss:0.081289\tvalidation_1-error:0.130612\tvalidation_1-logloss:0.331541\n",
            "[68]\tvalidation_0-error:0\tvalidation_0-logloss:0.080036\tvalidation_1-error:0.130612\tvalidation_1-logloss:0.330335\n",
            "[69]\tvalidation_0-error:0\tvalidation_0-logloss:0.079168\tvalidation_1-error:0.132653\tvalidation_1-logloss:0.329486\n",
            "[70]\tvalidation_0-error:0\tvalidation_0-logloss:0.078755\tvalidation_1-error:0.136735\tvalidation_1-logloss:0.329007\n",
            "[71]\tvalidation_0-error:0\tvalidation_0-logloss:0.077634\tvalidation_1-error:0.136735\tvalidation_1-logloss:0.329986\n",
            "[72]\tvalidation_0-error:0\tvalidation_0-logloss:0.076422\tvalidation_1-error:0.140816\tvalidation_1-logloss:0.329911\n",
            "[73]\tvalidation_0-error:0\tvalidation_0-logloss:0.075813\tvalidation_1-error:0.138776\tvalidation_1-logloss:0.330304\n",
            "[74]\tvalidation_0-error:0\tvalidation_0-logloss:0.074782\tvalidation_1-error:0.134694\tvalidation_1-logloss:0.328437\n",
            "[75]\tvalidation_0-error:0\tvalidation_0-logloss:0.073051\tvalidation_1-error:0.132653\tvalidation_1-logloss:0.326837\n",
            "[76]\tvalidation_0-error:0\tvalidation_0-logloss:0.072347\tvalidation_1-error:0.130612\tvalidation_1-logloss:0.326558\n",
            "[77]\tvalidation_0-error:0\tvalidation_0-logloss:0.071385\tvalidation_1-error:0.132653\tvalidation_1-logloss:0.326939\n",
            "[78]\tvalidation_0-error:0\tvalidation_0-logloss:0.070338\tvalidation_1-error:0.126531\tvalidation_1-logloss:0.326248\n",
            "[79]\tvalidation_0-error:0\tvalidation_0-logloss:0.068924\tvalidation_1-error:0.126531\tvalidation_1-logloss:0.326233\n",
            "[80]\tvalidation_0-error:0\tvalidation_0-logloss:0.0682\tvalidation_1-error:0.126531\tvalidation_1-logloss:0.325359\n",
            "[81]\tvalidation_0-error:0\tvalidation_0-logloss:0.067144\tvalidation_1-error:0.12449\tvalidation_1-logloss:0.324964\n",
            "[82]\tvalidation_0-error:0\tvalidation_0-logloss:0.066279\tvalidation_1-error:0.122449\tvalidation_1-logloss:0.325231\n",
            "[83]\tvalidation_0-error:0\tvalidation_0-logloss:0.065146\tvalidation_1-error:0.12449\tvalidation_1-logloss:0.324186\n",
            "[84]\tvalidation_0-error:0\tvalidation_0-logloss:0.064016\tvalidation_1-error:0.126531\tvalidation_1-logloss:0.322784\n",
            "[85]\tvalidation_0-error:0\tvalidation_0-logloss:0.06316\tvalidation_1-error:0.126531\tvalidation_1-logloss:0.323343\n",
            "[86]\tvalidation_0-error:0\tvalidation_0-logloss:0.062066\tvalidation_1-error:0.126531\tvalidation_1-logloss:0.321233\n",
            "[87]\tvalidation_0-error:0\tvalidation_0-logloss:0.061624\tvalidation_1-error:0.12449\tvalidation_1-logloss:0.321498\n",
            "[88]\tvalidation_0-error:0\tvalidation_0-logloss:0.060549\tvalidation_1-error:0.130612\tvalidation_1-logloss:0.321822\n",
            "[89]\tvalidation_0-error:0\tvalidation_0-logloss:0.059496\tvalidation_1-error:0.128571\tvalidation_1-logloss:0.321559\n",
            "[90]\tvalidation_0-error:0\tvalidation_0-logloss:0.058327\tvalidation_1-error:0.130612\tvalidation_1-logloss:0.319532\n",
            "[91]\tvalidation_0-error:0\tvalidation_0-logloss:0.057478\tvalidation_1-error:0.128571\tvalidation_1-logloss:0.318198\n",
            "[92]\tvalidation_0-error:0\tvalidation_0-logloss:0.056331\tvalidation_1-error:0.130612\tvalidation_1-logloss:0.316596\n",
            "[93]\tvalidation_0-error:0\tvalidation_0-logloss:0.055309\tvalidation_1-error:0.126531\tvalidation_1-logloss:0.315073\n",
            "[94]\tvalidation_0-error:0\tvalidation_0-logloss:0.054481\tvalidation_1-error:0.12449\tvalidation_1-logloss:0.314481\n",
            "[95]\tvalidation_0-error:0\tvalidation_0-logloss:0.053614\tvalidation_1-error:0.120408\tvalidation_1-logloss:0.313616\n",
            "[96]\tvalidation_0-error:0\tvalidation_0-logloss:0.053174\tvalidation_1-error:0.120408\tvalidation_1-logloss:0.313849\n",
            "[97]\tvalidation_0-error:0\tvalidation_0-logloss:0.052545\tvalidation_1-error:0.120408\tvalidation_1-logloss:0.313601\n",
            "[98]\tvalidation_0-error:0\tvalidation_0-logloss:0.051806\tvalidation_1-error:0.12449\tvalidation_1-logloss:0.312785\n",
            "[99]\tvalidation_0-error:0\tvalidation_0-logloss:0.051524\tvalidation_1-error:0.12449\tvalidation_1-logloss:0.312169\n",
            "[100]\tvalidation_0-error:0\tvalidation_0-logloss:0.050746\tvalidation_1-error:0.122449\tvalidation_1-logloss:0.311865\n",
            "[101]\tvalidation_0-error:0\tvalidation_0-logloss:0.050286\tvalidation_1-error:0.122449\tvalidation_1-logloss:0.311433\n",
            "[102]\tvalidation_0-error:0\tvalidation_0-logloss:0.049983\tvalidation_1-error:0.122449\tvalidation_1-logloss:0.311374\n",
            "[103]\tvalidation_0-error:0\tvalidation_0-logloss:0.049221\tvalidation_1-error:0.122449\tvalidation_1-logloss:0.310686\n",
            "[104]\tvalidation_0-error:0\tvalidation_0-logloss:0.048591\tvalidation_1-error:0.120408\tvalidation_1-logloss:0.310395\n",
            "[105]\tvalidation_0-error:0\tvalidation_0-logloss:0.047742\tvalidation_1-error:0.118367\tvalidation_1-logloss:0.308847\n",
            "[106]\tvalidation_0-error:0\tvalidation_0-logloss:0.047106\tvalidation_1-error:0.120408\tvalidation_1-logloss:0.309436\n",
            "[107]\tvalidation_0-error:0\tvalidation_0-logloss:0.046657\tvalidation_1-error:0.120408\tvalidation_1-logloss:0.308987\n",
            "[108]\tvalidation_0-error:0\tvalidation_0-logloss:0.046422\tvalidation_1-error:0.122449\tvalidation_1-logloss:0.308997\n",
            "[109]\tvalidation_0-error:0\tvalidation_0-logloss:0.045901\tvalidation_1-error:0.122449\tvalidation_1-logloss:0.309619\n",
            "[110]\tvalidation_0-error:0\tvalidation_0-logloss:0.045526\tvalidation_1-error:0.122449\tvalidation_1-logloss:0.309933\n",
            "[111]\tvalidation_0-error:0\tvalidation_0-logloss:0.044933\tvalidation_1-error:0.122449\tvalidation_1-logloss:0.309506\n",
            "[112]\tvalidation_0-error:0\tvalidation_0-logloss:0.044677\tvalidation_1-error:0.122449\tvalidation_1-logloss:0.309377\n",
            "[113]\tvalidation_0-error:0\tvalidation_0-logloss:0.04384\tvalidation_1-error:0.126531\tvalidation_1-logloss:0.307804\n",
            "[114]\tvalidation_0-error:0\tvalidation_0-logloss:0.043233\tvalidation_1-error:0.12449\tvalidation_1-logloss:0.307479\n",
            "[115]\tvalidation_0-error:0\tvalidation_0-logloss:0.042982\tvalidation_1-error:0.126531\tvalidation_1-logloss:0.307456\n",
            "[116]\tvalidation_0-error:0\tvalidation_0-logloss:0.042538\tvalidation_1-error:0.126531\tvalidation_1-logloss:0.307029\n",
            "[117]\tvalidation_0-error:0\tvalidation_0-logloss:0.042256\tvalidation_1-error:0.12449\tvalidation_1-logloss:0.307067\n",
            "[118]\tvalidation_0-error:0\tvalidation_0-logloss:0.041655\tvalidation_1-error:0.126531\tvalidation_1-logloss:0.306536\n",
            "[119]\tvalidation_0-error:0\tvalidation_0-logloss:0.041089\tvalidation_1-error:0.122449\tvalidation_1-logloss:0.306241\n",
            "[120]\tvalidation_0-error:0\tvalidation_0-logloss:0.040591\tvalidation_1-error:0.122449\tvalidation_1-logloss:0.305956\n",
            "[121]\tvalidation_0-error:0\tvalidation_0-logloss:0.040203\tvalidation_1-error:0.12449\tvalidation_1-logloss:0.306034\n",
            "[122]\tvalidation_0-error:0\tvalidation_0-logloss:0.039895\tvalidation_1-error:0.126531\tvalidation_1-logloss:0.305514\n",
            "[123]\tvalidation_0-error:0\tvalidation_0-logloss:0.039481\tvalidation_1-error:0.12449\tvalidation_1-logloss:0.304695\n",
            "[124]\tvalidation_0-error:0\tvalidation_0-logloss:0.039094\tvalidation_1-error:0.120408\tvalidation_1-logloss:0.304793\n",
            "[125]\tvalidation_0-error:0\tvalidation_0-logloss:0.038598\tvalidation_1-error:0.122449\tvalidation_1-logloss:0.304995\n",
            "[126]\tvalidation_0-error:0\tvalidation_0-logloss:0.038213\tvalidation_1-error:0.12449\tvalidation_1-logloss:0.305208\n",
            "[127]\tvalidation_0-error:0\tvalidation_0-logloss:0.037774\tvalidation_1-error:0.12449\tvalidation_1-logloss:0.305154\n",
            "[128]\tvalidation_0-error:0\tvalidation_0-logloss:0.037318\tvalidation_1-error:0.126531\tvalidation_1-logloss:0.304982\n",
            "[129]\tvalidation_0-error:0\tvalidation_0-logloss:0.03699\tvalidation_1-error:0.122449\tvalidation_1-logloss:0.304\n",
            "[130]\tvalidation_0-error:0\tvalidation_0-logloss:0.036695\tvalidation_1-error:0.12449\tvalidation_1-logloss:0.304406\n",
            "[131]\tvalidation_0-error:0\tvalidation_0-logloss:0.03622\tvalidation_1-error:0.122449\tvalidation_1-logloss:0.30326\n",
            "[132]\tvalidation_0-error:0\tvalidation_0-logloss:0.03591\tvalidation_1-error:0.122449\tvalidation_1-logloss:0.302849\n",
            "[133]\tvalidation_0-error:0\tvalidation_0-logloss:0.035401\tvalidation_1-error:0.12449\tvalidation_1-logloss:0.302438\n",
            "[134]\tvalidation_0-error:0\tvalidation_0-logloss:0.034937\tvalidation_1-error:0.122449\tvalidation_1-logloss:0.301504\n",
            "[135]\tvalidation_0-error:0\tvalidation_0-logloss:0.034577\tvalidation_1-error:0.12449\tvalidation_1-logloss:0.301453\n",
            "[136]\tvalidation_0-error:0\tvalidation_0-logloss:0.034286\tvalidation_1-error:0.120408\tvalidation_1-logloss:0.300654\n",
            "[137]\tvalidation_0-error:0\tvalidation_0-logloss:0.03385\tvalidation_1-error:0.122449\tvalidation_1-logloss:0.300866\n",
            "[138]\tvalidation_0-error:0\tvalidation_0-logloss:0.033454\tvalidation_1-error:0.122449\tvalidation_1-logloss:0.300348\n",
            "[139]\tvalidation_0-error:0\tvalidation_0-logloss:0.032994\tvalidation_1-error:0.120408\tvalidation_1-logloss:0.299208\n",
            "[140]\tvalidation_0-error:0\tvalidation_0-logloss:0.032744\tvalidation_1-error:0.118367\tvalidation_1-logloss:0.298945\n",
            "[141]\tvalidation_0-error:0\tvalidation_0-logloss:0.032432\tvalidation_1-error:0.120408\tvalidation_1-logloss:0.298267\n",
            "[142]\tvalidation_0-error:0\tvalidation_0-logloss:0.032033\tvalidation_1-error:0.122449\tvalidation_1-logloss:0.29762\n",
            "[143]\tvalidation_0-error:0\tvalidation_0-logloss:0.031784\tvalidation_1-error:0.12449\tvalidation_1-logloss:0.29756\n",
            "[144]\tvalidation_0-error:0\tvalidation_0-logloss:0.031427\tvalidation_1-error:0.126531\tvalidation_1-logloss:0.296987\n",
            "[145]\tvalidation_0-error:0\tvalidation_0-logloss:0.031213\tvalidation_1-error:0.126531\tvalidation_1-logloss:0.297293\n",
            "[146]\tvalidation_0-error:0\tvalidation_0-logloss:0.030904\tvalidation_1-error:0.12449\tvalidation_1-logloss:0.297677\n",
            "[147]\tvalidation_0-error:0\tvalidation_0-logloss:0.030684\tvalidation_1-error:0.126531\tvalidation_1-logloss:0.2984\n",
            "[148]\tvalidation_0-error:0\tvalidation_0-logloss:0.030441\tvalidation_1-error:0.128571\tvalidation_1-logloss:0.29824\n",
            "[149]\tvalidation_0-error:0\tvalidation_0-logloss:0.030208\tvalidation_1-error:0.126531\tvalidation_1-logloss:0.297616\n",
            "[150]\tvalidation_0-error:0\tvalidation_0-logloss:0.029996\tvalidation_1-error:0.130612\tvalidation_1-logloss:0.298124\n",
            "[151]\tvalidation_0-error:0\tvalidation_0-logloss:0.029667\tvalidation_1-error:0.12449\tvalidation_1-logloss:0.296811\n",
            "[152]\tvalidation_0-error:0\tvalidation_0-logloss:0.029351\tvalidation_1-error:0.128571\tvalidation_1-logloss:0.29646\n",
            "[153]\tvalidation_0-error:0\tvalidation_0-logloss:0.029148\tvalidation_1-error:0.128571\tvalidation_1-logloss:0.296116\n",
            "[154]\tvalidation_0-error:0\tvalidation_0-logloss:0.028901\tvalidation_1-error:0.126531\tvalidation_1-logloss:0.295989\n",
            "[155]\tvalidation_0-error:0\tvalidation_0-logloss:0.028533\tvalidation_1-error:0.126531\tvalidation_1-logloss:0.295286\n",
            "[156]\tvalidation_0-error:0\tvalidation_0-logloss:0.028329\tvalidation_1-error:0.126531\tvalidation_1-logloss:0.295601\n",
            "[157]\tvalidation_0-error:0\tvalidation_0-logloss:0.028095\tvalidation_1-error:0.126531\tvalidation_1-logloss:0.295691\n",
            "[158]\tvalidation_0-error:0\tvalidation_0-logloss:0.027835\tvalidation_1-error:0.126531\tvalidation_1-logloss:0.296072\n",
            "[159]\tvalidation_0-error:0\tvalidation_0-logloss:0.027516\tvalidation_1-error:0.126531\tvalidation_1-logloss:0.295684\n",
            "[160]\tvalidation_0-error:0\tvalidation_0-logloss:0.027357\tvalidation_1-error:0.128571\tvalidation_1-logloss:0.295654\n",
            "[161]\tvalidation_0-error:0\tvalidation_0-logloss:0.027123\tvalidation_1-error:0.12449\tvalidation_1-logloss:0.294992\n",
            "[162]\tvalidation_0-error:0\tvalidation_0-logloss:0.026905\tvalidation_1-error:0.12449\tvalidation_1-logloss:0.294788\n",
            "[163]\tvalidation_0-error:0\tvalidation_0-logloss:0.026689\tvalidation_1-error:0.12449\tvalidation_1-logloss:0.294449\n",
            "[164]\tvalidation_0-error:0\tvalidation_0-logloss:0.026608\tvalidation_1-error:0.12449\tvalidation_1-logloss:0.294478\n",
            "[165]\tvalidation_0-error:0\tvalidation_0-logloss:0.026407\tvalidation_1-error:0.128571\tvalidation_1-logloss:0.294076\n",
            "[166]\tvalidation_0-error:0\tvalidation_0-logloss:0.026282\tvalidation_1-error:0.128571\tvalidation_1-logloss:0.294245\n",
            "[167]\tvalidation_0-error:0\tvalidation_0-logloss:0.02607\tvalidation_1-error:0.126531\tvalidation_1-logloss:0.294147\n",
            "[168]\tvalidation_0-error:0\tvalidation_0-logloss:0.025924\tvalidation_1-error:0.128571\tvalidation_1-logloss:0.294126\n",
            "[169]\tvalidation_0-error:0\tvalidation_0-logloss:0.025647\tvalidation_1-error:0.12449\tvalidation_1-logloss:0.293593\n",
            "[170]\tvalidation_0-error:0\tvalidation_0-logloss:0.025431\tvalidation_1-error:0.126531\tvalidation_1-logloss:0.293392\n",
            "[171]\tvalidation_0-error:0\tvalidation_0-logloss:0.025262\tvalidation_1-error:0.126531\tvalidation_1-logloss:0.293043\n",
            "[172]\tvalidation_0-error:0\tvalidation_0-logloss:0.025119\tvalidation_1-error:0.126531\tvalidation_1-logloss:0.293549\n",
            "[173]\tvalidation_0-error:0\tvalidation_0-logloss:0.024856\tvalidation_1-error:0.130612\tvalidation_1-logloss:0.292971\n",
            "[174]\tvalidation_0-error:0\tvalidation_0-logloss:0.024684\tvalidation_1-error:0.126531\tvalidation_1-logloss:0.293202\n",
            "[175]\tvalidation_0-error:0\tvalidation_0-logloss:0.024476\tvalidation_1-error:0.130612\tvalidation_1-logloss:0.292631\n",
            "[176]\tvalidation_0-error:0\tvalidation_0-logloss:0.024326\tvalidation_1-error:0.128571\tvalidation_1-logloss:0.292757\n",
            "[177]\tvalidation_0-error:0\tvalidation_0-logloss:0.024144\tvalidation_1-error:0.128571\tvalidation_1-logloss:0.292113\n",
            "[178]\tvalidation_0-error:0\tvalidation_0-logloss:0.023963\tvalidation_1-error:0.126531\tvalidation_1-logloss:0.292296\n",
            "[179]\tvalidation_0-error:0\tvalidation_0-logloss:0.023781\tvalidation_1-error:0.128571\tvalidation_1-logloss:0.292688\n",
            "[180]\tvalidation_0-error:0\tvalidation_0-logloss:0.023591\tvalidation_1-error:0.130612\tvalidation_1-logloss:0.292661\n",
            "[181]\tvalidation_0-error:0\tvalidation_0-logloss:0.023409\tvalidation_1-error:0.130612\tvalidation_1-logloss:0.292989\n",
            "[182]\tvalidation_0-error:0\tvalidation_0-logloss:0.02322\tvalidation_1-error:0.128571\tvalidation_1-logloss:0.292405\n",
            "[183]\tvalidation_0-error:0\tvalidation_0-logloss:0.023075\tvalidation_1-error:0.128571\tvalidation_1-logloss:0.292844\n",
            "[184]\tvalidation_0-error:0\tvalidation_0-logloss:0.022897\tvalidation_1-error:0.126531\tvalidation_1-logloss:0.29242\n",
            "[185]\tvalidation_0-error:0\tvalidation_0-logloss:0.022731\tvalidation_1-error:0.128571\tvalidation_1-logloss:0.29263\n",
            "[186]\tvalidation_0-error:0\tvalidation_0-logloss:0.022575\tvalidation_1-error:0.130612\tvalidation_1-logloss:0.292272\n",
            "[187]\tvalidation_0-error:0\tvalidation_0-logloss:0.022435\tvalidation_1-error:0.128571\tvalidation_1-logloss:0.292337\n",
            "[188]\tvalidation_0-error:0\tvalidation_0-logloss:0.022222\tvalidation_1-error:0.128571\tvalidation_1-logloss:0.291092\n",
            "[189]\tvalidation_0-error:0\tvalidation_0-logloss:0.022094\tvalidation_1-error:0.126531\tvalidation_1-logloss:0.29122\n",
            "[190]\tvalidation_0-error:0\tvalidation_0-logloss:0.021945\tvalidation_1-error:0.12449\tvalidation_1-logloss:0.290914\n",
            "[191]\tvalidation_0-error:0\tvalidation_0-logloss:0.021772\tvalidation_1-error:0.126531\tvalidation_1-logloss:0.290293\n",
            "[192]\tvalidation_0-error:0\tvalidation_0-logloss:0.021624\tvalidation_1-error:0.126531\tvalidation_1-logloss:0.290179\n",
            "[193]\tvalidation_0-error:0\tvalidation_0-logloss:0.021455\tvalidation_1-error:0.126531\tvalidation_1-logloss:0.289874\n",
            "[194]\tvalidation_0-error:0\tvalidation_0-logloss:0.02128\tvalidation_1-error:0.126531\tvalidation_1-logloss:0.289525\n",
            "[195]\tvalidation_0-error:0\tvalidation_0-logloss:0.021144\tvalidation_1-error:0.126531\tvalidation_1-logloss:0.289426\n",
            "[196]\tvalidation_0-error:0\tvalidation_0-logloss:0.021049\tvalidation_1-error:0.12449\tvalidation_1-logloss:0.289997\n",
            "[197]\tvalidation_0-error:0\tvalidation_0-logloss:0.020928\tvalidation_1-error:0.126531\tvalidation_1-logloss:0.289787\n",
            "[198]\tvalidation_0-error:0\tvalidation_0-logloss:0.020783\tvalidation_1-error:0.126531\tvalidation_1-logloss:0.289315\n",
            "[199]\tvalidation_0-error:0\tvalidation_0-logloss:0.020666\tvalidation_1-error:0.126531\tvalidation_1-logloss:0.289348\n"
          ],
          "name": "stdout"
        },
        {
          "output_type": "execute_result",
          "data": {
            "text/plain": [
              "XGBClassifier(base_score=0.5, booster='gbtree', colsample_bylevel=1,\n",
              "              colsample_bynode=1, colsample_bytree=0.2, gamma=0.0,\n",
              "              learning_rate=0.1, max_delta_step=0, max_depth=9,\n",
              "              min_child_weight=1, missing=None, n_estimators=200, n_jobs=1,\n",
              "              nthread=None, objective='binary:logistic', random_state=0,\n",
              "              reg_alpha=0, reg_lambda=1, scale_pos_weight=1, seed=None,\n",
              "              silent=None, subsample=1, verbosity=1)"
            ]
          },
          "metadata": {
            "tags": []
          },
          "execution_count": 406
        }
      ]
    },
    {
      "cell_type": "code",
      "metadata": {
        "id": "QSaYf0OGYnBq",
        "colab_type": "code",
        "colab": {
          "base_uri": "https://localhost:8080/",
          "height": 34
        },
        "outputId": "9b90f7cf-de55-4566-bc20-3d8a7e727b6f"
      },
      "source": [
        "\n",
        "# make predictions for test data\n",
        "y_pred = model_opt.predict(X_test_new)\n",
        "predictions = [round(value) for value in y_pred]\n",
        "\n",
        "# evaluate predictions\n",
        "accuracy = accuracy_score(test_labels, predictions)\n",
        "print(\"Accuracy: %.2f%%\" % (accuracy * 100.0))"
      ],
      "execution_count": 407,
      "outputs": [
        {
          "output_type": "stream",
          "text": [
            "Accuracy: 87.35%\n"
          ],
          "name": "stdout"
        }
      ]
    },
    {
      "cell_type": "code",
      "metadata": {
        "id": "Z8D-K6-UZeNJ",
        "colab_type": "code",
        "colab": {
          "base_uri": "https://localhost:8080/",
          "height": 545
        },
        "outputId": "a2b473b0-59ca-4146-9b57-d723be2d7af4"
      },
      "source": [
        "from matplotlib import pyplot\n",
        "\n",
        "results = model_opt.evals_result()\n",
        "epochs = len(results['validation_0']['error'])\n",
        "x_axis = range(0, epochs)\n",
        "# plot log loss\n",
        "fig, ax = pyplot.subplots()\n",
        "ax.plot(x_axis, results['validation_0']['logloss'], label='Train')\n",
        "ax.plot(x_axis, results['validation_1']['logloss'], label='Test')\n",
        "ax.legend()\n",
        "pyplot.ylabel('Log Loss')\n",
        "pyplot.title('XGBoost Log Loss')\n",
        "pyplot.show()\n",
        "# plot classification error\n",
        "fig, ax = pyplot.subplots()\n",
        "ax.plot(x_axis, results['validation_0']['error'], label='Train')\n",
        "ax.plot(x_axis, results['validation_1']['error'], label='Test')\n",
        "ax.legend()\n",
        "pyplot.ylabel('Classification Error')\n",
        "pyplot.title('XGBoost Classification Error')\n",
        "pyplot.show()"
      ],
      "execution_count": 408,
      "outputs": [
        {
          "output_type": "display_data",
          "data": {
            "image/png": "[encoded data removed]",
            "text/plain": [
              "<Figure size 432x288 with 1 Axes>"
            ]
          },
          "metadata": {
            "tags": [],
            "needs_background": "light"
          }
        },
        {
          "output_type": "display_data",
          "data": {
            "image/png": "[encoded data removed]",
            "text/plain": [
              "<Figure size 432x288 with 1 Axes>"
            ]
          },
          "metadata": {
            "tags": [],
            "needs_background": "light"
          }
        }
      ]
    },
    {
      "cell_type": "code",
      "metadata": {
        "id": "FC9l3_3rdBVp",
        "colab_type": "code",
        "colab": {
          "base_uri": "https://localhost:8080/",
          "height": 34
        },
        "outputId": "aa12d2fd-5fb0-43e9-b7ef-0e7c2c6799a2"
      },
      "source": [
        "shap_values = shap.TreeExplainer(model_opt).shap_values(X_test_new) "
      ],
      "execution_count": 409,
      "outputs": [
        {
          "output_type": "stream",
          "text": [
            "Setting feature_perturbation = \"tree_path_dependent\" because no background data was given.\n"
          ],
          "name": "stderr"
        }
      ]
    },
    {
      "cell_type": "code",
      "metadata": {
        "id": "sCqFjPjzdIyd",
        "colab_type": "code",
        "colab": {
          "base_uri": "https://localhost:8080/",
          "height": 585
        },
        "outputId": "a6f6f226-8c6f-4ed3-9fef-bd0126811708"
      },
      "source": [
        "shap.summary_plot(shap_values, X_test_new)"
      ],
      "execution_count": 410,
      "outputs": [
        {
          "output_type": "display_data",
          "data": {
            "image/png": "[encoded data removed]",
            "text/plain": [
              "<Figure size 576x684 with 2 Axes>"
            ]
          },
          "metadata": {
            "tags": [],
            "needs_background": "light"
          }
        }
      ]
    },
    {
      "cell_type": "code",
      "metadata": {
        "id": "9E1paKnoeZWG",
        "colab_type": "code",
        "colab": {}
      },
      "source": [
        "predict = model_opt.predict(X_test_new)\n",
        "\n",
        "cm=confusion_matrix(test_labels,predict)"
      ],
      "execution_count": 411,
      "outputs": []
    },
    {
      "cell_type": "code",
      "metadata": {
        "id": "_HC4TpNaefH3",
        "colab_type": "code",
        "colab": {
          "base_uri": "https://localhost:8080/",
          "height": 215
        },
        "outputId": "47cdf4ca-1f0a-4895-e514-612a422f1a18"
      },
      "source": [
        "print('Confusion Matrix')\n",
        "fig,ax = plt.subplots(figsize=(2.5,2.5))\n",
        "ax.matshow(cm,cmap=plt.cm.Blues,alpha=0.3)\n",
        "for i in range(cm.shape[0]):\n",
        "  for j in range(cm.shape[1]):\n",
        "    ax.text(x=j,y=i,\n",
        "            s=cm[i,j],\n",
        "            va='center',ha='center')\n",
        "plt.xlabel('Predicted Label')\n",
        "plt.ylabel('True Label')\n",
        "plt.show()"
      ],
      "execution_count": 412,
      "outputs": [
        {
          "output_type": "stream",
          "text": [
            "Confusion Matrix\n"
          ],
          "name": "stdout"
        },
        {
          "output_type": "display_data",
          "data": {
            "image/png": "[encoded data removed]",
            "text/plain": [
              "<Figure size 180x180 with 1 Axes>"
            ]
          },
          "metadata": {
            "tags": [],
            "needs_background": "light"
          }
        }
      ]
    }
  ]
}