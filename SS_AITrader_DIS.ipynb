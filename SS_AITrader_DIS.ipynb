{
  "nbformat": 4,
  "nbformat_minor": 0,
  "metadata": {
    "colab": {
      "name": "SS_AITrader.ipynb",
      "provenance": [],
      "collapsed_sections": [],
      "authorship_tag": "ABX9TyN8LqLmJl8aLe1LdQnnDefF",
      "include_colab_link": true
    },
    "kernelspec": {
      "name": "python3",
      "display_name": "Python 3"
    },
    "accelerator": "GPU"
  },
  "cells": [
    {
      "cell_type": "markdown",
      "metadata": {
        "id": "view-in-github",
        "colab_type": "text"
      },
      "source": [
        "<a href=\"https://colab.research.google.com/github/JamesHorrex/AI_stock_trading/blob/master/SS_AITrader_DIS.ipynb\" target=\"_parent\"><img src=\"https://colab.research.google.com/assets/colab-badge.svg\" alt=\"Open In Colab\"/></a>"
      ]
    },
    {
      "cell_type": "code",
      "metadata": {
        "id": "bKT2tX6DtauA",
        "colab_type": "code",
        "colab": {
          "base_uri": "https://localhost:8080/",
          "height": 34
        },
        "outputId": "b6934d21-069b-4fc7-9759-13fdbf3b8a3f"
      },
      "source": [
        "%matplotlib inline\n",
        "import numpy as np\n",
        "import tensorflow as tf\n",
        "print(tf.__version__)"
      ],
      "execution_count": 2,
      "outputs": [
        {
          "output_type": "stream",
          "text": [
            "2.2.0\n"
          ],
          "name": "stdout"
        }
      ]
    },
    {
      "cell_type": "code",
      "metadata": {
        "id": "k2b2DdBskfka",
        "colab_type": "code",
        "colab": {
          "base_uri": "https://localhost:8080/",
          "height": 314
        },
        "outputId": "83c60797-79dc-416e-b1dd-4c6c0dcf0479"
      },
      "source": [
        "!pip install git+https://github.com/tensorflow/docs"
      ],
      "execution_count": 3,
      "outputs": [
        {
          "output_type": "stream",
          "text": [
            "Collecting git+https://github.com/tensorflow/docs\n",
            "  Cloning https://github.com/tensorflow/docs to /tmp/pip-req-build-u1gg8kd7\n",
            "  Running command git clone -q https://github.com/tensorflow/docs /tmp/pip-req-build-u1gg8kd7\n",
            "Requirement already satisfied: astor in /usr/local/lib/python3.6/dist-packages (from tensorflow-docs===0.0.087622f0d4888b557639c605c04a0e822874df5ba-) (0.8.1)\n",
            "Requirement already satisfied: absl-py in /usr/local/lib/python3.6/dist-packages (from tensorflow-docs===0.0.087622f0d4888b557639c605c04a0e822874df5ba-) (0.9.0)\n",
            "Requirement already satisfied: protobuf in /usr/local/lib/python3.6/dist-packages (from tensorflow-docs===0.0.087622f0d4888b557639c605c04a0e822874df5ba-) (3.10.0)\n",
            "Requirement already satisfied: pyyaml in /usr/local/lib/python3.6/dist-packages (from tensorflow-docs===0.0.087622f0d4888b557639c605c04a0e822874df5ba-) (3.13)\n",
            "Requirement already satisfied: six in /usr/local/lib/python3.6/dist-packages (from absl-py->tensorflow-docs===0.0.087622f0d4888b557639c605c04a0e822874df5ba-) (1.12.0)\n",
            "Requirement already satisfied: setuptools in /usr/local/lib/python3.6/dist-packages (from protobuf->tensorflow-docs===0.0.087622f0d4888b557639c605c04a0e822874df5ba-) (47.3.1)\n",
            "Building wheels for collected packages: tensorflow-docs\n",
            "  Building wheel for tensorflow-docs (setup.py) ... \u001b[?25l\u001b[?25hdone\n",
            "  Created wheel for tensorflow-docs: filename=tensorflow_docs-0.0.087622f0d4888b557639c605c04a0e822874df5ba_-cp36-none-any.whl size=123835 sha256=6bd4575d9ab5558f18a03de08bb32ffe50026b9f6c5c612e189fbdd90ce56612\n",
            "  Stored in directory: /tmp/pip-ephem-wheel-cache-boryl4mq/wheels/eb/1b/35/fce87697be00d2fc63e0b4b395b0d9c7e391a10e98d9a0d97f\n",
            "Successfully built tensorflow-docs\n",
            "Installing collected packages: tensorflow-docs\n",
            "Successfully installed tensorflow-docs-0.0.087622f0d4888b557639c605c04a0e822874df5ba-\n"
          ],
          "name": "stdout"
        }
      ]
    },
    {
      "cell_type": "code",
      "metadata": {
        "id": "IYtw7-dbkYiD",
        "colab_type": "code",
        "colab": {}
      },
      "source": [
        "import tensorflow_docs as tfdocs\n",
        "import tensorflow_docs.plots\n",
        "import tensorflow_docs.modeling"
      ],
      "execution_count": 4,
      "outputs": []
    },
    {
      "cell_type": "code",
      "metadata": {
        "id": "hDdT5zKLv1rP",
        "colab_type": "code",
        "colab": {
          "base_uri": "https://localhost:8080/",
          "height": 123
        },
        "outputId": "b0389859-a0a4-4852-fcf7-310a27f6929d"
      },
      "source": [
        "from google.colab import drive \n",
        "drive.mount('/content/gdrive')"
      ],
      "execution_count": 5,
      "outputs": [
        {
          "output_type": "stream",
          "text": [
            "Go to this URL in a browser: https://accounts.google.com/o/oauth2/auth?client_id=947318989803-6bn6qk8qdgf4n4g3pfee6491hc0brc4i.apps.googleusercontent.com&redirect_uri=urn%3aietf%3awg%3aoauth%3a2.0%3aoob&response_type=code&scope=email%20https%3a%2f%2fwww.googleapis.com%2fauth%2fdocs.test%20https%3a%2f%2fwww.googleapis.com%2fauth%2fdrive%20https%3a%2f%2fwww.googleapis.com%2fauth%2fdrive.photos.readonly%20https%3a%2f%2fwww.googleapis.com%2fauth%2fpeopleapi.readonly\n",
            "\n",
            "Enter your authorization code:\n",
            "··········\n",
            "Mounted at /content/gdrive\n"
          ],
          "name": "stdout"
        }
      ]
    },
    {
      "cell_type": "code",
      "metadata": {
        "id": "mAz2vMeqAyTL",
        "colab_type": "code",
        "colab": {}
      },
      "source": [
        "import pandas as pd \n",
        "stock='DIS'\n",
        "df=pd.read_csv('gdrive/My Drive/SS_AITrader/'+stock+'/df_'+stock+'_20drtn_features.csv')"
      ],
      "execution_count": 264,
      "outputs": []
    },
    {
      "cell_type": "code",
      "metadata": {
        "id": "I0Qvmpz-BCSt",
        "colab_type": "code",
        "colab": {
          "base_uri": "https://localhost:8080/",
          "height": 312
        },
        "outputId": "abc682d2-2730-4435-fd57-b3df67d05447"
      },
      "source": [
        "df.head()"
      ],
      "execution_count": 210,
      "outputs": [
        {
          "output_type": "execute_result",
          "data": {
            "text/html": [
              "<div>\n",
              "<style scoped>\n",
              "    .dataframe tbody tr th:only-of-type {\n",
              "        vertical-align: middle;\n",
              "    }\n",
              "\n",
              "    .dataframe tbody tr th {\n",
              "        vertical-align: top;\n",
              "    }\n",
              "\n",
              "    .dataframe thead th {\n",
              "        text-align: right;\n",
              "    }\n",
              "</style>\n",
              "<table border=\"1\" class=\"dataframe\">\n",
              "  <thead>\n",
              "    <tr style=\"text-align: right;\">\n",
              "      <th></th>\n",
              "      <th>timestamp</th>\n",
              "      <th>rsi_10</th>\n",
              "      <th>rsi_15</th>\n",
              "      <th>rsi_20</th>\n",
              "      <th>rsi_40</th>\n",
              "      <th>wr_10</th>\n",
              "      <th>wr_15</th>\n",
              "      <th>wr_20</th>\n",
              "      <th>wr_40</th>\n",
              "      <th>mfi_10</th>\n",
              "      <th>mfi_15</th>\n",
              "      <th>mfi_20</th>\n",
              "      <th>mfi_40</th>\n",
              "      <th>roc_1</th>\n",
              "      <th>roc_3</th>\n",
              "      <th>roc_5</th>\n",
              "      <th>roc_10</th>\n",
              "      <th>roc_20</th>\n",
              "      <th>trix_10</th>\n",
              "      <th>trix_15</th>\n",
              "      <th>trix_20</th>\n",
              "      <th>trix_40</th>\n",
              "      <th>macd10</th>\n",
              "      <th>macd15</th>\n",
              "      <th>macd20</th>\n",
              "      <th>macd40</th>\n",
              "      <th>cci_5</th>\n",
              "      <th>cci_10</th>\n",
              "      <th>cci_15</th>\n",
              "      <th>cci_25</th>\n",
              "      <th>kst_20</th>\n",
              "      <th>kst_40</th>\n",
              "      <th>ibr</th>\n",
              "      <th>bb_h10</th>\n",
              "      <th>bb_l10</th>\n",
              "      <th>bb_h15</th>\n",
              "      <th>bb_l15</th>\n",
              "      <th>bb_h20</th>\n",
              "      <th>bb_l20</th>\n",
              "      <th>bb_h40</th>\n",
              "      <th>bb_l40</th>\n",
              "      <th>realised_vol_10</th>\n",
              "      <th>realised_vol_change_5d_10</th>\n",
              "      <th>realised_vol_20</th>\n",
              "      <th>realised_vol_change_5d_20</th>\n",
              "      <th>realised_vol_40</th>\n",
              "      <th>realised_vol_change_5d_40</th>\n",
              "      <th>vix_level</th>\n",
              "      <th>vix_1d_change</th>\n",
              "      <th>vix_5d_change</th>\n",
              "      <th>forcei_10</th>\n",
              "      <th>forcei_15</th>\n",
              "      <th>forcei_20</th>\n",
              "      <th>forcei_40</th>\n",
              "      <th>cmf_10</th>\n",
              "      <th>cmf_15</th>\n",
              "      <th>cmf_20</th>\n",
              "      <th>cmf_40</th>\n",
              "      <th>volume_delta</th>\n",
              "      <th>curve</th>\n",
              "      <th>curve_shift</th>\n",
              "      <th>curve_shift_5d</th>\n",
              "      <th>dollarix_1d_change</th>\n",
              "      <th>dollarix_5d_change</th>\n",
              "      <th>labels</th>\n",
              "    </tr>\n",
              "  </thead>\n",
              "  <tbody>\n",
              "    <tr>\n",
              "      <th>0</th>\n",
              "      <td>2008-03-06</td>\n",
              "      <td>25.646451</td>\n",
              "      <td>35.587009</td>\n",
              "      <td>42.343141</td>\n",
              "      <td>32.866612</td>\n",
              "      <td>-89.662858</td>\n",
              "      <td>-89.662858</td>\n",
              "      <td>-89.662858</td>\n",
              "      <td>-93.955284</td>\n",
              "      <td>26.878278</td>\n",
              "      <td>36.430488</td>\n",
              "      <td>48.512141</td>\n",
              "      <td>33.993764</td>\n",
              "      <td>0.154235</td>\n",
              "      <td>-1.186851</td>\n",
              "      <td>-8.121106</td>\n",
              "      <td>-6.641741</td>\n",
              "      <td>-0.885217</td>\n",
              "      <td>-0.206541</td>\n",
              "      <td>-0.275454</td>\n",
              "      <td>-0.360750</td>\n",
              "      <td>-0.271957</td>\n",
              "      <td>-0.840820</td>\n",
              "      <td>-0.840820</td>\n",
              "      <td>-0.840820</td>\n",
              "      <td>-0.840820</td>\n",
              "      <td>-65.399402</td>\n",
              "      <td>-89.103777</td>\n",
              "      <td>-128.277326</td>\n",
              "      <td>-126.713820</td>\n",
              "      <td>-44.748421</td>\n",
              "      <td>-80.275098</td>\n",
              "      <td>0.288891</td>\n",
              "      <td>0.0</td>\n",
              "      <td>0.0</td>\n",
              "      <td>0.0</td>\n",
              "      <td>0.0</td>\n",
              "      <td>0.0</td>\n",
              "      <td>0.0</td>\n",
              "      <td>0.0</td>\n",
              "      <td>0.0</td>\n",
              "      <td>0.303670</td>\n",
              "      <td>0.168332</td>\n",
              "      <td>0.263042</td>\n",
              "      <td>-0.015612</td>\n",
              "      <td>0.310651</td>\n",
              "      <td>0.009346</td>\n",
              "      <td>27.549999</td>\n",
              "      <td>2.949999</td>\n",
              "      <td>4.019999</td>\n",
              "      <td>-3.536940e+06</td>\n",
              "      <td>-3.536940e+06</td>\n",
              "      <td>-3.536940e+06</td>\n",
              "      <td>-3.536940e+06</td>\n",
              "      <td>-0.088055</td>\n",
              "      <td>-0.096639</td>\n",
              "      <td>0.017881</td>\n",
              "      <td>0.034462</td>\n",
              "      <td>-0.318097</td>\n",
              "      <td>2.257</td>\n",
              "      <td>0.044</td>\n",
              "      <td>0.397</td>\n",
              "      <td>-0.480003</td>\n",
              "      <td>-0.720001</td>\n",
              "      <td>1.0</td>\n",
              "    </tr>\n",
              "    <tr>\n",
              "      <th>1</th>\n",
              "      <td>2008-03-07</td>\n",
              "      <td>28.219658</td>\n",
              "      <td>29.884791</td>\n",
              "      <td>48.802749</td>\n",
              "      <td>34.658717</td>\n",
              "      <td>-87.865150</td>\n",
              "      <td>-87.865150</td>\n",
              "      <td>-87.865150</td>\n",
              "      <td>-92.790377</td>\n",
              "      <td>34.883935</td>\n",
              "      <td>36.535601</td>\n",
              "      <td>54.635541</td>\n",
              "      <td>36.197287</td>\n",
              "      <td>0.246375</td>\n",
              "      <td>-1.572424</td>\n",
              "      <td>-3.268952</td>\n",
              "      <td>-7.238532</td>\n",
              "      <td>-0.214591</td>\n",
              "      <td>-0.260172</td>\n",
              "      <td>-0.285529</td>\n",
              "      <td>-0.359226</td>\n",
              "      <td>-0.274962</td>\n",
              "      <td>-0.879124</td>\n",
              "      <td>-0.879124</td>\n",
              "      <td>-0.879124</td>\n",
              "      <td>-0.879124</td>\n",
              "      <td>-37.394805</td>\n",
              "      <td>-72.009916</td>\n",
              "      <td>-102.931867</td>\n",
              "      <td>-110.754407</td>\n",
              "      <td>-44.117637</td>\n",
              "      <td>-74.730061</td>\n",
              "      <td>0.411290</td>\n",
              "      <td>0.0</td>\n",
              "      <td>0.0</td>\n",
              "      <td>0.0</td>\n",
              "      <td>0.0</td>\n",
              "      <td>0.0</td>\n",
              "      <td>0.0</td>\n",
              "      <td>0.0</td>\n",
              "      <td>0.0</td>\n",
              "      <td>0.296027</td>\n",
              "      <td>0.015269</td>\n",
              "      <td>0.262783</td>\n",
              "      <td>-0.048479</td>\n",
              "      <td>0.309977</td>\n",
              "      <td>-0.006845</td>\n",
              "      <td>27.490000</td>\n",
              "      <td>-0.059999</td>\n",
              "      <td>0.949999</td>\n",
              "      <td>-2.163634e+06</td>\n",
              "      <td>-2.163634e+06</td>\n",
              "      <td>-2.163634e+06</td>\n",
              "      <td>-2.163634e+06</td>\n",
              "      <td>-0.152959</td>\n",
              "      <td>-0.111514</td>\n",
              "      <td>0.002926</td>\n",
              "      <td>0.017506</td>\n",
              "      <td>-0.016731</td>\n",
              "      <td>2.141</td>\n",
              "      <td>-0.116</td>\n",
              "      <td>0.392</td>\n",
              "      <td>0.029999</td>\n",
              "      <td>-0.680000</td>\n",
              "      <td>1.0</td>\n",
              "    </tr>\n",
              "    <tr>\n",
              "      <th>2</th>\n",
              "      <td>2008-03-10</td>\n",
              "      <td>20.521163</td>\n",
              "      <td>27.081345</td>\n",
              "      <td>46.083947</td>\n",
              "      <td>32.963100</td>\n",
              "      <td>-99.559461</td>\n",
              "      <td>-99.559461</td>\n",
              "      <td>-99.559461</td>\n",
              "      <td>-99.724890</td>\n",
              "      <td>25.072099</td>\n",
              "      <td>35.909150</td>\n",
              "      <td>49.309059</td>\n",
              "      <td>36.381237</td>\n",
              "      <td>-1.874036</td>\n",
              "      <td>-1.480560</td>\n",
              "      <td>-2.799757</td>\n",
              "      <td>-10.129432</td>\n",
              "      <td>-3.766189</td>\n",
              "      <td>-0.314291</td>\n",
              "      <td>-0.299375</td>\n",
              "      <td>-0.360080</td>\n",
              "      <td>-0.278124</td>\n",
              "      <td>-0.947775</td>\n",
              "      <td>-0.947775</td>\n",
              "      <td>-0.947775</td>\n",
              "      <td>-0.947775</td>\n",
              "      <td>-133.515553</td>\n",
              "      <td>-75.732556</td>\n",
              "      <td>-102.744600</td>\n",
              "      <td>-119.040084</td>\n",
              "      <td>-46.293802</td>\n",
              "      <td>-71.721786</td>\n",
              "      <td>0.018692</td>\n",
              "      <td>0.0</td>\n",
              "      <td>0.0</td>\n",
              "      <td>0.0</td>\n",
              "      <td>0.0</td>\n",
              "      <td>0.0</td>\n",
              "      <td>0.0</td>\n",
              "      <td>0.0</td>\n",
              "      <td>0.0</td>\n",
              "      <td>0.277707</td>\n",
              "      <td>-0.019896</td>\n",
              "      <td>0.262331</td>\n",
              "      <td>-0.056176</td>\n",
              "      <td>0.311998</td>\n",
              "      <td>-0.007559</td>\n",
              "      <td>29.379999</td>\n",
              "      <td>1.889999</td>\n",
              "      <td>3.099998</td>\n",
              "      <td>-3.110037e+06</td>\n",
              "      <td>-3.110037e+06</td>\n",
              "      <td>-3.110037e+06</td>\n",
              "      <td>-3.110037e+06</td>\n",
              "      <td>-0.270550</td>\n",
              "      <td>-0.187665</td>\n",
              "      <td>-0.097475</td>\n",
              "      <td>-0.013124</td>\n",
              "      <td>0.125422</td>\n",
              "      <td>2.138</td>\n",
              "      <td>-0.003</td>\n",
              "      <td>0.239</td>\n",
              "      <td>-0.040001</td>\n",
              "      <td>-0.709999</td>\n",
              "      <td>1.0</td>\n",
              "    </tr>\n",
              "    <tr>\n",
              "      <th>3</th>\n",
              "      <td>2008-03-11</td>\n",
              "      <td>24.735557</td>\n",
              "      <td>35.668014</td>\n",
              "      <td>46.977250</td>\n",
              "      <td>35.303538</td>\n",
              "      <td>-79.950560</td>\n",
              "      <td>-82.655292</td>\n",
              "      <td>-82.655292</td>\n",
              "      <td>-88.175215</td>\n",
              "      <td>27.013964</td>\n",
              "      <td>37.253586</td>\n",
              "      <td>49.091963</td>\n",
              "      <td>39.180793</td>\n",
              "      <td>2.066368</td>\n",
              "      <td>0.400361</td>\n",
              "      <td>-1.421231</td>\n",
              "      <td>-9.116255</td>\n",
              "      <td>-3.664308</td>\n",
              "      <td>-0.350891</td>\n",
              "      <td>-0.311019</td>\n",
              "      <td>-0.360854</td>\n",
              "      <td>-0.281185</td>\n",
              "      <td>-0.938112</td>\n",
              "      <td>-0.938112</td>\n",
              "      <td>-0.938112</td>\n",
              "      <td>-0.938112</td>\n",
              "      <td>-70.285487</td>\n",
              "      <td>-66.184163</td>\n",
              "      <td>-85.918996</td>\n",
              "      <td>-104.652253</td>\n",
              "      <td>-48.598851</td>\n",
              "      <td>-68.451356</td>\n",
              "      <td>0.987802</td>\n",
              "      <td>0.0</td>\n",
              "      <td>0.0</td>\n",
              "      <td>0.0</td>\n",
              "      <td>0.0</td>\n",
              "      <td>0.0</td>\n",
              "      <td>0.0</td>\n",
              "      <td>0.0</td>\n",
              "      <td>0.0</td>\n",
              "      <td>0.304925</td>\n",
              "      <td>0.007591</td>\n",
              "      <td>0.263522</td>\n",
              "      <td>-0.044751</td>\n",
              "      <td>0.311310</td>\n",
              "      <td>-0.001080</td>\n",
              "      <td>26.360001</td>\n",
              "      <td>-3.019999</td>\n",
              "      <td>0.840000</td>\n",
              "      <td>4.131934e+04</td>\n",
              "      <td>4.131934e+04</td>\n",
              "      <td>4.131934e+04</td>\n",
              "      <td>4.131934e+04</td>\n",
              "      <td>-0.143081</td>\n",
              "      <td>-0.066974</td>\n",
              "      <td>-0.063377</td>\n",
              "      <td>0.036561</td>\n",
              "      <td>0.172019</td>\n",
              "      <td>2.156</td>\n",
              "      <td>0.018</td>\n",
              "      <td>0.172</td>\n",
              "      <td>0.290001</td>\n",
              "      <td>-0.380005</td>\n",
              "      <td>1.0</td>\n",
              "    </tr>\n",
              "    <tr>\n",
              "      <th>4</th>\n",
              "      <td>2008-03-12</td>\n",
              "      <td>29.910639</td>\n",
              "      <td>40.049035</td>\n",
              "      <td>47.515599</td>\n",
              "      <td>39.391130</td>\n",
              "      <td>-60.358074</td>\n",
              "      <td>-66.809425</td>\n",
              "      <td>-66.809425</td>\n",
              "      <td>-76.621420</td>\n",
              "      <td>36.272181</td>\n",
              "      <td>43.723982</td>\n",
              "      <td>48.670150</td>\n",
              "      <td>41.494907</td>\n",
              "      <td>2.269944</td>\n",
              "      <td>2.427038</td>\n",
              "      <td>2.837761</td>\n",
              "      <td>-5.978565</td>\n",
              "      <td>-3.025017</td>\n",
              "      <td>-0.359814</td>\n",
              "      <td>-0.316025</td>\n",
              "      <td>-0.359508</td>\n",
              "      <td>-0.283898</td>\n",
              "      <td>-0.860819</td>\n",
              "      <td>-0.860819</td>\n",
              "      <td>-0.860819</td>\n",
              "      <td>-0.860819</td>\n",
              "      <td>166.666667</td>\n",
              "      <td>35.920736</td>\n",
              "      <td>-20.163953</td>\n",
              "      <td>-29.793317</td>\n",
              "      <td>-49.789315</td>\n",
              "      <td>-64.220317</td>\n",
              "      <td>0.335821</td>\n",
              "      <td>0.0</td>\n",
              "      <td>0.0</td>\n",
              "      <td>0.0</td>\n",
              "      <td>0.0</td>\n",
              "      <td>0.0</td>\n",
              "      <td>0.0</td>\n",
              "      <td>0.0</td>\n",
              "      <td>0.0</td>\n",
              "      <td>0.344017</td>\n",
              "      <td>0.043830</td>\n",
              "      <td>0.270518</td>\n",
              "      <td>-0.020192</td>\n",
              "      <td>0.316129</td>\n",
              "      <td>0.001562</td>\n",
              "      <td>27.219999</td>\n",
              "      <td>0.859999</td>\n",
              "      <td>2.619999</td>\n",
              "      <td>2.208874e+06</td>\n",
              "      <td>2.208874e+06</td>\n",
              "      <td>2.208874e+06</td>\n",
              "      <td>2.208874e+06</td>\n",
              "      <td>-0.177342</td>\n",
              "      <td>-0.117968</td>\n",
              "      <td>-0.072549</td>\n",
              "      <td>0.018949</td>\n",
              "      <td>-0.080002</td>\n",
              "      <td>2.043</td>\n",
              "      <td>-0.113</td>\n",
              "      <td>-0.170</td>\n",
              "      <td>-0.879997</td>\n",
              "      <td>-1.080002</td>\n",
              "      <td>1.0</td>\n",
              "    </tr>\n",
              "  </tbody>\n",
              "</table>\n",
              "</div>"
            ],
            "text/plain": [
              "    timestamp     rsi_10  ...  dollarix_5d_change  labels\n",
              "0  2008-03-06  25.646451  ...           -0.720001     1.0\n",
              "1  2008-03-07  28.219658  ...           -0.680000     1.0\n",
              "2  2008-03-10  20.521163  ...           -0.709999     1.0\n",
              "3  2008-03-11  24.735557  ...           -0.380005     1.0\n",
              "4  2008-03-12  29.910639  ...           -1.080002     1.0\n",
              "\n",
              "[5 rows x 65 columns]"
            ]
          },
          "metadata": {
            "tags": []
          },
          "execution_count": 210
        }
      ]
    },
    {
      "cell_type": "code",
      "metadata": {
        "id": "1qE_jesFKOpZ",
        "colab_type": "code",
        "colab": {}
      },
      "source": [
        "df['timestamp'] = pd.to_datetime(df['timestamp'])"
      ],
      "execution_count": 265,
      "outputs": []
    },
    {
      "cell_type": "code",
      "metadata": {
        "id": "qTGO7R82NRMH",
        "colab_type": "code",
        "colab": {}
      },
      "source": [
        "from_date='2010-01-01'\n",
        "to_date='2020-01-01'"
      ],
      "execution_count": 266,
      "outputs": []
    },
    {
      "cell_type": "code",
      "metadata": {
        "id": "Hy0qnGa0NZpz",
        "colab_type": "code",
        "colab": {}
      },
      "source": [
        "df = df[pd.to_datetime(from_date) < df['timestamp'] ]\n",
        "df = df[pd.to_datetime(to_date) > df['timestamp'] ]\n"
      ],
      "execution_count": 267,
      "outputs": []
    },
    {
      "cell_type": "code",
      "metadata": {
        "id": "inuuZ7pWKXup",
        "colab_type": "code",
        "colab": {
          "base_uri": "https://localhost:8080/",
          "height": 312
        },
        "outputId": "751befd3-a075-494c-8040-c9ca8fe23aeb"
      },
      "source": [
        "df.head()"
      ],
      "execution_count": 214,
      "outputs": [
        {
          "output_type": "execute_result",
          "data": {
            "text/html": [
              "<div>\n",
              "<style scoped>\n",
              "    .dataframe tbody tr th:only-of-type {\n",
              "        vertical-align: middle;\n",
              "    }\n",
              "\n",
              "    .dataframe tbody tr th {\n",
              "        vertical-align: top;\n",
              "    }\n",
              "\n",
              "    .dataframe thead th {\n",
              "        text-align: right;\n",
              "    }\n",
              "</style>\n",
              "<table border=\"1\" class=\"dataframe\">\n",
              "  <thead>\n",
              "    <tr style=\"text-align: right;\">\n",
              "      <th></th>\n",
              "      <th>timestamp</th>\n",
              "      <th>rsi_10</th>\n",
              "      <th>rsi_15</th>\n",
              "      <th>rsi_20</th>\n",
              "      <th>rsi_40</th>\n",
              "      <th>wr_10</th>\n",
              "      <th>wr_15</th>\n",
              "      <th>wr_20</th>\n",
              "      <th>wr_40</th>\n",
              "      <th>mfi_10</th>\n",
              "      <th>mfi_15</th>\n",
              "      <th>mfi_20</th>\n",
              "      <th>mfi_40</th>\n",
              "      <th>roc_1</th>\n",
              "      <th>roc_3</th>\n",
              "      <th>roc_5</th>\n",
              "      <th>roc_10</th>\n",
              "      <th>roc_20</th>\n",
              "      <th>trix_10</th>\n",
              "      <th>trix_15</th>\n",
              "      <th>trix_20</th>\n",
              "      <th>trix_40</th>\n",
              "      <th>macd10</th>\n",
              "      <th>macd15</th>\n",
              "      <th>macd20</th>\n",
              "      <th>macd40</th>\n",
              "      <th>cci_5</th>\n",
              "      <th>cci_10</th>\n",
              "      <th>cci_15</th>\n",
              "      <th>cci_25</th>\n",
              "      <th>kst_20</th>\n",
              "      <th>kst_40</th>\n",
              "      <th>ibr</th>\n",
              "      <th>bb_h10</th>\n",
              "      <th>bb_l10</th>\n",
              "      <th>bb_h15</th>\n",
              "      <th>bb_l15</th>\n",
              "      <th>bb_h20</th>\n",
              "      <th>bb_l20</th>\n",
              "      <th>bb_h40</th>\n",
              "      <th>bb_l40</th>\n",
              "      <th>realised_vol_10</th>\n",
              "      <th>realised_vol_change_5d_10</th>\n",
              "      <th>realised_vol_20</th>\n",
              "      <th>realised_vol_change_5d_20</th>\n",
              "      <th>realised_vol_40</th>\n",
              "      <th>realised_vol_change_5d_40</th>\n",
              "      <th>vix_level</th>\n",
              "      <th>vix_1d_change</th>\n",
              "      <th>vix_5d_change</th>\n",
              "      <th>forcei_10</th>\n",
              "      <th>forcei_15</th>\n",
              "      <th>forcei_20</th>\n",
              "      <th>forcei_40</th>\n",
              "      <th>cmf_10</th>\n",
              "      <th>cmf_15</th>\n",
              "      <th>cmf_20</th>\n",
              "      <th>cmf_40</th>\n",
              "      <th>volume_delta</th>\n",
              "      <th>curve</th>\n",
              "      <th>curve_shift</th>\n",
              "      <th>curve_shift_5d</th>\n",
              "      <th>dollarix_1d_change</th>\n",
              "      <th>dollarix_5d_change</th>\n",
              "      <th>labels</th>\n",
              "    </tr>\n",
              "  </thead>\n",
              "  <tbody>\n",
              "    <tr>\n",
              "      <th>445</th>\n",
              "      <td>2010-01-05</td>\n",
              "      <td>64.813223</td>\n",
              "      <td>65.465498</td>\n",
              "      <td>61.590472</td>\n",
              "      <td>60.700823</td>\n",
              "      <td>-8.695537</td>\n",
              "      <td>-17.301042</td>\n",
              "      <td>-16.393447</td>\n",
              "      <td>-13.089006</td>\n",
              "      <td>65.868427</td>\n",
              "      <td>76.441482</td>\n",
              "      <td>65.832341</td>\n",
              "      <td>62.592430</td>\n",
              "      <td>1.644650</td>\n",
              "      <td>1.398603</td>\n",
              "      <td>1.371342</td>\n",
              "      <td>0.964115</td>\n",
              "      <td>3.287673</td>\n",
              "      <td>0.156953</td>\n",
              "      <td>0.157943</td>\n",
              "      <td>0.160596</td>\n",
              "      <td>0.176232</td>\n",
              "      <td>0.393580</td>\n",
              "      <td>0.393580</td>\n",
              "      <td>0.393580</td>\n",
              "      <td>0.393580</td>\n",
              "      <td>125.346586</td>\n",
              "      <td>135.909759</td>\n",
              "      <td>84.164649</td>\n",
              "      <td>89.723002</td>\n",
              "      <td>40.464649</td>\n",
              "      <td>47.630539</td>\n",
              "      <td>0.892475</td>\n",
              "      <td>1.0</td>\n",
              "      <td>0.0</td>\n",
              "      <td>0.0</td>\n",
              "      <td>0.0</td>\n",
              "      <td>0.0</td>\n",
              "      <td>0.0</td>\n",
              "      <td>0.0</td>\n",
              "      <td>0.0</td>\n",
              "      <td>0.131402</td>\n",
              "      <td>-0.137436</td>\n",
              "      <td>0.215482</td>\n",
              "      <td>-0.037875</td>\n",
              "      <td>0.259313</td>\n",
              "      <td>-0.012882</td>\n",
              "      <td>19.350000</td>\n",
              "      <td>-0.690001</td>\n",
              "      <td>-0.580000</td>\n",
              "      <td>1.628054e+06</td>\n",
              "      <td>1.628054e+06</td>\n",
              "      <td>1.628054e+06</td>\n",
              "      <td>1.628054e+06</td>\n",
              "      <td>0.031774</td>\n",
              "      <td>0.178976</td>\n",
              "      <td>0.140695</td>\n",
              "      <td>0.216376</td>\n",
              "      <td>0.509235</td>\n",
              "      <td>3.695</td>\n",
              "      <td>-0.091</td>\n",
              "      <td>-0.092</td>\n",
              "      <td>0.090004</td>\n",
              "      <td>-0.009995</td>\n",
              "      <td>0.0</td>\n",
              "    </tr>\n",
              "    <tr>\n",
              "      <th>446</th>\n",
              "      <td>2010-01-06</td>\n",
              "      <td>56.027621</td>\n",
              "      <td>68.916255</td>\n",
              "      <td>57.942437</td>\n",
              "      <td>58.461721</td>\n",
              "      <td>-15.652232</td>\n",
              "      <td>-21.481543</td>\n",
              "      <td>-19.016458</td>\n",
              "      <td>-15.508063</td>\n",
              "      <td>66.167112</td>\n",
              "      <td>76.488207</td>\n",
              "      <td>69.548289</td>\n",
              "      <td>62.961581</td>\n",
              "      <td>-0.212206</td>\n",
              "      <td>2.283850</td>\n",
              "      <td>1.101854</td>\n",
              "      <td>0.912018</td>\n",
              "      <td>3.436899</td>\n",
              "      <td>0.157893</td>\n",
              "      <td>0.158192</td>\n",
              "      <td>0.160498</td>\n",
              "      <td>0.175714</td>\n",
              "      <td>0.407398</td>\n",
              "      <td>0.407398</td>\n",
              "      <td>0.407398</td>\n",
              "      <td>0.407398</td>\n",
              "      <td>91.265098</td>\n",
              "      <td>138.605580</td>\n",
              "      <td>105.622591</td>\n",
              "      <td>91.755594</td>\n",
              "      <td>39.020368</td>\n",
              "      <td>46.391405</td>\n",
              "      <td>0.777773</td>\n",
              "      <td>0.0</td>\n",
              "      <td>0.0</td>\n",
              "      <td>0.0</td>\n",
              "      <td>0.0</td>\n",
              "      <td>0.0</td>\n",
              "      <td>0.0</td>\n",
              "      <td>0.0</td>\n",
              "      <td>0.0</td>\n",
              "      <td>0.131712</td>\n",
              "      <td>-0.135629</td>\n",
              "      <td>0.215075</td>\n",
              "      <td>-0.035045</td>\n",
              "      <td>0.259381</td>\n",
              "      <td>-0.007677</td>\n",
              "      <td>19.160000</td>\n",
              "      <td>-0.190001</td>\n",
              "      <td>-0.850000</td>\n",
              "      <td>9.430621e+05</td>\n",
              "      <td>9.430621e+05</td>\n",
              "      <td>9.430621e+05</td>\n",
              "      <td>9.430621e+05</td>\n",
              "      <td>0.142791</td>\n",
              "      <td>0.164083</td>\n",
              "      <td>0.180068</td>\n",
              "      <td>0.235618</td>\n",
              "      <td>-0.249325</td>\n",
              "      <td>3.763</td>\n",
              "      <td>0.068</td>\n",
              "      <td>0.049</td>\n",
              "      <td>-0.130005</td>\n",
              "      <td>-0.340004</td>\n",
              "      <td>0.0</td>\n",
              "    </tr>\n",
              "    <tr>\n",
              "      <th>447</th>\n",
              "      <td>2010-01-07</td>\n",
              "      <td>42.124835</td>\n",
              "      <td>58.419547</td>\n",
              "      <td>53.144114</td>\n",
              "      <td>56.191304</td>\n",
              "      <td>-79.130579</td>\n",
              "      <td>-84.516259</td>\n",
              "      <td>-42.950875</td>\n",
              "      <td>-35.026759</td>\n",
              "      <td>54.356744</td>\n",
              "      <td>68.907265</td>\n",
              "      <td>68.345119</td>\n",
              "      <td>59.486837</td>\n",
              "      <td>-1.940456</td>\n",
              "      <td>-0.539231</td>\n",
              "      <td>-0.779992</td>\n",
              "      <td>-1.205144</td>\n",
              "      <td>2.245004</td>\n",
              "      <td>0.147760</td>\n",
              "      <td>0.154854</td>\n",
              "      <td>0.158821</td>\n",
              "      <td>0.174985</td>\n",
              "      <td>0.355349</td>\n",
              "      <td>0.355349</td>\n",
              "      <td>0.355349</td>\n",
              "      <td>0.355349</td>\n",
              "      <td>-28.571356</td>\n",
              "      <td>-32.804033</td>\n",
              "      <td>-56.060712</td>\n",
              "      <td>39.534031</td>\n",
              "      <td>36.203440</td>\n",
              "      <td>42.878775</td>\n",
              "      <td>0.102562</td>\n",
              "      <td>0.0</td>\n",
              "      <td>0.0</td>\n",
              "      <td>0.0</td>\n",
              "      <td>0.0</td>\n",
              "      <td>0.0</td>\n",
              "      <td>0.0</td>\n",
              "      <td>0.0</td>\n",
              "      <td>0.0</td>\n",
              "      <td>0.166395</td>\n",
              "      <td>-0.092802</td>\n",
              "      <td>0.225522</td>\n",
              "      <td>0.011192</td>\n",
              "      <td>0.231232</td>\n",
              "      <td>-0.035678</td>\n",
              "      <td>19.059999</td>\n",
              "      <td>-0.100000</td>\n",
              "      <td>-0.900000</td>\n",
              "      <td>-7.282881e+05</td>\n",
              "      <td>-7.282881e+05</td>\n",
              "      <td>-7.282881e+05</td>\n",
              "      <td>-7.282881e+05</td>\n",
              "      <td>0.029721</td>\n",
              "      <td>0.065363</td>\n",
              "      <td>0.119095</td>\n",
              "      <td>0.181804</td>\n",
              "      <td>0.045030</td>\n",
              "      <td>3.777</td>\n",
              "      <td>0.014</td>\n",
              "      <td>0.033</td>\n",
              "      <td>0.420006</td>\n",
              "      <td>0.000000</td>\n",
              "      <td>0.0</td>\n",
              "    </tr>\n",
              "    <tr>\n",
              "      <th>448</th>\n",
              "      <td>2010-01-08</td>\n",
              "      <td>39.059659</td>\n",
              "      <td>52.691817</td>\n",
              "      <td>53.974985</td>\n",
              "      <td>50.719350</td>\n",
              "      <td>-76.027487</td>\n",
              "      <td>-76.027487</td>\n",
              "      <td>-49.508279</td>\n",
              "      <td>-40.374371</td>\n",
              "      <td>54.608985</td>\n",
              "      <td>56.593242</td>\n",
              "      <td>67.634922</td>\n",
              "      <td>56.791202</td>\n",
              "      <td>-0.542154</td>\n",
              "      <td>-2.679051</td>\n",
              "      <td>-0.244699</td>\n",
              "      <td>-0.649883</td>\n",
              "      <td>2.343097</td>\n",
              "      <td>0.128322</td>\n",
              "      <td>0.147888</td>\n",
              "      <td>0.155400</td>\n",
              "      <td>0.173989</td>\n",
              "      <td>0.294565</td>\n",
              "      <td>0.294565</td>\n",
              "      <td>0.294565</td>\n",
              "      <td>0.294565</td>\n",
              "      <td>-119.447254</td>\n",
              "      <td>-166.487095</td>\n",
              "      <td>-204.889520</td>\n",
              "      <td>-12.240066</td>\n",
              "      <td>31.827494</td>\n",
              "      <td>37.687949</td>\n",
              "      <td>0.555552</td>\n",
              "      <td>0.0</td>\n",
              "      <td>0.0</td>\n",
              "      <td>0.0</td>\n",
              "      <td>0.0</td>\n",
              "      <td>0.0</td>\n",
              "      <td>0.0</td>\n",
              "      <td>0.0</td>\n",
              "      <td>0.0</td>\n",
              "      <td>0.159404</td>\n",
              "      <td>0.010934</td>\n",
              "      <td>0.225122</td>\n",
              "      <td>0.006805</td>\n",
              "      <td>0.231481</td>\n",
              "      <td>-0.037703</td>\n",
              "      <td>18.129999</td>\n",
              "      <td>-0.930000</td>\n",
              "      <td>-3.550001</td>\n",
              "      <td>-8.474734e+05</td>\n",
              "      <td>-8.474734e+05</td>\n",
              "      <td>-8.474734e+05</td>\n",
              "      <td>-8.474734e+05</td>\n",
              "      <td>0.145150</td>\n",
              "      <td>-0.025707</td>\n",
              "      <td>0.099085</td>\n",
              "      <td>0.178090</td>\n",
              "      <td>-0.026449</td>\n",
              "      <td>3.768</td>\n",
              "      <td>-0.009</td>\n",
              "      <td>-0.025</td>\n",
              "      <td>-0.440002</td>\n",
              "      <td>-0.389999</td>\n",
              "      <td>0.0</td>\n",
              "    </tr>\n",
              "    <tr>\n",
              "      <th>449</th>\n",
              "      <td>2010-01-11</td>\n",
              "      <td>37.815118</td>\n",
              "      <td>32.687243</td>\n",
              "      <td>52.144304</td>\n",
              "      <td>48.792763</td>\n",
              "      <td>-85.946025</td>\n",
              "      <td>-85.946025</td>\n",
              "      <td>-65.245973</td>\n",
              "      <td>-54.371633</td>\n",
              "      <td>50.299964</td>\n",
              "      <td>58.067927</td>\n",
              "      <td>63.503043</td>\n",
              "      <td>59.363562</td>\n",
              "      <td>-1.308257</td>\n",
              "      <td>-3.748006</td>\n",
              "      <td>-2.372610</td>\n",
              "      <td>-2.582726</td>\n",
              "      <td>1.145251</td>\n",
              "      <td>0.096908</td>\n",
              "      <td>0.135939</td>\n",
              "      <td>0.149494</td>\n",
              "      <td>0.172589</td>\n",
              "      <td>0.205295</td>\n",
              "      <td>0.205295</td>\n",
              "      <td>0.205295</td>\n",
              "      <td>0.205295</td>\n",
              "      <td>-111.821075</td>\n",
              "      <td>-185.839955</td>\n",
              "      <td>-238.861457</td>\n",
              "      <td>-55.384220</td>\n",
              "      <td>27.646081</td>\n",
              "      <td>32.427258</td>\n",
              "      <td>0.317071</td>\n",
              "      <td>0.0</td>\n",
              "      <td>1.0</td>\n",
              "      <td>0.0</td>\n",
              "      <td>1.0</td>\n",
              "      <td>0.0</td>\n",
              "      <td>0.0</td>\n",
              "      <td>0.0</td>\n",
              "      <td>0.0</td>\n",
              "      <td>0.165170</td>\n",
              "      <td>0.054816</td>\n",
              "      <td>0.230700</td>\n",
              "      <td>0.017358</td>\n",
              "      <td>0.229003</td>\n",
              "      <td>-0.034100</td>\n",
              "      <td>17.549999</td>\n",
              "      <td>-0.580000</td>\n",
              "      <td>-2.490002</td>\n",
              "      <td>-1.349206e+06</td>\n",
              "      <td>-1.349206e+06</td>\n",
              "      <td>-1.349206e+06</td>\n",
              "      <td>-1.349206e+06</td>\n",
              "      <td>0.061530</td>\n",
              "      <td>0.036323</td>\n",
              "      <td>0.094011</td>\n",
              "      <td>0.113794</td>\n",
              "      <td>-0.097215</td>\n",
              "      <td>3.793</td>\n",
              "      <td>0.025</td>\n",
              "      <td>0.007</td>\n",
              "      <td>-0.470001</td>\n",
              "      <td>-0.529999</td>\n",
              "      <td>0.0</td>\n",
              "    </tr>\n",
              "  </tbody>\n",
              "</table>\n",
              "</div>"
            ],
            "text/plain": [
              "     timestamp     rsi_10  ...  dollarix_5d_change  labels\n",
              "445 2010-01-05  64.813223  ...           -0.009995     0.0\n",
              "446 2010-01-06  56.027621  ...           -0.340004     0.0\n",
              "447 2010-01-07  42.124835  ...            0.000000     0.0\n",
              "448 2010-01-08  39.059659  ...           -0.389999     0.0\n",
              "449 2010-01-11  37.815118  ...           -0.529999     0.0\n",
              "\n",
              "[5 rows x 65 columns]"
            ]
          },
          "metadata": {
            "tags": []
          },
          "execution_count": 214
        }
      ]
    },
    {
      "cell_type": "code",
      "metadata": {
        "id": "KR7WRpTJaRB4",
        "colab_type": "code",
        "colab": {}
      },
      "source": [
        "df.drop(['timestamp'], inplace=True, axis=1)"
      ],
      "execution_count": 268,
      "outputs": []
    },
    {
      "cell_type": "code",
      "metadata": {
        "id": "Anb_cU4SHzkl",
        "colab_type": "code",
        "colab": {}
      },
      "source": [
        "train_dataset = df.sample(frac=0.8,random_state=0)\n",
        "test_dataset = df.drop(train_dataset.index)"
      ],
      "execution_count": 269,
      "outputs": []
    },
    {
      "cell_type": "code",
      "metadata": {
        "id": "KyB_Wb9Fav0m",
        "colab_type": "code",
        "colab": {}
      },
      "source": [
        "train_labels = train_dataset.pop('labels')\n",
        "test_labels = test_dataset.pop('labels')"
      ],
      "execution_count": 270,
      "outputs": []
    },
    {
      "cell_type": "code",
      "metadata": {
        "id": "YumkgVabeud9",
        "colab_type": "code",
        "colab": {
          "base_uri": "https://localhost:8080/",
          "height": 121
        },
        "outputId": "83bf5cee-785f-430e-979a-67a978e00bc2"
      },
      "source": [
        "train_labels.head()"
      ],
      "execution_count": 271,
      "outputs": [
        {
          "output_type": "execute_result",
          "data": {
            "text/plain": [
              "1856    1.0\n",
              "2747    1.0\n",
              "898     0.0\n",
              "765     0.0\n",
              "1100    1.0\n",
              "Name: labels, dtype: float64"
            ]
          },
          "metadata": {
            "tags": []
          },
          "execution_count": 271
        }
      ]
    },
    {
      "cell_type": "code",
      "metadata": {
        "id": "LQpxY8Kjeh9H",
        "colab_type": "code",
        "colab": {}
      },
      "source": [
        "from sklearn.utils import compute_class_weight\n",
        "def get_sample_weights(y):\n",
        "      y = y.astype(int)  # compute_class_weight needs int labels\n",
        "      class_weights = compute_class_weight('balanced', np.unique(y), y)\n",
        "\n",
        "      print(\"real class weights are {}\".format(class_weights), np.unique(y))\n",
        "      print(\"value_counts\", np.unique(y, return_counts=True))\n",
        "      sample_weights = y.copy().astype(float)\n",
        "      for i in np.unique(y):\n",
        "          sample_weights[sample_weights == i] = class_weights[i]  # if i == 2 else 0.8 * class_weights[i]\n",
        "            # sample_weights = np.where(sample_weights == i, class_weights[int(i)], y_)\n",
        "\n",
        "      return sample_weights\n"
      ],
      "execution_count": 272,
      "outputs": []
    },
    {
      "cell_type": "code",
      "metadata": {
        "id": "iXhEiJnO28kQ",
        "colab_type": "code",
        "colab": {
          "base_uri": "https://localhost:8080/",
          "height": 259
        },
        "outputId": "38c87f32-c529-4989-f35a-d30fe7461441"
      },
      "source": [
        "get_sample_weights(train_labels)"
      ],
      "execution_count": 273,
      "outputs": [
        {
          "output_type": "stream",
          "text": [
            "real class weights are [1.35734072 0.79159935] [0 1]\n",
            "value_counts (array([0, 1]), array([ 722, 1238]))\n"
          ],
          "name": "stdout"
        },
        {
          "output_type": "execute_result",
          "data": {
            "text/plain": [
              "1856    0.791599\n",
              "2747    0.791599\n",
              "898     1.357341\n",
              "765     1.357341\n",
              "1100    0.791599\n",
              "          ...   \n",
              "2051    1.357341\n",
              "1301    0.791599\n",
              "2192    0.791599\n",
              "1640    0.791599\n",
              "2882    1.357341\n",
              "Name: labels, Length: 1960, dtype: float64"
            ]
          },
          "metadata": {
            "tags": []
          },
          "execution_count": 273
        }
      ]
    },
    {
      "cell_type": "code",
      "metadata": {
        "id": "EmTtLI6ufD7f",
        "colab_type": "code",
        "colab": {
          "base_uri": "https://localhost:8080/",
          "height": 51
        },
        "outputId": "78688444-175d-450f-a1ee-d0bb9ab8fda9"
      },
      "source": [
        "SAMPLE_WEIGHT=get_sample_weights(train_labels)"
      ],
      "execution_count": 274,
      "outputs": [
        {
          "output_type": "stream",
          "text": [
            "real class weights are [1.35734072 0.79159935] [0 1]\n",
            "value_counts (array([0, 1]), array([ 722, 1238]))\n"
          ],
          "name": "stdout"
        }
      ]
    },
    {
      "cell_type": "code",
      "metadata": {
        "id": "ft6KC349cvWN",
        "colab_type": "code",
        "colab": {}
      },
      "source": [
        "train_stats = train_dataset.describe()\n",
        "train_stats = train_stats.transpose()"
      ],
      "execution_count": 275,
      "outputs": []
    },
    {
      "cell_type": "code",
      "metadata": {
        "id": "zMEH1r2ya1UM",
        "colab_type": "code",
        "colab": {}
      },
      "source": [
        "def norm(x):\n",
        "  return (x - train_stats['mean']) / train_stats['std']\n",
        "normed_train_data = norm(train_dataset)\n",
        "normed_test_data = norm(test_dataset)"
      ],
      "execution_count": 276,
      "outputs": []
    },
    {
      "cell_type": "code",
      "metadata": {
        "id": "QZQxTHBAGIJY",
        "colab_type": "code",
        "colab": {
          "base_uri": "https://localhost:8080/",
          "height": 363
        },
        "outputId": "84ceaa3b-4f38-48df-8272-96d01070b45d"
      },
      "source": [
        "from sklearn.feature_selection import SelectKBest, f_classif, mutual_info_classif\n",
        "from operator import itemgetter\n",
        "\n",
        "k=20\n",
        "list_features = list(normed_train_data.columns)\n",
        "select_k_best = SelectKBest(f_classif, k=k)\n",
        "select_k_best.fit(normed_train_data, train_labels)\n",
        "selected_features_anova = itemgetter(*select_k_best.get_support(indices=True))(list_features)\n",
        "\n",
        "selected_features_anova"
      ],
      "execution_count": 277,
      "outputs": [
        {
          "output_type": "execute_result",
          "data": {
            "text/plain": [
              "('rsi_10',\n",
              " 'wr_20',\n",
              " 'wr_40',\n",
              " 'mfi_10',\n",
              " 'mfi_15',\n",
              " 'roc_10',\n",
              " 'cci_25',\n",
              " 'realised_vol_10',\n",
              " 'realised_vol_20',\n",
              " 'realised_vol_change_5d_20',\n",
              " 'realised_vol_change_5d_40',\n",
              " 'vix_level',\n",
              " 'forcei_10',\n",
              " 'forcei_15',\n",
              " 'forcei_20',\n",
              " 'forcei_40',\n",
              " 'cmf_10',\n",
              " 'cmf_15',\n",
              " 'cmf_20',\n",
              " 'dollarix_5d_change')"
            ]
          },
          "metadata": {
            "tags": []
          },
          "execution_count": 277
        }
      ]
    },
    {
      "cell_type": "code",
      "metadata": {
        "id": "UoGj_iK6JdDy",
        "colab_type": "code",
        "colab": {
          "base_uri": "https://localhost:8080/",
          "height": 363
        },
        "outputId": "253cbe41-b796-424c-a282-61ba91b1b836"
      },
      "source": [
        "select_k_best = SelectKBest(mutual_info_classif, k=k)\n",
        "select_k_best.fit(normed_train_data, train_labels)\n",
        "selected_features_mic = itemgetter(*select_k_best.get_support(indices=True))(list_features)\n",
        "selected_features_mic"
      ],
      "execution_count": 278,
      "outputs": [
        {
          "output_type": "execute_result",
          "data": {
            "text/plain": [
              "('mfi_10',\n",
              " 'mfi_40',\n",
              " 'trix_10',\n",
              " 'trix_20',\n",
              " 'trix_40',\n",
              " 'macd10',\n",
              " 'macd15',\n",
              " 'macd20',\n",
              " 'macd40',\n",
              " 'kst_20',\n",
              " 'kst_40',\n",
              " 'realised_vol_10',\n",
              " 'realised_vol_change_5d_10',\n",
              " 'realised_vol_20',\n",
              " 'realised_vol_40',\n",
              " 'cmf_10',\n",
              " 'cmf_15',\n",
              " 'cmf_40',\n",
              " 'curve',\n",
              " 'curve_shift_5d')"
            ]
          },
          "metadata": {
            "tags": []
          },
          "execution_count": 278
        }
      ]
    },
    {
      "cell_type": "code",
      "metadata": {
        "id": "VS_4c6YyMHl9",
        "colab_type": "code",
        "colab": {
          "base_uri": "https://localhost:8080/",
          "height": 226
        },
        "outputId": "458f4f8e-235b-4e8f-edfd-7c942a791f0e"
      },
      "source": [
        "list_features = list(normed_train_data.columns)\n",
        "feat_idx = []\n",
        "for c in selected_features_mic:\n",
        "      feat_idx.append(list_features.index(c))\n",
        "\n",
        "feat_idx = sorted(feat_idx)\n",
        "X_train_new=normed_train_data.iloc[:, feat_idx]\n",
        "X_test_new=normed_test_data.iloc[:, feat_idx]\n",
        "#kbest=SelectKBest(f_classif, k=10)\n",
        "#X_train_new = kbest.fit_transform(normed_train_data, train_labels)\n",
        "#X_test_new = kbest.transform(normed_test_data)\n",
        "\n",
        "X_test_new.shape\n",
        "X_test_new.head()"
      ],
      "execution_count": 279,
      "outputs": [
        {
          "output_type": "execute_result",
          "data": {
            "text/html": [
              "<div>\n",
              "<style scoped>\n",
              "    .dataframe tbody tr th:only-of-type {\n",
              "        vertical-align: middle;\n",
              "    }\n",
              "\n",
              "    .dataframe tbody tr th {\n",
              "        vertical-align: top;\n",
              "    }\n",
              "\n",
              "    .dataframe thead th {\n",
              "        text-align: right;\n",
              "    }\n",
              "</style>\n",
              "<table border=\"1\" class=\"dataframe\">\n",
              "  <thead>\n",
              "    <tr style=\"text-align: right;\">\n",
              "      <th></th>\n",
              "      <th>mfi_10</th>\n",
              "      <th>mfi_40</th>\n",
              "      <th>trix_10</th>\n",
              "      <th>trix_20</th>\n",
              "      <th>trix_40</th>\n",
              "      <th>macd10</th>\n",
              "      <th>macd15</th>\n",
              "      <th>macd20</th>\n",
              "      <th>macd40</th>\n",
              "      <th>kst_20</th>\n",
              "      <th>kst_40</th>\n",
              "      <th>realised_vol_10</th>\n",
              "      <th>realised_vol_change_5d_10</th>\n",
              "      <th>realised_vol_20</th>\n",
              "      <th>realised_vol_40</th>\n",
              "      <th>cmf_10</th>\n",
              "      <th>cmf_15</th>\n",
              "      <th>cmf_40</th>\n",
              "      <th>curve</th>\n",
              "      <th>curve_shift_5d</th>\n",
              "    </tr>\n",
              "  </thead>\n",
              "  <tbody>\n",
              "    <tr>\n",
              "      <th>445</th>\n",
              "      <td>-0.342914</td>\n",
              "      <td>0.895591</td>\n",
              "      <td>0.714635</td>\n",
              "      <td>1.291716</td>\n",
              "      <td>1.493571</td>\n",
              "      <td>0.143005</td>\n",
              "      <td>0.143005</td>\n",
              "      <td>0.143005</td>\n",
              "      <td>0.143005</td>\n",
              "      <td>1.187204</td>\n",
              "      <td>1.293441</td>\n",
              "      <td>-0.564443</td>\n",
              "      <td>-0.200464</td>\n",
              "      <td>-0.546969</td>\n",
              "      <td>0.001419</td>\n",
              "      <td>-0.854192</td>\n",
              "      <td>-0.484089</td>\n",
              "      <td>0.765884</td>\n",
              "      <td>2.013397</td>\n",
              "      <td>-0.791371</td>\n",
              "    </tr>\n",
              "    <tr>\n",
              "      <th>448</th>\n",
              "      <td>-0.989685</td>\n",
              "      <td>0.585429</td>\n",
              "      <td>0.324415</td>\n",
              "      <td>1.159043</td>\n",
              "      <td>1.494995</td>\n",
              "      <td>0.025484</td>\n",
              "      <td>0.025484</td>\n",
              "      <td>0.025484</td>\n",
              "      <td>0.025484</td>\n",
              "      <td>0.823048</td>\n",
              "      <td>0.946231</td>\n",
              "      <td>-0.828096</td>\n",
              "      <td>-0.565119</td>\n",
              "      <td>-0.605586</td>\n",
              "      <td>-0.094656</td>\n",
              "      <td>-0.632275</td>\n",
              "      <td>-0.194653</td>\n",
              "      <td>0.898076</td>\n",
              "      <td>2.093196</td>\n",
              "      <td>-0.164259</td>\n",
              "    </tr>\n",
              "    <tr>\n",
              "      <th>452</th>\n",
              "      <td>-1.173112</td>\n",
              "      <td>-0.133988</td>\n",
              "      <td>-0.367616</td>\n",
              "      <td>0.834838</td>\n",
              "      <td>1.438856</td>\n",
              "      <td>-0.215090</td>\n",
              "      <td>-0.215090</td>\n",
              "      <td>-0.215090</td>\n",
              "      <td>-0.215090</td>\n",
              "      <td>0.221680</td>\n",
              "      <td>0.327854</td>\n",
              "      <td>-0.415724</td>\n",
              "      <td>0.494778</td>\n",
              "      <td>-0.499297</td>\n",
              "      <td>-0.441326</td>\n",
              "      <td>-0.916887</td>\n",
              "      <td>-0.544311</td>\n",
              "      <td>0.409381</td>\n",
              "      <td>2.006838</td>\n",
              "      <td>-0.753933</td>\n",
              "    </tr>\n",
              "    <tr>\n",
              "      <th>469</th>\n",
              "      <td>0.234413</td>\n",
              "      <td>-0.789685</td>\n",
              "      <td>-1.425525</td>\n",
              "      <td>-0.945883</td>\n",
              "      <td>0.573919</td>\n",
              "      <td>-0.612993</td>\n",
              "      <td>-0.612993</td>\n",
              "      <td>-0.612993</td>\n",
              "      <td>-0.612993</td>\n",
              "      <td>-1.592375</td>\n",
              "      <td>-1.483695</td>\n",
              "      <td>0.800690</td>\n",
              "      <td>1.066843</td>\n",
              "      <td>0.511347</td>\n",
              "      <td>-0.072378</td>\n",
              "      <td>0.300005</td>\n",
              "      <td>-0.267806</td>\n",
              "      <td>-0.313390</td>\n",
              "      <td>1.836308</td>\n",
              "      <td>-0.042583</td>\n",
              "    </tr>\n",
              "    <tr>\n",
              "      <th>470</th>\n",
              "      <td>0.046098</td>\n",
              "      <td>-1.216766</td>\n",
              "      <td>-1.325247</td>\n",
              "      <td>-0.992864</td>\n",
              "      <td>0.513544</td>\n",
              "      <td>-0.579297</td>\n",
              "      <td>-0.579297</td>\n",
              "      <td>-0.579297</td>\n",
              "      <td>-0.579297</td>\n",
              "      <td>-1.566459</td>\n",
              "      <td>-1.473309</td>\n",
              "      <td>0.716280</td>\n",
              "      <td>0.329193</td>\n",
              "      <td>0.452300</td>\n",
              "      <td>-0.104794</td>\n",
              "      <td>1.160068</td>\n",
              "      <td>0.035662</td>\n",
              "      <td>-0.041286</td>\n",
              "      <td>1.902990</td>\n",
              "      <td>-0.108102</td>\n",
              "    </tr>\n",
              "  </tbody>\n",
              "</table>\n",
              "</div>"
            ],
            "text/plain": [
              "       mfi_10    mfi_40   trix_10  ...    cmf_40     curve  curve_shift_5d\n",
              "445 -0.342914  0.895591  0.714635  ...  0.765884  2.013397       -0.791371\n",
              "448 -0.989685  0.585429  0.324415  ...  0.898076  2.093196       -0.164259\n",
              "452 -1.173112 -0.133988 -0.367616  ...  0.409381  2.006838       -0.753933\n",
              "469  0.234413 -0.789685 -1.425525  ... -0.313390  1.836308       -0.042583\n",
              "470  0.046098 -1.216766 -1.325247  ... -0.041286  1.902990       -0.108102\n",
              "\n",
              "[5 rows x 20 columns]"
            ]
          },
          "metadata": {
            "tags": []
          },
          "execution_count": 279
        }
      ]
    },
    {
      "cell_type": "code",
      "metadata": {
        "id": "1Y6IeZLPdDbh",
        "colab_type": "code",
        "colab": {}
      },
      "source": [
        "def build_model(hidden_dim,dropout=0.5):\n",
        "    ## input layer\n",
        "    inputs=tf.keras.Input(shape=(X_train_new.shape[1],))\n",
        "\n",
        "\n",
        "    h1= tf.keras.layers.Dense(units=hidden_dim,activation='relu')(inputs)\n",
        "    h2= tf.keras.layers.Dropout(dropout)(h1)\n",
        "    h3= tf.keras.layers.Dense(units=hidden_dim*2,activation='relu')(h2)\n",
        "    h4= tf.keras.layers.Dropout(dropout)(h3)\n",
        "    h5= tf.keras.layers.Dense(units=hidden_dim*2,activation='relu')(h4)\n",
        "    h6= tf.keras.layers.Dropout(dropout)(h5)\n",
        "    h7= tf.keras.layers.Dense(units=hidden_dim,activation='relu')(h6)\n",
        "\n",
        "    ##output\n",
        "    outputs=tf.keras.layers.Dense(units=2,activation='softmax')(h7)\n",
        "\n",
        "    return tf.keras.Model(inputs=inputs, outputs=outputs)"
      ],
      "execution_count": 280,
      "outputs": []
    },
    {
      "cell_type": "code",
      "metadata": {
        "id": "YvYU19fefqf7",
        "colab_type": "code",
        "colab": {}
      },
      "source": [
        "tf.random.set_seed(1)\n",
        "\n",
        "criterion = tf.keras.losses.sparse_categorical_crossentropy\n",
        "\n",
        "optimizer = tf.keras.optimizers.Adam(learning_rate=0.001)\n",
        "\n",
        "model = build_model(hidden_dim=64)\n",
        "\n",
        "model.compile(optimizer=optimizer,loss=criterion,metrics=['accuracy'])"
      ],
      "execution_count": 281,
      "outputs": []
    },
    {
      "cell_type": "code",
      "metadata": {
        "id": "2RjdYWf5gX4x",
        "colab_type": "code",
        "colab": {
          "base_uri": "https://localhost:8080/",
          "height": 190
        },
        "outputId": "ccf17145-9c34-4b28-85ea-6960bafcd5f6"
      },
      "source": [
        "example_batch = X_train_new[:10]\n",
        "example_result = model.predict(example_batch)\n",
        "example_result"
      ],
      "execution_count": 282,
      "outputs": [
        {
          "output_type": "execute_result",
          "data": {
            "text/plain": [
              "array([[0.56870294, 0.43129703],\n",
              "       [0.5638688 , 0.43613115],\n",
              "       [0.51634455, 0.48365542],\n",
              "       [0.49788207, 0.50211793],\n",
              "       [0.524142  , 0.47585797],\n",
              "       [0.52330965, 0.47669032],\n",
              "       [0.5437161 , 0.4562839 ],\n",
              "       [0.50625825, 0.49374172],\n",
              "       [0.5343252 , 0.4656748 ],\n",
              "       [0.60082644, 0.39917356]], dtype=float32)"
            ]
          },
          "metadata": {
            "tags": []
          },
          "execution_count": 282
        }
      ]
    },
    {
      "cell_type": "code",
      "metadata": {
        "id": "bwsZt86Vg9Fs",
        "colab_type": "code",
        "colab": {
          "base_uri": "https://localhost:8080/",
          "height": 1000
        },
        "outputId": "bb82a02c-71ed-4efa-f25b-aaa5ee3bbdf8"
      },
      "source": [
        "EPOCHS=200\n",
        "BATCH_SIZE=20\n",
        "\n",
        "history = model.fit(\n",
        "  X_train_new, train_labels,\n",
        "  epochs=EPOCHS, batch_size=BATCH_SIZE ,sample_weight=SAMPLE_WEIGHT,shuffle=True,validation_split = 0.2, verbose=1,\n",
        "  callbacks=[tfdocs.modeling.EpochDots()])"
      ],
      "execution_count": 283,
      "outputs": [
        {
          "output_type": "stream",
          "text": [
            "Epoch 1/200\n",
            "78/79 [============================>.] - ETA: 0s - loss: 0.7143 - accuracy: 0.5231\n",
            "Epoch: 0, accuracy:0.5236,  loss:0.7141,  val_accuracy:0.4949,  val_loss:0.6980,  \n",
            "79/79 [==============================] - 1s 8ms/step - loss: 0.7141 - accuracy: 0.5236 - val_loss: 0.6980 - val_accuracy: 0.4949\n",
            "Epoch 2/200\n",
            "79/79 [==============================] - 0s 6ms/step - loss: 0.7180 - accuracy: 0.4994 - val_loss: 0.6959 - val_accuracy: 0.5459\n",
            "Epoch 3/200\n",
            "79/79 [==============================] - 0s 5ms/step - loss: 0.6969 - accuracy: 0.5191 - val_loss: 0.6941 - val_accuracy: 0.6224\n",
            "Epoch 4/200\n",
            "79/79 [==============================] - 0s 5ms/step - loss: 0.6951 - accuracy: 0.5389 - val_loss: 0.6920 - val_accuracy: 0.6378\n",
            "Epoch 5/200\n",
            "79/79 [==============================] - 0s 6ms/step - loss: 0.6947 - accuracy: 0.5312 - val_loss: 0.6949 - val_accuracy: 0.6071\n",
            "Epoch 6/200\n",
            "79/79 [==============================] - 0s 5ms/step - loss: 0.6868 - accuracy: 0.5536 - val_loss: 0.6940 - val_accuracy: 0.6250\n",
            "Epoch 7/200\n",
            "79/79 [==============================] - 0s 6ms/step - loss: 0.6842 - accuracy: 0.5555 - val_loss: 0.6909 - val_accuracy: 0.6224\n",
            "Epoch 8/200\n",
            "79/79 [==============================] - 0s 5ms/step - loss: 0.6861 - accuracy: 0.5995 - val_loss: 0.6881 - val_accuracy: 0.6199\n",
            "Epoch 9/200\n",
            "79/79 [==============================] - 0s 6ms/step - loss: 0.6851 - accuracy: 0.5842 - val_loss: 0.6864 - val_accuracy: 0.6429\n",
            "Epoch 10/200\n",
            "79/79 [==============================] - 0s 5ms/step - loss: 0.6814 - accuracy: 0.5880 - val_loss: 0.6939 - val_accuracy: 0.6352\n",
            "Epoch 11/200\n",
            "79/79 [==============================] - 0s 5ms/step - loss: 0.6788 - accuracy: 0.5861 - val_loss: 0.6826 - val_accuracy: 0.6454\n",
            "Epoch 12/200\n",
            "79/79 [==============================] - 0s 6ms/step - loss: 0.6708 - accuracy: 0.5969 - val_loss: 0.6760 - val_accuracy: 0.6199\n",
            "Epoch 13/200\n",
            "79/79 [==============================] - 0s 5ms/step - loss: 0.6742 - accuracy: 0.5969 - val_loss: 0.6795 - val_accuracy: 0.6403\n",
            "Epoch 14/200\n",
            "79/79 [==============================] - 0s 6ms/step - loss: 0.6815 - accuracy: 0.5765 - val_loss: 0.6823 - val_accuracy: 0.6480\n",
            "Epoch 15/200\n",
            "79/79 [==============================] - 0s 5ms/step - loss: 0.6709 - accuracy: 0.6154 - val_loss: 0.6792 - val_accuracy: 0.6378\n",
            "Epoch 16/200\n",
            "79/79 [==============================] - 0s 5ms/step - loss: 0.6654 - accuracy: 0.6161 - val_loss: 0.6727 - val_accuracy: 0.6429\n",
            "Epoch 17/200\n",
            "79/79 [==============================] - 0s 6ms/step - loss: 0.6691 - accuracy: 0.6205 - val_loss: 0.6673 - val_accuracy: 0.6454\n",
            "Epoch 18/200\n",
            "79/79 [==============================] - 0s 5ms/step - loss: 0.6478 - accuracy: 0.6224 - val_loss: 0.6580 - val_accuracy: 0.6454\n",
            "Epoch 19/200\n",
            "79/79 [==============================] - 0s 6ms/step - loss: 0.6607 - accuracy: 0.6307 - val_loss: 0.6652 - val_accuracy: 0.6505\n",
            "Epoch 20/200\n",
            "79/79 [==============================] - 0s 5ms/step - loss: 0.6514 - accuracy: 0.6550 - val_loss: 0.6551 - val_accuracy: 0.6658\n",
            "Epoch 21/200\n",
            "79/79 [==============================] - 0s 6ms/step - loss: 0.6508 - accuracy: 0.6397 - val_loss: 0.6506 - val_accuracy: 0.6658\n",
            "Epoch 22/200\n",
            "79/79 [==============================] - 0s 5ms/step - loss: 0.6439 - accuracy: 0.6301 - val_loss: 0.6440 - val_accuracy: 0.6811\n",
            "Epoch 23/200\n",
            "79/79 [==============================] - 0s 6ms/step - loss: 0.6404 - accuracy: 0.6378 - val_loss: 0.6344 - val_accuracy: 0.6837\n",
            "Epoch 24/200\n",
            "79/79 [==============================] - 0s 5ms/step - loss: 0.6360 - accuracy: 0.6639 - val_loss: 0.6444 - val_accuracy: 0.6684\n",
            "Epoch 25/200\n",
            "79/79 [==============================] - 0s 5ms/step - loss: 0.6428 - accuracy: 0.6467 - val_loss: 0.6356 - val_accuracy: 0.6837\n",
            "Epoch 26/200\n",
            "79/79 [==============================] - 0s 6ms/step - loss: 0.6237 - accuracy: 0.6690 - val_loss: 0.6365 - val_accuracy: 0.6913\n",
            "Epoch 27/200\n",
            "79/79 [==============================] - 0s 5ms/step - loss: 0.6229 - accuracy: 0.6601 - val_loss: 0.6340 - val_accuracy: 0.6862\n",
            "Epoch 28/200\n",
            "79/79 [==============================] - 0s 6ms/step - loss: 0.6256 - accuracy: 0.6601 - val_loss: 0.6257 - val_accuracy: 0.7041\n",
            "Epoch 29/200\n",
            "79/79 [==============================] - 0s 5ms/step - loss: 0.6235 - accuracy: 0.6601 - val_loss: 0.6254 - val_accuracy: 0.7092\n",
            "Epoch 30/200\n",
            "79/79 [==============================] - 0s 6ms/step - loss: 0.6123 - accuracy: 0.6684 - val_loss: 0.6087 - val_accuracy: 0.7092\n",
            "Epoch 31/200\n",
            "79/79 [==============================] - 0s 5ms/step - loss: 0.6146 - accuracy: 0.6633 - val_loss: 0.6102 - val_accuracy: 0.7117\n",
            "Epoch 32/200\n",
            "79/79 [==============================] - 0s 5ms/step - loss: 0.6115 - accuracy: 0.6735 - val_loss: 0.5997 - val_accuracy: 0.7041\n",
            "Epoch 33/200\n",
            "79/79 [==============================] - 0s 6ms/step - loss: 0.5941 - accuracy: 0.6875 - val_loss: 0.5929 - val_accuracy: 0.7015\n",
            "Epoch 34/200\n",
            "79/79 [==============================] - 0s 6ms/step - loss: 0.5887 - accuracy: 0.6741 - val_loss: 0.6085 - val_accuracy: 0.6939\n",
            "Epoch 35/200\n",
            "79/79 [==============================] - 0s 5ms/step - loss: 0.6010 - accuracy: 0.6754 - val_loss: 0.6095 - val_accuracy: 0.6888\n",
            "Epoch 36/200\n",
            "79/79 [==============================] - 0s 5ms/step - loss: 0.5978 - accuracy: 0.6824 - val_loss: 0.5964 - val_accuracy: 0.7296\n",
            "Epoch 37/200\n",
            "79/79 [==============================] - 0s 6ms/step - loss: 0.5874 - accuracy: 0.6818 - val_loss: 0.5994 - val_accuracy: 0.7066\n",
            "Epoch 38/200\n",
            "79/79 [==============================] - 0s 5ms/step - loss: 0.5970 - accuracy: 0.6684 - val_loss: 0.5857 - val_accuracy: 0.7219\n",
            "Epoch 39/200\n",
            "79/79 [==============================] - 0s 5ms/step - loss: 0.5850 - accuracy: 0.6818 - val_loss: 0.5940 - val_accuracy: 0.7143\n",
            "Epoch 40/200\n",
            "79/79 [==============================] - 0s 5ms/step - loss: 0.5873 - accuracy: 0.6786 - val_loss: 0.5890 - val_accuracy: 0.7219\n",
            "Epoch 41/200\n",
            "79/79 [==============================] - 0s 5ms/step - loss: 0.5911 - accuracy: 0.6798 - val_loss: 0.5931 - val_accuracy: 0.7117\n",
            "Epoch 42/200\n",
            "79/79 [==============================] - 0s 6ms/step - loss: 0.5820 - accuracy: 0.6843 - val_loss: 0.5842 - val_accuracy: 0.7219\n",
            "Epoch 43/200\n",
            "79/79 [==============================] - 0s 5ms/step - loss: 0.5733 - accuracy: 0.6843 - val_loss: 0.5942 - val_accuracy: 0.7270\n",
            "Epoch 44/200\n",
            "79/79 [==============================] - 0s 5ms/step - loss: 0.5708 - accuracy: 0.7098 - val_loss: 0.5747 - val_accuracy: 0.7168\n",
            "Epoch 45/200\n",
            "79/79 [==============================] - 0s 5ms/step - loss: 0.5681 - accuracy: 0.7054 - val_loss: 0.5724 - val_accuracy: 0.7168\n",
            "Epoch 46/200\n",
            "79/79 [==============================] - 0s 5ms/step - loss: 0.5567 - accuracy: 0.7181 - val_loss: 0.5787 - val_accuracy: 0.7219\n",
            "Epoch 47/200\n",
            "79/79 [==============================] - 0s 6ms/step - loss: 0.5519 - accuracy: 0.7162 - val_loss: 0.5979 - val_accuracy: 0.7321\n",
            "Epoch 48/200\n",
            "79/79 [==============================] - 0s 5ms/step - loss: 0.5588 - accuracy: 0.7073 - val_loss: 0.5586 - val_accuracy: 0.7296\n",
            "Epoch 49/200\n",
            "79/79 [==============================] - 0s 5ms/step - loss: 0.5521 - accuracy: 0.7060 - val_loss: 0.5673 - val_accuracy: 0.7270\n",
            "Epoch 50/200\n",
            "79/79 [==============================] - 0s 5ms/step - loss: 0.5481 - accuracy: 0.7200 - val_loss: 0.5782 - val_accuracy: 0.7398\n",
            "Epoch 51/200\n",
            "79/79 [==============================] - 0s 6ms/step - loss: 0.5611 - accuracy: 0.6964 - val_loss: 0.5660 - val_accuracy: 0.7372\n",
            "Epoch 52/200\n",
            "79/79 [==============================] - 0s 6ms/step - loss: 0.5471 - accuracy: 0.7105 - val_loss: 0.5602 - val_accuracy: 0.7474\n",
            "Epoch 53/200\n",
            "79/79 [==============================] - 0s 5ms/step - loss: 0.5381 - accuracy: 0.7277 - val_loss: 0.5578 - val_accuracy: 0.7628\n",
            "Epoch 54/200\n",
            "79/79 [==============================] - 0s 6ms/step - loss: 0.5593 - accuracy: 0.7054 - val_loss: 0.5498 - val_accuracy: 0.7679\n",
            "Epoch 55/200\n",
            "79/79 [==============================] - 0s 5ms/step - loss: 0.5480 - accuracy: 0.7194 - val_loss: 0.5399 - val_accuracy: 0.7679\n",
            "Epoch 56/200\n",
            "79/79 [==============================] - 0s 6ms/step - loss: 0.5596 - accuracy: 0.7111 - val_loss: 0.5559 - val_accuracy: 0.7653\n",
            "Epoch 57/200\n",
            "79/79 [==============================] - 0s 5ms/step - loss: 0.5361 - accuracy: 0.7117 - val_loss: 0.5360 - val_accuracy: 0.7653\n",
            "Epoch 58/200\n",
            "79/79 [==============================] - 0s 6ms/step - loss: 0.5384 - accuracy: 0.7105 - val_loss: 0.5410 - val_accuracy: 0.7653\n",
            "Epoch 59/200\n",
            "79/79 [==============================] - 0s 6ms/step - loss: 0.5365 - accuracy: 0.7207 - val_loss: 0.5275 - val_accuracy: 0.7628\n",
            "Epoch 60/200\n",
            "79/79 [==============================] - 0s 6ms/step - loss: 0.5207 - accuracy: 0.7251 - val_loss: 0.5258 - val_accuracy: 0.7653\n",
            "Epoch 61/200\n",
            "79/79 [==============================] - 0s 5ms/step - loss: 0.5303 - accuracy: 0.7258 - val_loss: 0.5333 - val_accuracy: 0.7577\n",
            "Epoch 62/200\n",
            "79/79 [==============================] - 0s 5ms/step - loss: 0.5321 - accuracy: 0.7092 - val_loss: 0.5485 - val_accuracy: 0.7832\n",
            "Epoch 63/200\n",
            "79/79 [==============================] - 0s 5ms/step - loss: 0.5238 - accuracy: 0.7423 - val_loss: 0.5219 - val_accuracy: 0.7679\n",
            "Epoch 64/200\n",
            "79/79 [==============================] - 0s 5ms/step - loss: 0.5434 - accuracy: 0.7213 - val_loss: 0.5204 - val_accuracy: 0.7551\n",
            "Epoch 65/200\n",
            "79/79 [==============================] - 0s 5ms/step - loss: 0.5277 - accuracy: 0.7232 - val_loss: 0.5088 - val_accuracy: 0.7653\n",
            "Epoch 66/200\n",
            "79/79 [==============================] - 0s 5ms/step - loss: 0.5270 - accuracy: 0.7366 - val_loss: 0.5336 - val_accuracy: 0.7628\n",
            "Epoch 67/200\n",
            "79/79 [==============================] - 0s 5ms/step - loss: 0.5493 - accuracy: 0.7175 - val_loss: 0.5238 - val_accuracy: 0.7653\n",
            "Epoch 68/200\n",
            "79/79 [==============================] - 0s 5ms/step - loss: 0.5181 - accuracy: 0.7443 - val_loss: 0.5176 - val_accuracy: 0.7679\n",
            "Epoch 69/200\n",
            "79/79 [==============================] - 0s 5ms/step - loss: 0.5154 - accuracy: 0.7379 - val_loss: 0.5288 - val_accuracy: 0.7781\n",
            "Epoch 70/200\n",
            "79/79 [==============================] - 0s 5ms/step - loss: 0.5153 - accuracy: 0.7494 - val_loss: 0.5112 - val_accuracy: 0.7730\n",
            "Epoch 71/200\n",
            "79/79 [==============================] - 0s 5ms/step - loss: 0.5183 - accuracy: 0.7290 - val_loss: 0.5217 - val_accuracy: 0.7959\n",
            "Epoch 72/200\n",
            "79/79 [==============================] - 0s 5ms/step - loss: 0.5216 - accuracy: 0.7360 - val_loss: 0.5105 - val_accuracy: 0.8010\n",
            "Epoch 73/200\n",
            "79/79 [==============================] - 0s 5ms/step - loss: 0.5163 - accuracy: 0.7296 - val_loss: 0.5245 - val_accuracy: 0.7781\n",
            "Epoch 74/200\n",
            "79/79 [==============================] - 0s 5ms/step - loss: 0.5141 - accuracy: 0.7290 - val_loss: 0.5170 - val_accuracy: 0.7857\n",
            "Epoch 75/200\n",
            "79/79 [==============================] - 0s 5ms/step - loss: 0.5103 - accuracy: 0.7404 - val_loss: 0.5134 - val_accuracy: 0.7781\n",
            "Epoch 76/200\n",
            "79/79 [==============================] - 0s 5ms/step - loss: 0.5069 - accuracy: 0.7321 - val_loss: 0.5010 - val_accuracy: 0.7806\n",
            "Epoch 77/200\n",
            "79/79 [==============================] - 0s 5ms/step - loss: 0.5204 - accuracy: 0.7219 - val_loss: 0.4958 - val_accuracy: 0.7857\n",
            "Epoch 78/200\n",
            "79/79 [==============================] - 0s 6ms/step - loss: 0.4990 - accuracy: 0.7519 - val_loss: 0.4879 - val_accuracy: 0.7755\n",
            "Epoch 79/200\n",
            "79/79 [==============================] - 0s 5ms/step - loss: 0.4909 - accuracy: 0.7468 - val_loss: 0.5061 - val_accuracy: 0.7883\n",
            "Epoch 80/200\n",
            "79/79 [==============================] - 0s 5ms/step - loss: 0.5099 - accuracy: 0.7430 - val_loss: 0.5113 - val_accuracy: 0.7704\n",
            "Epoch 81/200\n",
            "79/79 [==============================] - 0s 5ms/step - loss: 0.5017 - accuracy: 0.7385 - val_loss: 0.4883 - val_accuracy: 0.7653\n",
            "Epoch 82/200\n",
            "79/79 [==============================] - 0s 6ms/step - loss: 0.4861 - accuracy: 0.7474 - val_loss: 0.4821 - val_accuracy: 0.7755\n",
            "Epoch 83/200\n",
            "79/79 [==============================] - 0s 5ms/step - loss: 0.4669 - accuracy: 0.7768 - val_loss: 0.4904 - val_accuracy: 0.7832\n",
            "Epoch 84/200\n",
            "79/79 [==============================] - 0s 6ms/step - loss: 0.4868 - accuracy: 0.7545 - val_loss: 0.4799 - val_accuracy: 0.8010\n",
            "Epoch 85/200\n",
            "79/79 [==============================] - 0s 5ms/step - loss: 0.4920 - accuracy: 0.7430 - val_loss: 0.4550 - val_accuracy: 0.7857\n",
            "Epoch 86/200\n",
            "79/79 [==============================] - 0s 6ms/step - loss: 0.4798 - accuracy: 0.7481 - val_loss: 0.4679 - val_accuracy: 0.7908\n",
            "Epoch 87/200\n",
            "79/79 [==============================] - 0s 5ms/step - loss: 0.4951 - accuracy: 0.7379 - val_loss: 0.4836 - val_accuracy: 0.7679\n",
            "Epoch 88/200\n",
            "79/79 [==============================] - 0s 5ms/step - loss: 0.4824 - accuracy: 0.7557 - val_loss: 0.4762 - val_accuracy: 0.7806\n",
            "Epoch 89/200\n",
            "79/79 [==============================] - 0s 5ms/step - loss: 0.5035 - accuracy: 0.7328 - val_loss: 0.4655 - val_accuracy: 0.7883\n",
            "Epoch 90/200\n",
            "79/79 [==============================] - 0s 5ms/step - loss: 0.4889 - accuracy: 0.7423 - val_loss: 0.4844 - val_accuracy: 0.7959\n",
            "Epoch 91/200\n",
            "79/79 [==============================] - 0s 6ms/step - loss: 0.4780 - accuracy: 0.7577 - val_loss: 0.4693 - val_accuracy: 0.7806\n",
            "Epoch 92/200\n",
            "79/79 [==============================] - 0s 5ms/step - loss: 0.4861 - accuracy: 0.7519 - val_loss: 0.4469 - val_accuracy: 0.7985\n",
            "Epoch 93/200\n",
            "79/79 [==============================] - 0s 5ms/step - loss: 0.4691 - accuracy: 0.7736 - val_loss: 0.4558 - val_accuracy: 0.7934\n",
            "Epoch 94/200\n",
            "79/79 [==============================] - 0s 5ms/step - loss: 0.4484 - accuracy: 0.7761 - val_loss: 0.4663 - val_accuracy: 0.7934\n",
            "Epoch 95/200\n",
            "79/79 [==============================] - 0s 6ms/step - loss: 0.4719 - accuracy: 0.7628 - val_loss: 0.4683 - val_accuracy: 0.7908\n",
            "Epoch 96/200\n",
            "79/79 [==============================] - 0s 5ms/step - loss: 0.4764 - accuracy: 0.7487 - val_loss: 0.4631 - val_accuracy: 0.8036\n",
            "Epoch 97/200\n",
            "79/79 [==============================] - 0s 5ms/step - loss: 0.4716 - accuracy: 0.7577 - val_loss: 0.4395 - val_accuracy: 0.8240\n",
            "Epoch 98/200\n",
            "79/79 [==============================] - 0s 5ms/step - loss: 0.4657 - accuracy: 0.7615 - val_loss: 0.4473 - val_accuracy: 0.8061\n",
            "Epoch 99/200\n",
            "79/79 [==============================] - 0s 5ms/step - loss: 0.4693 - accuracy: 0.7755 - val_loss: 0.4332 - val_accuracy: 0.7985\n",
            "Epoch 100/200\n",
            "79/79 [==============================] - 0s 5ms/step - loss: 0.4786 - accuracy: 0.7487 - val_loss: 0.4474 - val_accuracy: 0.8010\n",
            "Epoch 101/200\n",
            "76/79 [===========================>..] - ETA: 0s - loss: 0.4661 - accuracy: 0.7625\n",
            "Epoch: 100, accuracy:0.7628,  loss:0.4636,  val_accuracy:0.7985,  val_loss:0.4472,  \n",
            "79/79 [==============================] - 0s 6ms/step - loss: 0.4636 - accuracy: 0.7628 - val_loss: 0.4472 - val_accuracy: 0.7985\n",
            "Epoch 102/200\n",
            "79/79 [==============================] - 0s 5ms/step - loss: 0.4687 - accuracy: 0.7640 - val_loss: 0.4367 - val_accuracy: 0.8112\n",
            "Epoch 103/200\n",
            "79/79 [==============================] - 0s 6ms/step - loss: 0.4570 - accuracy: 0.7659 - val_loss: 0.4424 - val_accuracy: 0.8036\n",
            "Epoch 104/200\n",
            "79/79 [==============================] - 0s 5ms/step - loss: 0.4659 - accuracy: 0.7672 - val_loss: 0.4456 - val_accuracy: 0.8112\n",
            "Epoch 105/200\n",
            "79/79 [==============================] - 0s 5ms/step - loss: 0.4780 - accuracy: 0.7640 - val_loss: 0.4526 - val_accuracy: 0.8061\n",
            "Epoch 106/200\n",
            "79/79 [==============================] - 0s 5ms/step - loss: 0.4475 - accuracy: 0.7793 - val_loss: 0.4279 - val_accuracy: 0.7985\n",
            "Epoch 107/200\n",
            "79/79 [==============================] - 0s 5ms/step - loss: 0.4605 - accuracy: 0.7787 - val_loss: 0.4398 - val_accuracy: 0.8036\n",
            "Epoch 108/200\n",
            "79/79 [==============================] - 0s 5ms/step - loss: 0.4669 - accuracy: 0.7685 - val_loss: 0.4340 - val_accuracy: 0.8112\n",
            "Epoch 109/200\n",
            "79/79 [==============================] - 0s 5ms/step - loss: 0.4673 - accuracy: 0.7730 - val_loss: 0.4195 - val_accuracy: 0.8163\n",
            "Epoch 110/200\n",
            "79/79 [==============================] - 0s 5ms/step - loss: 0.4501 - accuracy: 0.7870 - val_loss: 0.4197 - val_accuracy: 0.8138\n",
            "Epoch 111/200\n",
            "79/79 [==============================] - 0s 5ms/step - loss: 0.4497 - accuracy: 0.7691 - val_loss: 0.4291 - val_accuracy: 0.8061\n",
            "Epoch 112/200\n",
            "79/79 [==============================] - 0s 6ms/step - loss: 0.4493 - accuracy: 0.7793 - val_loss: 0.4525 - val_accuracy: 0.7806\n",
            "Epoch 113/200\n",
            "79/79 [==============================] - 0s 5ms/step - loss: 0.4525 - accuracy: 0.7902 - val_loss: 0.4432 - val_accuracy: 0.8010\n",
            "Epoch 114/200\n",
            "79/79 [==============================] - 0s 6ms/step - loss: 0.4675 - accuracy: 0.7640 - val_loss: 0.4325 - val_accuracy: 0.7883\n",
            "Epoch 115/200\n",
            "79/79 [==============================] - 0s 5ms/step - loss: 0.4308 - accuracy: 0.7787 - val_loss: 0.4390 - val_accuracy: 0.8138\n",
            "Epoch 116/200\n",
            "79/79 [==============================] - 0s 5ms/step - loss: 0.4596 - accuracy: 0.7691 - val_loss: 0.4259 - val_accuracy: 0.8061\n",
            "Epoch 117/200\n",
            "79/79 [==============================] - 0s 5ms/step - loss: 0.4326 - accuracy: 0.7978 - val_loss: 0.4309 - val_accuracy: 0.8112\n",
            "Epoch 118/200\n",
            "79/79 [==============================] - 0s 6ms/step - loss: 0.4496 - accuracy: 0.7812 - val_loss: 0.4402 - val_accuracy: 0.8163\n",
            "Epoch 119/200\n",
            "79/79 [==============================] - 0s 5ms/step - loss: 0.4424 - accuracy: 0.7902 - val_loss: 0.4336 - val_accuracy: 0.8036\n",
            "Epoch 120/200\n",
            "79/79 [==============================] - 0s 5ms/step - loss: 0.4415 - accuracy: 0.7870 - val_loss: 0.4242 - val_accuracy: 0.8061\n",
            "Epoch 121/200\n",
            "79/79 [==============================] - 0s 5ms/step - loss: 0.4504 - accuracy: 0.7838 - val_loss: 0.4257 - val_accuracy: 0.7883\n",
            "Epoch 122/200\n",
            "79/79 [==============================] - 0s 5ms/step - loss: 0.4754 - accuracy: 0.7781 - val_loss: 0.4074 - val_accuracy: 0.8240\n",
            "Epoch 123/200\n",
            "79/79 [==============================] - 0s 5ms/step - loss: 0.4711 - accuracy: 0.7621 - val_loss: 0.4379 - val_accuracy: 0.8112\n",
            "Epoch 124/200\n",
            "79/79 [==============================] - 0s 6ms/step - loss: 0.4393 - accuracy: 0.8048 - val_loss: 0.4218 - val_accuracy: 0.8163\n",
            "Epoch 125/200\n",
            "79/79 [==============================] - 0s 6ms/step - loss: 0.4275 - accuracy: 0.7915 - val_loss: 0.4177 - val_accuracy: 0.8163\n",
            "Epoch 126/200\n",
            "79/79 [==============================] - 0s 5ms/step - loss: 0.4383 - accuracy: 0.7934 - val_loss: 0.4163 - val_accuracy: 0.8240\n",
            "Epoch 127/200\n",
            "79/79 [==============================] - 0s 5ms/step - loss: 0.4126 - accuracy: 0.8017 - val_loss: 0.4196 - val_accuracy: 0.8061\n",
            "Epoch 128/200\n",
            "79/79 [==============================] - 0s 6ms/step - loss: 0.4080 - accuracy: 0.8074 - val_loss: 0.4191 - val_accuracy: 0.8036\n",
            "Epoch 129/200\n",
            "79/79 [==============================] - 0s 5ms/step - loss: 0.4181 - accuracy: 0.7985 - val_loss: 0.4172 - val_accuracy: 0.8087\n",
            "Epoch 130/200\n",
            "79/79 [==============================] - 0s 6ms/step - loss: 0.4367 - accuracy: 0.8042 - val_loss: 0.4069 - val_accuracy: 0.8138\n",
            "Epoch 131/200\n",
            "79/79 [==============================] - 0s 6ms/step - loss: 0.4424 - accuracy: 0.7876 - val_loss: 0.4230 - val_accuracy: 0.8061\n",
            "Epoch 132/200\n",
            "79/79 [==============================] - 0s 5ms/step - loss: 0.4418 - accuracy: 0.7953 - val_loss: 0.4226 - val_accuracy: 0.8163\n",
            "Epoch 133/200\n",
            "79/79 [==============================] - 0s 6ms/step - loss: 0.4155 - accuracy: 0.7997 - val_loss: 0.4236 - val_accuracy: 0.8189\n",
            "Epoch 134/200\n",
            "79/79 [==============================] - 0s 5ms/step - loss: 0.4293 - accuracy: 0.8029 - val_loss: 0.4041 - val_accuracy: 0.8214\n",
            "Epoch 135/200\n",
            "79/79 [==============================] - 0s 6ms/step - loss: 0.4197 - accuracy: 0.8010 - val_loss: 0.4097 - val_accuracy: 0.8112\n",
            "Epoch 136/200\n",
            "79/79 [==============================] - 0s 5ms/step - loss: 0.4215 - accuracy: 0.7883 - val_loss: 0.4101 - val_accuracy: 0.8163\n",
            "Epoch 137/200\n",
            "79/79 [==============================] - 0s 5ms/step - loss: 0.4265 - accuracy: 0.7966 - val_loss: 0.3992 - val_accuracy: 0.8291\n",
            "Epoch 138/200\n",
            "79/79 [==============================] - 0s 5ms/step - loss: 0.4361 - accuracy: 0.7889 - val_loss: 0.4127 - val_accuracy: 0.8316\n",
            "Epoch 139/200\n",
            "79/79 [==============================] - 0s 6ms/step - loss: 0.4265 - accuracy: 0.7972 - val_loss: 0.3958 - val_accuracy: 0.8265\n",
            "Epoch 140/200\n",
            "79/79 [==============================] - 0s 5ms/step - loss: 0.4017 - accuracy: 0.7991 - val_loss: 0.4107 - val_accuracy: 0.8265\n",
            "Epoch 141/200\n",
            "79/79 [==============================] - 0s 5ms/step - loss: 0.3873 - accuracy: 0.8112 - val_loss: 0.4097 - val_accuracy: 0.8342\n",
            "Epoch 142/200\n",
            "79/79 [==============================] - 0s 5ms/step - loss: 0.4202 - accuracy: 0.8017 - val_loss: 0.4420 - val_accuracy: 0.8061\n",
            "Epoch 143/200\n",
            "79/79 [==============================] - 0s 5ms/step - loss: 0.4242 - accuracy: 0.7876 - val_loss: 0.4042 - val_accuracy: 0.8418\n",
            "Epoch 144/200\n",
            "79/79 [==============================] - 0s 5ms/step - loss: 0.4048 - accuracy: 0.8112 - val_loss: 0.4158 - val_accuracy: 0.8469\n",
            "Epoch 145/200\n",
            "79/79 [==============================] - 0s 5ms/step - loss: 0.3902 - accuracy: 0.8157 - val_loss: 0.3981 - val_accuracy: 0.8367\n",
            "Epoch 146/200\n",
            "79/79 [==============================] - 0s 5ms/step - loss: 0.4075 - accuracy: 0.8042 - val_loss: 0.3941 - val_accuracy: 0.8393\n",
            "Epoch 147/200\n",
            "79/79 [==============================] - 0s 5ms/step - loss: 0.4333 - accuracy: 0.7966 - val_loss: 0.4074 - val_accuracy: 0.8367\n",
            "Epoch 148/200\n",
            "79/79 [==============================] - 0s 5ms/step - loss: 0.4265 - accuracy: 0.7978 - val_loss: 0.4176 - val_accuracy: 0.8418\n",
            "Epoch 149/200\n",
            "79/79 [==============================] - 0s 6ms/step - loss: 0.3996 - accuracy: 0.8055 - val_loss: 0.3950 - val_accuracy: 0.8393\n",
            "Epoch 150/200\n",
            "79/79 [==============================] - 0s 6ms/step - loss: 0.4323 - accuracy: 0.7959 - val_loss: 0.4064 - val_accuracy: 0.8393\n",
            "Epoch 151/200\n",
            "79/79 [==============================] - 0s 5ms/step - loss: 0.4220 - accuracy: 0.8004 - val_loss: 0.4072 - val_accuracy: 0.8418\n",
            "Epoch 152/200\n",
            "79/79 [==============================] - 0s 5ms/step - loss: 0.4146 - accuracy: 0.8042 - val_loss: 0.3984 - val_accuracy: 0.8367\n",
            "Epoch 153/200\n",
            "79/79 [==============================] - 0s 6ms/step - loss: 0.4173 - accuracy: 0.8010 - val_loss: 0.4151 - val_accuracy: 0.8265\n",
            "Epoch 154/200\n",
            "79/79 [==============================] - 0s 5ms/step - loss: 0.4007 - accuracy: 0.8055 - val_loss: 0.3817 - val_accuracy: 0.8418\n",
            "Epoch 155/200\n",
            "79/79 [==============================] - 0s 5ms/step - loss: 0.3952 - accuracy: 0.8138 - val_loss: 0.3976 - val_accuracy: 0.8291\n",
            "Epoch 156/200\n",
            "79/79 [==============================] - 0s 5ms/step - loss: 0.4301 - accuracy: 0.7864 - val_loss: 0.3924 - val_accuracy: 0.8444\n",
            "Epoch 157/200\n",
            "79/79 [==============================] - 0s 5ms/step - loss: 0.4087 - accuracy: 0.8195 - val_loss: 0.3875 - val_accuracy: 0.8444\n",
            "Epoch 158/200\n",
            "79/79 [==============================] - 0s 6ms/step - loss: 0.3947 - accuracy: 0.8176 - val_loss: 0.3879 - val_accuracy: 0.8546\n",
            "Epoch 159/200\n",
            "79/79 [==============================] - 0s 5ms/step - loss: 0.3886 - accuracy: 0.8253 - val_loss: 0.3838 - val_accuracy: 0.8546\n",
            "Epoch 160/200\n",
            "79/79 [==============================] - 0s 5ms/step - loss: 0.3863 - accuracy: 0.8087 - val_loss: 0.3831 - val_accuracy: 0.8597\n",
            "Epoch 161/200\n",
            "79/79 [==============================] - 0s 5ms/step - loss: 0.3929 - accuracy: 0.8182 - val_loss: 0.3921 - val_accuracy: 0.8597\n",
            "Epoch 162/200\n",
            "79/79 [==============================] - 0s 5ms/step - loss: 0.4402 - accuracy: 0.7978 - val_loss: 0.3891 - val_accuracy: 0.8469\n",
            "Epoch 163/200\n",
            "79/79 [==============================] - 0s 5ms/step - loss: 0.4053 - accuracy: 0.7946 - val_loss: 0.3812 - val_accuracy: 0.8444\n",
            "Epoch 164/200\n",
            "79/79 [==============================] - 0s 5ms/step - loss: 0.4114 - accuracy: 0.8106 - val_loss: 0.3637 - val_accuracy: 0.8520\n",
            "Epoch 165/200\n",
            "79/79 [==============================] - 0s 5ms/step - loss: 0.3959 - accuracy: 0.8068 - val_loss: 0.3829 - val_accuracy: 0.8546\n",
            "Epoch 166/200\n",
            "79/79 [==============================] - 0s 5ms/step - loss: 0.4043 - accuracy: 0.8138 - val_loss: 0.3898 - val_accuracy: 0.8520\n",
            "Epoch 167/200\n",
            "79/79 [==============================] - 0s 6ms/step - loss: 0.3986 - accuracy: 0.8176 - val_loss: 0.3976 - val_accuracy: 0.8520\n",
            "Epoch 168/200\n",
            "79/79 [==============================] - 0s 5ms/step - loss: 0.4035 - accuracy: 0.8144 - val_loss: 0.3751 - val_accuracy: 0.8495\n",
            "Epoch 169/200\n",
            "79/79 [==============================] - 0s 5ms/step - loss: 0.4078 - accuracy: 0.8125 - val_loss: 0.3873 - val_accuracy: 0.8622\n",
            "Epoch 170/200\n",
            "79/79 [==============================] - 0s 5ms/step - loss: 0.4167 - accuracy: 0.8010 - val_loss: 0.3644 - val_accuracy: 0.8520\n",
            "Epoch 171/200\n",
            "79/79 [==============================] - 0s 6ms/step - loss: 0.4015 - accuracy: 0.8144 - val_loss: 0.3677 - val_accuracy: 0.8495\n",
            "Epoch 172/200\n",
            "79/79 [==============================] - 0s 5ms/step - loss: 0.4082 - accuracy: 0.7978 - val_loss: 0.3877 - val_accuracy: 0.8571\n",
            "Epoch 173/200\n",
            "79/79 [==============================] - 0s 5ms/step - loss: 0.4051 - accuracy: 0.8119 - val_loss: 0.3887 - val_accuracy: 0.8444\n",
            "Epoch 174/200\n",
            "79/79 [==============================] - 0s 5ms/step - loss: 0.4004 - accuracy: 0.7966 - val_loss: 0.3712 - val_accuracy: 0.8571\n",
            "Epoch 175/200\n",
            "79/79 [==============================] - 0s 6ms/step - loss: 0.3735 - accuracy: 0.8227 - val_loss: 0.3706 - val_accuracy: 0.8571\n",
            "Epoch 176/200\n",
            "79/79 [==============================] - 0s 6ms/step - loss: 0.4061 - accuracy: 0.8202 - val_loss: 0.3583 - val_accuracy: 0.8571\n",
            "Epoch 177/200\n",
            "79/79 [==============================] - 1s 8ms/step - loss: 0.4103 - accuracy: 0.8080 - val_loss: 0.3812 - val_accuracy: 0.8495\n",
            "Epoch 178/200\n",
            "79/79 [==============================] - 0s 6ms/step - loss: 0.4008 - accuracy: 0.8131 - val_loss: 0.3720 - val_accuracy: 0.8571\n",
            "Epoch 179/200\n",
            "79/79 [==============================] - 0s 5ms/step - loss: 0.4106 - accuracy: 0.8042 - val_loss: 0.3941 - val_accuracy: 0.8418\n",
            "Epoch 180/200\n",
            "79/79 [==============================] - 0s 5ms/step - loss: 0.3958 - accuracy: 0.8253 - val_loss: 0.3870 - val_accuracy: 0.8469\n",
            "Epoch 181/200\n",
            "79/79 [==============================] - 0s 5ms/step - loss: 0.3844 - accuracy: 0.8189 - val_loss: 0.3624 - val_accuracy: 0.8597\n",
            "Epoch 182/200\n",
            "79/79 [==============================] - 0s 5ms/step - loss: 0.3873 - accuracy: 0.8214 - val_loss: 0.3691 - val_accuracy: 0.8495\n",
            "Epoch 183/200\n",
            "79/79 [==============================] - 0s 5ms/step - loss: 0.4029 - accuracy: 0.8131 - val_loss: 0.3779 - val_accuracy: 0.8699\n",
            "Epoch 184/200\n",
            "79/79 [==============================] - 0s 6ms/step - loss: 0.4020 - accuracy: 0.8163 - val_loss: 0.3896 - val_accuracy: 0.8520\n",
            "Epoch 185/200\n",
            "79/79 [==============================] - 0s 5ms/step - loss: 0.4057 - accuracy: 0.8068 - val_loss: 0.3731 - val_accuracy: 0.8622\n",
            "Epoch 186/200\n",
            "79/79 [==============================] - 0s 5ms/step - loss: 0.3822 - accuracy: 0.8284 - val_loss: 0.3724 - val_accuracy: 0.8597\n",
            "Epoch 187/200\n",
            "79/79 [==============================] - 0s 5ms/step - loss: 0.3834 - accuracy: 0.8246 - val_loss: 0.3775 - val_accuracy: 0.8546\n",
            "Epoch 188/200\n",
            "79/79 [==============================] - 0s 5ms/step - loss: 0.3627 - accuracy: 0.8386 - val_loss: 0.3604 - val_accuracy: 0.8571\n",
            "Epoch 189/200\n",
            "79/79 [==============================] - 0s 5ms/step - loss: 0.3578 - accuracy: 0.8361 - val_loss: 0.3556 - val_accuracy: 0.8673\n",
            "Epoch 190/200\n",
            "79/79 [==============================] - 0s 5ms/step - loss: 0.3896 - accuracy: 0.8170 - val_loss: 0.3524 - val_accuracy: 0.8571\n",
            "Epoch 191/200\n",
            "79/79 [==============================] - 0s 5ms/step - loss: 0.3918 - accuracy: 0.8144 - val_loss: 0.3598 - val_accuracy: 0.8546\n",
            "Epoch 192/200\n",
            "79/79 [==============================] - 0s 5ms/step - loss: 0.3960 - accuracy: 0.8214 - val_loss: 0.3597 - val_accuracy: 0.8520\n",
            "Epoch 193/200\n",
            "79/79 [==============================] - 0s 5ms/step - loss: 0.3658 - accuracy: 0.8310 - val_loss: 0.3637 - val_accuracy: 0.8648\n",
            "Epoch 194/200\n",
            "79/79 [==============================] - 0s 6ms/step - loss: 0.3966 - accuracy: 0.8189 - val_loss: 0.3691 - val_accuracy: 0.8520\n",
            "Epoch 195/200\n",
            "79/79 [==============================] - 0s 5ms/step - loss: 0.3609 - accuracy: 0.8291 - val_loss: 0.3734 - val_accuracy: 0.8469\n",
            "Epoch 196/200\n",
            "79/79 [==============================] - 0s 6ms/step - loss: 0.3919 - accuracy: 0.8144 - val_loss: 0.3753 - val_accuracy: 0.8571\n",
            "Epoch 197/200\n",
            "79/79 [==============================] - 0s 5ms/step - loss: 0.3858 - accuracy: 0.8112 - val_loss: 0.3805 - val_accuracy: 0.8495\n",
            "Epoch 198/200\n",
            "79/79 [==============================] - 0s 5ms/step - loss: 0.3940 - accuracy: 0.8240 - val_loss: 0.3610 - val_accuracy: 0.8597\n",
            "Epoch 199/200\n",
            "79/79 [==============================] - 0s 5ms/step - loss: 0.3958 - accuracy: 0.8240 - val_loss: 0.3755 - val_accuracy: 0.8571\n",
            "Epoch 200/200\n",
            "79/79 [==============================] - 0s 5ms/step - loss: 0.3953 - accuracy: 0.8151 - val_loss: 0.3730 - val_accuracy: 0.8444\n"
          ],
          "name": "stdout"
        }
      ]
    },
    {
      "cell_type": "code",
      "metadata": {
        "id": "ODHW1NAOqNcK",
        "colab_type": "code",
        "colab": {
          "base_uri": "https://localhost:8080/",
          "height": 206
        },
        "outputId": "b5a93b7e-5c7f-4376-b6df-c704522cb8e9"
      },
      "source": [
        "hist = pd.DataFrame(history.history)\n",
        "hist['epoch'] = history.epoch\n",
        "hist.tail()"
      ],
      "execution_count": 284,
      "outputs": [
        {
          "output_type": "execute_result",
          "data": {
            "text/html": [
              "<div>\n",
              "<style scoped>\n",
              "    .dataframe tbody tr th:only-of-type {\n",
              "        vertical-align: middle;\n",
              "    }\n",
              "\n",
              "    .dataframe tbody tr th {\n",
              "        vertical-align: top;\n",
              "    }\n",
              "\n",
              "    .dataframe thead th {\n",
              "        text-align: right;\n",
              "    }\n",
              "</style>\n",
              "<table border=\"1\" class=\"dataframe\">\n",
              "  <thead>\n",
              "    <tr style=\"text-align: right;\">\n",
              "      <th></th>\n",
              "      <th>loss</th>\n",
              "      <th>accuracy</th>\n",
              "      <th>val_loss</th>\n",
              "      <th>val_accuracy</th>\n",
              "      <th>epoch</th>\n",
              "    </tr>\n",
              "  </thead>\n",
              "  <tbody>\n",
              "    <tr>\n",
              "      <th>195</th>\n",
              "      <td>0.391867</td>\n",
              "      <td>0.814413</td>\n",
              "      <td>0.375271</td>\n",
              "      <td>0.857143</td>\n",
              "      <td>195</td>\n",
              "    </tr>\n",
              "    <tr>\n",
              "      <th>196</th>\n",
              "      <td>0.385806</td>\n",
              "      <td>0.811224</td>\n",
              "      <td>0.380512</td>\n",
              "      <td>0.849490</td>\n",
              "      <td>196</td>\n",
              "    </tr>\n",
              "    <tr>\n",
              "      <th>197</th>\n",
              "      <td>0.394016</td>\n",
              "      <td>0.823980</td>\n",
              "      <td>0.360960</td>\n",
              "      <td>0.859694</td>\n",
              "      <td>197</td>\n",
              "    </tr>\n",
              "    <tr>\n",
              "      <th>198</th>\n",
              "      <td>0.395797</td>\n",
              "      <td>0.823980</td>\n",
              "      <td>0.375524</td>\n",
              "      <td>0.857143</td>\n",
              "      <td>198</td>\n",
              "    </tr>\n",
              "    <tr>\n",
              "      <th>199</th>\n",
              "      <td>0.395252</td>\n",
              "      <td>0.815051</td>\n",
              "      <td>0.373022</td>\n",
              "      <td>0.844388</td>\n",
              "      <td>199</td>\n",
              "    </tr>\n",
              "  </tbody>\n",
              "</table>\n",
              "</div>"
            ],
            "text/plain": [
              "         loss  accuracy  val_loss  val_accuracy  epoch\n",
              "195  0.391867  0.814413  0.375271      0.857143    195\n",
              "196  0.385806  0.811224  0.380512      0.849490    196\n",
              "197  0.394016  0.823980  0.360960      0.859694    197\n",
              "198  0.395797  0.823980  0.375524      0.857143    198\n",
              "199  0.395252  0.815051  0.373022      0.844388    199"
            ]
          },
          "metadata": {
            "tags": []
          },
          "execution_count": 284
        }
      ]
    },
    {
      "cell_type": "code",
      "metadata": {
        "id": "Q3-cFZIRrMKd",
        "colab_type": "code",
        "colab": {
          "base_uri": "https://localhost:8080/",
          "height": 362
        },
        "outputId": "a3987296-2938-40bb-bea6-be10d1b5e015"
      },
      "source": [
        "import matplotlib.pyplot as plt\n",
        "\n",
        "hist=history.history\n",
        "\n",
        "fig=plt.figure(figsize=(12,5))\n",
        "ax=fig.add_subplot(1,2,1)\n",
        "ax.plot(hist['loss'],lw=3)\n",
        "ax.plot(hist['val_loss'],lw=3)\n",
        "ax.set_title('Training & Validation Loss',size=15)\n",
        "ax.set_xlabel('Epoch',size=15)\n",
        "ax.tick_params(axis='both',which='major',labelsize=15)\n",
        "ax=fig.add_subplot(1,2,2)\n",
        "ax.plot(hist['accuracy'],lw=3)\n",
        "ax.plot(hist['val_accuracy'],lw=3)\n",
        "ax.set_title('Training & Validation accuracy',size=15)\n",
        "ax.set_xlabel('Epoch',size=15)\n",
        "ax.tick_params(axis='both',which='major',labelsize=15)\n",
        "plt.show()\n",
        "\n",
        "\n"
      ],
      "execution_count": 285,
      "outputs": [
        {
          "output_type": "display_data",
          "data": {
            "image/png": "[encoded data removed]",
            "text/plain": [
              "<Figure size 864x360 with 2 Axes>"
            ]
          },
          "metadata": {
            "tags": [],
            "needs_background": "light"
          }
        }
      ]
    },
    {
      "cell_type": "code",
      "metadata": {
        "id": "eOahIbKW6AMf",
        "colab_type": "code",
        "colab": {
          "base_uri": "https://localhost:8080/",
          "height": 366
        },
        "outputId": "ff45ce41-f959-4582-ea8d-95d45665fdb6"
      },
      "source": [
        "!pip install shap"
      ],
      "execution_count": 32,
      "outputs": [
        {
          "output_type": "stream",
          "text": [
            "Collecting shap\n",
            "\u001b[?25l  Downloading https://files.pythonhosted.org/packages/a8/77/b504e43e21a2ba543a1ac4696718beb500cfa708af2fb57cb54ce299045c/shap-0.35.0.tar.gz (273kB)\n",
            "\r\u001b[K     |█▏                              | 10kB 21.7MB/s eta 0:00:01\r\u001b[K     |██▍                             | 20kB 1.7MB/s eta 0:00:01\r\u001b[K     |███▋                            | 30kB 2.2MB/s eta 0:00:01\r\u001b[K     |████▉                           | 40kB 2.5MB/s eta 0:00:01\r\u001b[K     |██████                          | 51kB 2.0MB/s eta 0:00:01\r\u001b[K     |███████▏                        | 61kB 2.3MB/s eta 0:00:01\r\u001b[K     |████████▍                       | 71kB 2.5MB/s eta 0:00:01\r\u001b[K     |█████████▋                      | 81kB 2.7MB/s eta 0:00:01\r\u001b[K     |██████████▉                     | 92kB 2.9MB/s eta 0:00:01\r\u001b[K     |████████████                    | 102kB 2.8MB/s eta 0:00:01\r\u001b[K     |█████████████▏                  | 112kB 2.8MB/s eta 0:00:01\r\u001b[K     |██████████████▍                 | 122kB 2.8MB/s eta 0:00:01\r\u001b[K     |███████████████▋                | 133kB 2.8MB/s eta 0:00:01\r\u001b[K     |████████████████▉               | 143kB 2.8MB/s eta 0:00:01\r\u001b[K     |██████████████████              | 153kB 2.8MB/s eta 0:00:01\r\u001b[K     |███████████████████▏            | 163kB 2.8MB/s eta 0:00:01\r\u001b[K     |████████████████████▍           | 174kB 2.8MB/s eta 0:00:01\r\u001b[K     |█████████████████████▋          | 184kB 2.8MB/s eta 0:00:01\r\u001b[K     |██████████████████████▉         | 194kB 2.8MB/s eta 0:00:01\r\u001b[K     |████████████████████████        | 204kB 2.8MB/s eta 0:00:01\r\u001b[K     |█████████████████████████▏      | 215kB 2.8MB/s eta 0:00:01\r\u001b[K     |██████████████████████████▍     | 225kB 2.8MB/s eta 0:00:01\r\u001b[K     |███████████████████████████▋    | 235kB 2.8MB/s eta 0:00:01\r\u001b[K     |████████████████████████████▉   | 245kB 2.8MB/s eta 0:00:01\r\u001b[K     |██████████████████████████████  | 256kB 2.8MB/s eta 0:00:01\r\u001b[K     |███████████████████████████████▏| 266kB 2.8MB/s eta 0:00:01\r\u001b[K     |████████████████████████████████| 276kB 2.8MB/s \n",
            "\u001b[?25hRequirement already satisfied: numpy in /usr/local/lib/python3.6/dist-packages (from shap) (1.18.5)\n",
            "Requirement already satisfied: scipy in /usr/local/lib/python3.6/dist-packages (from shap) (1.4.1)\n",
            "Requirement already satisfied: scikit-learn in /usr/local/lib/python3.6/dist-packages (from shap) (0.22.2.post1)\n",
            "Requirement already satisfied: pandas in /usr/local/lib/python3.6/dist-packages (from shap) (1.0.5)\n",
            "Requirement already satisfied: tqdm>4.25.0 in /usr/local/lib/python3.6/dist-packages (from shap) (4.41.1)\n",
            "Requirement already satisfied: joblib>=0.11 in /usr/local/lib/python3.6/dist-packages (from scikit-learn->shap) (0.15.1)\n",
            "Requirement already satisfied: pytz>=2017.2 in /usr/local/lib/python3.6/dist-packages (from pandas->shap) (2018.9)\n",
            "Requirement already satisfied: python-dateutil>=2.6.1 in /usr/local/lib/python3.6/dist-packages (from pandas->shap) (2.8.1)\n",
            "Requirement already satisfied: six>=1.5 in /usr/local/lib/python3.6/dist-packages (from python-dateutil>=2.6.1->pandas->shap) (1.12.0)\n",
            "Building wheels for collected packages: shap\n",
            "  Building wheel for shap (setup.py) ... \u001b[?25l\u001b[?25hdone\n",
            "  Created wheel for shap: filename=shap-0.35.0-cp36-cp36m-linux_x86_64.whl size=394130 sha256=fa7a3695c4152743202e7de8bd95b7d76cec14ad3ea03f3ef255b7369251cec7\n",
            "  Stored in directory: /root/.cache/pip/wheels/e7/f7/0f/b57055080cf8894906b3bd3616d2fc2bfd0b12d5161bcb24ac\n",
            "Successfully built shap\n",
            "Installing collected packages: shap\n",
            "Successfully installed shap-0.35.0\n"
          ],
          "name": "stdout"
        }
      ]
    },
    {
      "cell_type": "code",
      "metadata": {
        "id": "368Jn0vJ6KwX",
        "colab_type": "code",
        "colab": {}
      },
      "source": [
        "import shap\n",
        "\n",
        "explainer = shap.DeepExplainer(model, np.array(X_train_new))"
      ],
      "execution_count": 286,
      "outputs": []
    },
    {
      "cell_type": "code",
      "metadata": {
        "id": "u9u_3boZEVPn",
        "colab_type": "code",
        "colab": {}
      },
      "source": [
        "shap_values  = explainer.shap_values(np.array(X_test_new))"
      ],
      "execution_count": 287,
      "outputs": []
    },
    {
      "cell_type": "code",
      "metadata": {
        "id": "A5xcKTYcExMZ",
        "colab_type": "code",
        "colab": {
          "base_uri": "https://localhost:8080/",
          "height": 585
        },
        "outputId": "3bd506e8-378d-4918-88fb-cc0f45b210ae"
      },
      "source": [
        "shap.summary_plot(shap_values[1], X_test_new)"
      ],
      "execution_count": 288,
      "outputs": [
        {
          "output_type": "display_data",
          "data": {
            "image/png": "[encoded data removed]",
            "text/plain": [
              "<Figure size 576x684 with 2 Axes>"
            ]
          },
          "metadata": {
            "tags": [],
            "needs_background": "light"
          }
        }
      ]
    },
    {
      "cell_type": "code",
      "metadata": {
        "id": "1e2NoPn2Oump",
        "colab_type": "code",
        "colab": {
          "base_uri": "https://localhost:8080/",
          "height": 415
        },
        "outputId": "b3f7536f-b206-4563-fd70-7da0d2783147"
      },
      "source": [
        "pred=model.predict(X_test_new)\n",
        "pred.argmax(axis=1)"
      ],
      "execution_count": 289,
      "outputs": [
        {
          "output_type": "execute_result",
          "data": {
            "text/plain": [
              "array([0, 0, 0, 1, 0, 1, 0, 0, 0, 0, 1, 1, 1, 0, 0, 0, 0, 1, 0, 1, 0, 1,\n",
              "       1, 1, 1, 1, 1, 1, 0, 0, 1, 1, 1, 1, 1, 1, 1, 1, 0, 0, 1, 1, 1, 1,\n",
              "       0, 0, 0, 0, 0, 0, 0, 0, 0, 0, 0, 0, 0, 0, 0, 0, 0, 1, 1, 1, 0, 0,\n",
              "       0, 0, 0, 1, 0, 0, 1, 1, 1, 1, 1, 1, 1, 0, 0, 0, 1, 1, 1, 1, 1, 1,\n",
              "       1, 1, 0, 0, 1, 1, 1, 1, 1, 1, 1, 1, 1, 1, 1, 0, 1, 1, 1, 1, 1, 0,\n",
              "       1, 1, 1, 1, 1, 0, 0, 0, 0, 0, 0, 0, 1, 0, 1, 1, 1, 1, 1, 1, 1, 1,\n",
              "       1, 1, 1, 1, 1, 1, 1, 1, 1, 1, 1, 1, 1, 1, 1, 1, 0, 0, 0, 0, 0, 1,\n",
              "       1, 1, 1, 1, 1, 1, 0, 0, 0, 0, 1, 1, 1, 0, 1, 1, 1, 1, 1, 1, 1, 1,\n",
              "       1, 1, 1, 1, 1, 1, 0, 0, 1, 1, 1, 1, 1, 0, 0, 0, 0, 0, 0, 1, 1, 1,\n",
              "       1, 1, 1, 1, 0, 1, 1, 1, 1, 1, 1, 1, 0, 1, 1, 0, 1, 1, 0, 1, 1, 1,\n",
              "       1, 1, 1, 1, 1, 1, 1, 1, 1, 1, 1, 0, 1, 1, 1, 1, 1, 1, 0, 0, 0, 0,\n",
              "       0, 0, 0, 1, 1, 1, 1, 1, 1, 1, 1, 1, 1, 1, 1, 1, 1, 0, 0, 0, 0, 0,\n",
              "       0, 1, 1, 1, 1, 1, 1, 1, 1, 1, 1, 1, 0, 0, 0, 0, 0, 0, 0, 0, 0, 0,\n",
              "       0, 0, 0, 0, 0, 1, 1, 0, 0, 1, 1, 1, 1, 1, 1, 0, 0, 0, 1, 1, 0, 0,\n",
              "       0, 0, 0, 1, 1, 1, 1, 0, 1, 0, 0, 0, 0, 0, 0, 0, 0, 0, 0, 0, 0, 0,\n",
              "       0, 1, 1, 1, 1, 1, 1, 1, 1, 1, 1, 1, 1, 1, 0, 1, 1, 1, 1, 1, 1, 0,\n",
              "       0, 0, 0, 0, 0, 0, 0, 0, 0, 0, 0, 1, 1, 0, 0, 0, 0, 0, 0, 1, 0, 0,\n",
              "       0, 1, 1, 1, 1, 1, 1, 1, 1, 1, 1, 1, 1, 0, 0, 0, 0, 0, 0, 0, 0, 0,\n",
              "       0, 0, 0, 0, 0, 0, 0, 0, 0, 0, 0, 1, 1, 1, 1, 1, 0, 1, 1, 1, 1, 1,\n",
              "       1, 0, 0, 0, 0, 0, 0, 0, 1, 1, 0, 0, 0, 0, 0, 1, 0, 0, 0, 0, 0, 1,\n",
              "       0, 0, 0, 0, 0, 0, 0, 1, 1, 0, 1, 0, 1, 1, 1, 1, 0, 0, 0, 0, 0, 1,\n",
              "       1, 1, 1, 1, 0, 0, 1, 1, 0, 0, 0, 0, 0, 0, 0, 0, 0, 0, 0, 0, 0, 1,\n",
              "       1, 1, 1, 1, 0, 0])"
            ]
          },
          "metadata": {
            "tags": []
          },
          "execution_count": 289
        }
      ]
    },
    {
      "cell_type": "code",
      "metadata": {
        "id": "5t5o4NldebYo",
        "colab_type": "code",
        "colab": {}
      },
      "source": [
        "from sklearn.metrics import classification_report, confusion_matrix\n",
        "\n",
        "cm=confusion_matrix(test_labels, pred.argmax(axis=1))"
      ],
      "execution_count": 290,
      "outputs": []
    },
    {
      "cell_type": "code",
      "metadata": {
        "id": "E2N0EkwSkbPS",
        "colab_type": "code",
        "colab": {
          "base_uri": "https://localhost:8080/",
          "height": 215
        },
        "outputId": "ef9262ec-9f4b-41ee-f86d-2d9d70cf7ef3"
      },
      "source": [
        "print('Confusion Matrix')\n",
        "fig,ax = plt.subplots(figsize=(2.5,2.5))\n",
        "ax.matshow(cm,cmap=plt.cm.Blues,alpha=0.3)\n",
        "for i in range(cm.shape[0]):\n",
        "  for j in range(cm.shape[1]):\n",
        "    ax.text(x=j,y=i,\n",
        "            s=cm[i,j],\n",
        "            va='center',ha='center')\n",
        "plt.xlabel('Predicted Label')\n",
        "plt.ylabel('True Label')\n",
        "plt.show()\n",
        "\n"
      ],
      "execution_count": 291,
      "outputs": [
        {
          "output_type": "stream",
          "text": [
            "Confusion Matrix\n"
          ],
          "name": "stdout"
        },
        {
          "output_type": "display_data",
          "data": {
            "image/png": "[encoded data removed]",
            "text/plain": [
              "<Figure size 180x180 with 1 Axes>"
            ]
          },
          "metadata": {
            "tags": [],
            "needs_background": "light"
          }
        }
      ]
    },
    {
      "cell_type": "code",
      "metadata": {
        "id": "BqloAWv8pioM",
        "colab_type": "code",
        "colab": {
          "base_uri": "https://localhost:8080/",
          "height": 69
        },
        "outputId": "c4d8b876-bbe0-4090-b146-49d8b0d0bafc"
      },
      "source": [
        "from sklearn.metrics import precision_score\n",
        "from sklearn.metrics import recall_score, f1_score\n",
        "\n",
        "print('Precision: %.3f' % precision_score(y_true=test_labels,y_pred=pred.argmax(axis=1)))\n",
        "\n",
        "print('Recall: %.3f' % recall_score(y_true=test_labels,y_pred=pred.argmax(axis=1)))\n",
        "\n",
        "print('F1: %.3f' % f1_score(y_true=test_labels,y_pred=pred.argmax(axis=1)))"
      ],
      "execution_count": 292,
      "outputs": [
        {
          "output_type": "stream",
          "text": [
            "Precision: 0.857\n",
            "Recall: 0.792\n",
            "F1: 0.823\n"
          ],
          "name": "stdout"
        }
      ]
    },
    {
      "cell_type": "code",
      "metadata": {
        "id": "f6Kbg7ee6Ddc",
        "colab_type": "code",
        "colab": {}
      },
      "source": [
        "from sklearn.pipeline import Pipeline\n",
        "from sklearn.feature_selection import SelectKBest, chi2\n",
        "import xgboost as xgb\n",
        "from sklearn.model_selection import KFold, GridSearchCV\n",
        "from sklearn.metrics import accuracy_score, make_scorer"
      ],
      "execution_count": 293,
      "outputs": []
    },
    {
      "cell_type": "code",
      "metadata": {
        "id": "t3dxaKoa6HzT",
        "colab_type": "code",
        "colab": {}
      },
      "source": [
        "pipe = Pipeline([\n",
        "  ('fs', SelectKBest()),\n",
        "  ('clf', xgb.XGBClassifier(objective='binary:logistic'))\n",
        "])"
      ],
      "execution_count": 294,
      "outputs": []
    },
    {
      "cell_type": "code",
      "metadata": {
        "id": "YYasVbi56P_Q",
        "colab_type": "code",
        "colab": {}
      },
      "source": [
        "search_space = [\n",
        "  {\n",
        "    'clf__n_estimators': [200],\n",
        "    'clf__learning_rate': [0.05, 0.5, 0.1],\n",
        "    'clf__max_depth': range(3, 10),\n",
        "    'clf__colsample_bytree': [i/10.0 for i in range(1, 3)],\n",
        "    'clf__gamma': [i/10.0 for i in range(3)],\n",
        "    'fs__score_func': [mutual_info_classif,f_classif],\n",
        "    'fs__k': [30,40],\n",
        "  }\n",
        "]"
      ],
      "execution_count": 296,
      "outputs": []
    },
    {
      "cell_type": "code",
      "metadata": {
        "id": "MyjNXlvW7k0f",
        "colab_type": "code",
        "colab": {}
      },
      "source": [
        "kfold = KFold(n_splits=4, shuffle=True, random_state=42)"
      ],
      "execution_count": 297,
      "outputs": []
    },
    {
      "cell_type": "code",
      "metadata": {
        "id": "ytjrsKU77sQB",
        "colab_type": "code",
        "colab": {}
      },
      "source": [
        "scoring = {'AUC':'roc_auc', 'Accuracy':make_scorer(accuracy_score)}"
      ],
      "execution_count": 298,
      "outputs": []
    },
    {
      "cell_type": "code",
      "metadata": {
        "id": "VrXsHFmn7wML",
        "colab_type": "code",
        "colab": {}
      },
      "source": [
        "grid = GridSearchCV(\n",
        "  pipe,\n",
        "  param_grid=search_space,\n",
        "  cv=kfold,\n",
        "  scoring=scoring,\n",
        "  refit='AUC',\n",
        "  verbose=1,\n",
        "  n_jobs=-1\n",
        ")"
      ],
      "execution_count": 299,
      "outputs": []
    },
    {
      "cell_type": "code",
      "metadata": {
        "id": "Shvo5yEg7303",
        "colab_type": "code",
        "colab": {
          "base_uri": "https://localhost:8080/",
          "height": 173
        },
        "outputId": "2358bc0b-520c-4617-c285-081a5efe387c"
      },
      "source": [
        "model = grid.fit(normed_train_data, train_labels)"
      ],
      "execution_count": 300,
      "outputs": [
        {
          "output_type": "stream",
          "text": [
            "Fitting 4 folds for each of 504 candidates, totalling 2016 fits\n"
          ],
          "name": "stdout"
        },
        {
          "output_type": "stream",
          "text": [
            "[Parallel(n_jobs=-1)]: Using backend LokyBackend with 2 concurrent workers.\n",
            "[Parallel(n_jobs=-1)]: Done  46 tasks      | elapsed:   25.5s\n",
            "[Parallel(n_jobs=-1)]: Done 196 tasks      | elapsed:  1.8min\n",
            "[Parallel(n_jobs=-1)]: Done 446 tasks      | elapsed:  4.1min\n",
            "[Parallel(n_jobs=-1)]: Done 796 tasks      | elapsed:  7.2min\n",
            "[Parallel(n_jobs=-1)]: Done 1246 tasks      | elapsed: 11.6min\n",
            "[Parallel(n_jobs=-1)]: Done 1796 tasks      | elapsed: 17.7min\n",
            "[Parallel(n_jobs=-1)]: Done 2016 out of 2016 | elapsed: 20.0min finished\n"
          ],
          "name": "stderr"
        }
      ]
    },
    {
      "cell_type": "code",
      "metadata": {
        "id": "S0MwiyBuOL-z",
        "colab_type": "code",
        "colab": {}
      },
      "source": [
        "import pickle\n",
        "\n",
        "# Dictionary of best parameters\n",
        "best_pars = grid.best_params_\n",
        "# Best XGB model that was found based on the metric score you specify\n",
        "best_model = grid.best_estimator_\n",
        "# Save model\n",
        "pickle.dump(grid.best_estimator_, open('gdrive/My Drive/SS_AITrader/'+stock+'/xgb_'+stock+'_log_reg.pickle', \"wb\"))"
      ],
      "execution_count": 301,
      "outputs": []
    },
    {
      "cell_type": "code",
      "metadata": {
        "id": "lYPYB1GQRn44",
        "colab_type": "code",
        "colab": {
          "base_uri": "https://localhost:8080/",
          "height": 51
        },
        "outputId": "5a4d9835-ee68-441b-e620-cc5cd3182c77"
      },
      "source": [
        "predict = model.predict(normed_test_data)\n",
        "print('Best AUC Score: {}'.format(model.best_score_))\n",
        "print('Accuracy: {}'.format(accuracy_score(test_labels, predict)))\n",
        "cm=confusion_matrix(test_labels,predict)"
      ],
      "execution_count": 302,
      "outputs": [
        {
          "output_type": "stream",
          "text": [
            "Best AUC Score: 0.9375388485031442\n",
            "Accuracy: 0.8877551020408163\n"
          ],
          "name": "stdout"
        }
      ]
    },
    {
      "cell_type": "code",
      "metadata": {
        "id": "_F-aB0lqS1dx",
        "colab_type": "code",
        "colab": {
          "base_uri": "https://localhost:8080/",
          "height": 215
        },
        "outputId": "b92f704e-5bf2-4338-d504-50b984f86cef"
      },
      "source": [
        "print('Confusion Matrix')\n",
        "fig,ax = plt.subplots(figsize=(2.5,2.5))\n",
        "ax.matshow(cm,cmap=plt.cm.Blues,alpha=0.3)\n",
        "for i in range(cm.shape[0]):\n",
        "  for j in range(cm.shape[1]):\n",
        "    ax.text(x=j,y=i,\n",
        "            s=cm[i,j],\n",
        "            va='center',ha='center')\n",
        "plt.xlabel('Predicted Label')\n",
        "plt.ylabel('True Label')\n",
        "plt.show()"
      ],
      "execution_count": 303,
      "outputs": [
        {
          "output_type": "stream",
          "text": [
            "Confusion Matrix\n"
          ],
          "name": "stdout"
        },
        {
          "output_type": "display_data",
          "data": {
            "image/png": "[encoded data removed]",
            "text/plain": [
              "<Figure size 180x180 with 1 Axes>"
            ]
          },
          "metadata": {
            "tags": [],
            "needs_background": "light"
          }
        }
      ]
    },
    {
      "cell_type": "code",
      "metadata": {
        "id": "DNgkOrW_TPMl",
        "colab_type": "code",
        "colab": {
          "base_uri": "https://localhost:8080/",
          "height": 54
        },
        "outputId": "53bcf936-aaaf-4f97-a712-e452dcd623c5"
      },
      "source": [
        "print(model.best_params_)"
      ],
      "execution_count": 304,
      "outputs": [
        {
          "output_type": "stream",
          "text": [
            "{'clf__colsample_bytree': 0.2, 'clf__gamma': 0.0, 'clf__learning_rate': 0.1, 'clf__max_depth': 7, 'clf__n_estimators': 200, 'fs__k': 30, 'fs__score_func': <function mutual_info_classif at 0x7f9d435a61e0>}\n"
          ],
          "name": "stdout"
        }
      ]
    },
    {
      "cell_type": "code",
      "metadata": {
        "id": "9S0pNSHq8lEE",
        "colab_type": "code",
        "colab": {}
      },
      "source": [
        "k=30\n",
        "select_k_best = SelectKBest(mutual_info_classif, k=k)\n",
        "select_k_best.fit(normed_train_data, train_labels)\n",
        "selected_features_mic = itemgetter(*select_k_best.get_support(indices=True))(list_features)\n",
        "\n",
        "list_features = list(normed_train_data.columns)\n",
        "feat_idx = []\n",
        "for c in selected_features_mic:\n",
        "      feat_idx.append(list_features.index(c))\n",
        "\n",
        "feat_idx = sorted(feat_idx)\n",
        "X_train_new=normed_train_data.iloc[:, feat_idx]\n",
        "X_test_new=normed_test_data.iloc[:, feat_idx]\n",
        "\n",
        "\n"
      ],
      "execution_count": 305,
      "outputs": []
    },
    {
      "cell_type": "code",
      "metadata": {
        "id": "g5_E1028Tx0Q",
        "colab_type": "code",
        "colab": {
          "base_uri": "https://localhost:8080/",
          "height": 1000
        },
        "outputId": "8761485f-3c9c-4cd8-d087-00c03d1b9413"
      },
      "source": [
        "model_opt = xgb.XGBClassifier(max_depth=7,\n",
        "                        objective='binary:logistic',\n",
        "                        n_estimators=200,\n",
        "                        learning_rate = 0.1,\n",
        "                        colsample_bytree= 0.2,\n",
        "                        gamma= 0.0)\n",
        "eval_set = [(X_train_new, train_labels), (X_test_new, test_labels)]\n",
        "model_opt.fit(X_train_new, train_labels, early_stopping_rounds=15, eval_metric=[\"error\", \"logloss\"], eval_set=eval_set, verbose=True)"
      ],
      "execution_count": 306,
      "outputs": [
        {
          "output_type": "stream",
          "text": [
            "[0]\tvalidation_0-error:0.253061\tvalidation_0-logloss:0.6652\tvalidation_1-error:0.357143\tvalidation_1-logloss:0.676322\n",
            "Multiple eval metrics have been passed: 'validation_1-logloss' will be used for early stopping.\n",
            "\n",
            "Will train until validation_1-logloss hasn't improved in 15 rounds.\n",
            "[1]\tvalidation_0-error:0.234184\tvalidation_0-logloss:0.647399\tvalidation_1-error:0.367347\tvalidation_1-logloss:0.668878\n",
            "[2]\tvalidation_0-error:0.196939\tvalidation_0-logloss:0.621631\tvalidation_1-error:0.326531\tvalidation_1-logloss:0.652426\n",
            "[3]\tvalidation_0-error:0.157653\tvalidation_0-logloss:0.589574\tvalidation_1-error:0.285714\tvalidation_1-logloss:0.63277\n",
            "[4]\tvalidation_0-error:0.153061\tvalidation_0-logloss:0.572984\tvalidation_1-error:0.3\tvalidation_1-logloss:0.625252\n",
            "[5]\tvalidation_0-error:0.133163\tvalidation_0-logloss:0.548967\tvalidation_1-error:0.285714\tvalidation_1-logloss:0.616235\n",
            "[6]\tvalidation_0-error:0.128061\tvalidation_0-logloss:0.533989\tvalidation_1-error:0.269388\tvalidation_1-logloss:0.605705\n",
            "[7]\tvalidation_0-error:0.114796\tvalidation_0-logloss:0.511629\tvalidation_1-error:0.253061\tvalidation_1-logloss:0.58926\n",
            "[8]\tvalidation_0-error:0.103571\tvalidation_0-logloss:0.497203\tvalidation_1-error:0.255102\tvalidation_1-logloss:0.580201\n",
            "[9]\tvalidation_0-error:0.107143\tvalidation_0-logloss:0.488566\tvalidation_1-error:0.265306\tvalidation_1-logloss:0.577808\n",
            "[10]\tvalidation_0-error:0.103571\tvalidation_0-logloss:0.478446\tvalidation_1-error:0.271429\tvalidation_1-logloss:0.572637\n",
            "[11]\tvalidation_0-error:0.095918\tvalidation_0-logloss:0.463714\tvalidation_1-error:0.269388\tvalidation_1-logloss:0.566017\n",
            "[12]\tvalidation_0-error:0.088776\tvalidation_0-logloss:0.44637\tvalidation_1-error:0.236735\tvalidation_1-logloss:0.55903\n",
            "[13]\tvalidation_0-error:0.085204\tvalidation_0-logloss:0.437452\tvalidation_1-error:0.242857\tvalidation_1-logloss:0.555941\n",
            "[14]\tvalidation_0-error:0.082653\tvalidation_0-logloss:0.431349\tvalidation_1-error:0.257143\tvalidation_1-logloss:0.553251\n",
            "[15]\tvalidation_0-error:0.078061\tvalidation_0-logloss:0.421198\tvalidation_1-error:0.244898\tvalidation_1-logloss:0.547966\n",
            "[16]\tvalidation_0-error:0.07602\tvalidation_0-logloss:0.41528\tvalidation_1-error:0.257143\tvalidation_1-logloss:0.548606\n",
            "[17]\tvalidation_0-error:0.07602\tvalidation_0-logloss:0.405846\tvalidation_1-error:0.257143\tvalidation_1-logloss:0.544911\n",
            "[18]\tvalidation_0-error:0.071939\tvalidation_0-logloss:0.395955\tvalidation_1-error:0.25102\tvalidation_1-logloss:0.541308\n",
            "[19]\tvalidation_0-error:0.070918\tvalidation_0-logloss:0.38927\tvalidation_1-error:0.255102\tvalidation_1-logloss:0.538859\n",
            "[20]\tvalidation_0-error:0.063265\tvalidation_0-logloss:0.376128\tvalidation_1-error:0.255102\tvalidation_1-logloss:0.534227\n",
            "[21]\tvalidation_0-error:0.051531\tvalidation_0-logloss:0.362599\tvalidation_1-error:0.246939\tvalidation_1-logloss:0.523669\n",
            "[22]\tvalidation_0-error:0.05051\tvalidation_0-logloss:0.35521\tvalidation_1-error:0.240816\tvalidation_1-logloss:0.523351\n",
            "[23]\tvalidation_0-error:0.044898\tvalidation_0-logloss:0.344376\tvalidation_1-error:0.236735\tvalidation_1-logloss:0.517927\n",
            "[24]\tvalidation_0-error:0.046429\tvalidation_0-logloss:0.339179\tvalidation_1-error:0.234694\tvalidation_1-logloss:0.516946\n",
            "[25]\tvalidation_0-error:0.046939\tvalidation_0-logloss:0.337811\tvalidation_1-error:0.234694\tvalidation_1-logloss:0.517409\n",
            "[26]\tvalidation_0-error:0.042347\tvalidation_0-logloss:0.326806\tvalidation_1-error:0.226531\tvalidation_1-logloss:0.508291\n",
            "[27]\tvalidation_0-error:0.038265\tvalidation_0-logloss:0.320198\tvalidation_1-error:0.220408\tvalidation_1-logloss:0.506182\n",
            "[28]\tvalidation_0-error:0.037755\tvalidation_0-logloss:0.312603\tvalidation_1-error:0.228571\tvalidation_1-logloss:0.502992\n",
            "[29]\tvalidation_0-error:0.036224\tvalidation_0-logloss:0.306249\tvalidation_1-error:0.218367\tvalidation_1-logloss:0.502119\n",
            "[30]\tvalidation_0-error:0.032143\tvalidation_0-logloss:0.296423\tvalidation_1-error:0.214286\tvalidation_1-logloss:0.494399\n",
            "[31]\tvalidation_0-error:0.029592\tvalidation_0-logloss:0.287727\tvalidation_1-error:0.202041\tvalidation_1-logloss:0.489285\n",
            "[32]\tvalidation_0-error:0.02551\tvalidation_0-logloss:0.278256\tvalidation_1-error:0.191837\tvalidation_1-logloss:0.482141\n",
            "[33]\tvalidation_0-error:0.02398\tvalidation_0-logloss:0.27497\tvalidation_1-error:0.193878\tvalidation_1-logloss:0.481933\n",
            "[34]\tvalidation_0-error:0.02551\tvalidation_0-logloss:0.268912\tvalidation_1-error:0.2\tvalidation_1-logloss:0.478252\n",
            "[35]\tvalidation_0-error:0.023469\tvalidation_0-logloss:0.264289\tvalidation_1-error:0.2\tvalidation_1-logloss:0.477001\n",
            "[36]\tvalidation_0-error:0.021939\tvalidation_0-logloss:0.260956\tvalidation_1-error:0.2\tvalidation_1-logloss:0.47622\n",
            "[37]\tvalidation_0-error:0.021939\tvalidation_0-logloss:0.256734\tvalidation_1-error:0.2\tvalidation_1-logloss:0.476687\n",
            "[38]\tvalidation_0-error:0.020408\tvalidation_0-logloss:0.254191\tvalidation_1-error:0.204082\tvalidation_1-logloss:0.475504\n",
            "[39]\tvalidation_0-error:0.019898\tvalidation_0-logloss:0.248769\tvalidation_1-error:0.197959\tvalidation_1-logloss:0.472449\n",
            "[40]\tvalidation_0-error:0.019388\tvalidation_0-logloss:0.243868\tvalidation_1-error:0.202041\tvalidation_1-logloss:0.468665\n",
            "[41]\tvalidation_0-error:0.017857\tvalidation_0-logloss:0.241104\tvalidation_1-error:0.202041\tvalidation_1-logloss:0.468218\n",
            "[42]\tvalidation_0-error:0.017347\tvalidation_0-logloss:0.234358\tvalidation_1-error:0.195918\tvalidation_1-logloss:0.462216\n",
            "[43]\tvalidation_0-error:0.017347\tvalidation_0-logloss:0.232255\tvalidation_1-error:0.193878\tvalidation_1-logloss:0.462235\n",
            "[44]\tvalidation_0-error:0.015816\tvalidation_0-logloss:0.225004\tvalidation_1-error:0.189796\tvalidation_1-logloss:0.457822\n",
            "[45]\tvalidation_0-error:0.015816\tvalidation_0-logloss:0.217266\tvalidation_1-error:0.191837\tvalidation_1-logloss:0.45109\n",
            "[46]\tvalidation_0-error:0.015816\tvalidation_0-logloss:0.211467\tvalidation_1-error:0.185714\tvalidation_1-logloss:0.446105\n",
            "[47]\tvalidation_0-error:0.014796\tvalidation_0-logloss:0.207512\tvalidation_1-error:0.183673\tvalidation_1-logloss:0.443996\n",
            "[48]\tvalidation_0-error:0.014796\tvalidation_0-logloss:0.202168\tvalidation_1-error:0.183673\tvalidation_1-logloss:0.440861\n",
            "[49]\tvalidation_0-error:0.013776\tvalidation_0-logloss:0.199426\tvalidation_1-error:0.185714\tvalidation_1-logloss:0.4411\n",
            "[50]\tvalidation_0-error:0.013265\tvalidation_0-logloss:0.195094\tvalidation_1-error:0.183673\tvalidation_1-logloss:0.436923\n",
            "[51]\tvalidation_0-error:0.012755\tvalidation_0-logloss:0.191995\tvalidation_1-error:0.177551\tvalidation_1-logloss:0.435869\n",
            "[52]\tvalidation_0-error:0.010714\tvalidation_0-logloss:0.187787\tvalidation_1-error:0.179592\tvalidation_1-logloss:0.433456\n",
            "[53]\tvalidation_0-error:0.010714\tvalidation_0-logloss:0.186785\tvalidation_1-error:0.179592\tvalidation_1-logloss:0.433933\n",
            "[54]\tvalidation_0-error:0.012245\tvalidation_0-logloss:0.184943\tvalidation_1-error:0.179592\tvalidation_1-logloss:0.43365\n",
            "[55]\tvalidation_0-error:0.011735\tvalidation_0-logloss:0.183133\tvalidation_1-error:0.177551\tvalidation_1-logloss:0.432916\n",
            "[56]\tvalidation_0-error:0.011224\tvalidation_0-logloss:0.181417\tvalidation_1-error:0.181633\tvalidation_1-logloss:0.432118\n",
            "[57]\tvalidation_0-error:0.010714\tvalidation_0-logloss:0.180249\tvalidation_1-error:0.177551\tvalidation_1-logloss:0.43174\n",
            "[58]\tvalidation_0-error:0.009184\tvalidation_0-logloss:0.175022\tvalidation_1-error:0.179592\tvalidation_1-logloss:0.42726\n",
            "[59]\tvalidation_0-error:0.008673\tvalidation_0-logloss:0.173812\tvalidation_1-error:0.185714\tvalidation_1-logloss:0.426646\n",
            "[60]\tvalidation_0-error:0.008673\tvalidation_0-logloss:0.17263\tvalidation_1-error:0.179592\tvalidation_1-logloss:0.425339\n",
            "[61]\tvalidation_0-error:0.008163\tvalidation_0-logloss:0.170031\tvalidation_1-error:0.183673\tvalidation_1-logloss:0.423855\n",
            "[62]\tvalidation_0-error:0.006633\tvalidation_0-logloss:0.16484\tvalidation_1-error:0.183673\tvalidation_1-logloss:0.419146\n",
            "[63]\tvalidation_0-error:0.006122\tvalidation_0-logloss:0.16058\tvalidation_1-error:0.179592\tvalidation_1-logloss:0.416453\n",
            "[64]\tvalidation_0-error:0.006633\tvalidation_0-logloss:0.158366\tvalidation_1-error:0.181633\tvalidation_1-logloss:0.416645\n",
            "[65]\tvalidation_0-error:0.004592\tvalidation_0-logloss:0.154569\tvalidation_1-error:0.181633\tvalidation_1-logloss:0.411056\n",
            "[66]\tvalidation_0-error:0.004592\tvalidation_0-logloss:0.152492\tvalidation_1-error:0.179592\tvalidation_1-logloss:0.410546\n",
            "[67]\tvalidation_0-error:0.004592\tvalidation_0-logloss:0.149495\tvalidation_1-error:0.17551\tvalidation_1-logloss:0.407431\n",
            "[68]\tvalidation_0-error:0.004082\tvalidation_0-logloss:0.146724\tvalidation_1-error:0.173469\tvalidation_1-logloss:0.405336\n",
            "[69]\tvalidation_0-error:0.003571\tvalidation_0-logloss:0.143354\tvalidation_1-error:0.177551\tvalidation_1-logloss:0.404568\n",
            "[70]\tvalidation_0-error:0.003061\tvalidation_0-logloss:0.140319\tvalidation_1-error:0.17551\tvalidation_1-logloss:0.399644\n",
            "[71]\tvalidation_0-error:0.003061\tvalidation_0-logloss:0.138023\tvalidation_1-error:0.173469\tvalidation_1-logloss:0.398332\n",
            "[72]\tvalidation_0-error:0.003061\tvalidation_0-logloss:0.137043\tvalidation_1-error:0.173469\tvalidation_1-logloss:0.398222\n",
            "[73]\tvalidation_0-error:0.003061\tvalidation_0-logloss:0.134952\tvalidation_1-error:0.171429\tvalidation_1-logloss:0.395833\n",
            "[74]\tvalidation_0-error:0.003061\tvalidation_0-logloss:0.133941\tvalidation_1-error:0.171429\tvalidation_1-logloss:0.395981\n",
            "[75]\tvalidation_0-error:0.003061\tvalidation_0-logloss:0.132474\tvalidation_1-error:0.171429\tvalidation_1-logloss:0.394323\n",
            "[76]\tvalidation_0-error:0.003061\tvalidation_0-logloss:0.129651\tvalidation_1-error:0.173469\tvalidation_1-logloss:0.391751\n",
            "[77]\tvalidation_0-error:0.003061\tvalidation_0-logloss:0.127667\tvalidation_1-error:0.171429\tvalidation_1-logloss:0.390304\n",
            "[78]\tvalidation_0-error:0.003061\tvalidation_0-logloss:0.127206\tvalidation_1-error:0.173469\tvalidation_1-logloss:0.390045\n",
            "[79]\tvalidation_0-error:0.003061\tvalidation_0-logloss:0.125721\tvalidation_1-error:0.173469\tvalidation_1-logloss:0.389238\n",
            "[80]\tvalidation_0-error:0.003061\tvalidation_0-logloss:0.124053\tvalidation_1-error:0.171429\tvalidation_1-logloss:0.388264\n",
            "[81]\tvalidation_0-error:0.003061\tvalidation_0-logloss:0.122074\tvalidation_1-error:0.171429\tvalidation_1-logloss:0.386552\n",
            "[82]\tvalidation_0-error:0.003061\tvalidation_0-logloss:0.121067\tvalidation_1-error:0.173469\tvalidation_1-logloss:0.385803\n",
            "[83]\tvalidation_0-error:0.003061\tvalidation_0-logloss:0.11956\tvalidation_1-error:0.171429\tvalidation_1-logloss:0.384834\n",
            "[84]\tvalidation_0-error:0.003061\tvalidation_0-logloss:0.118082\tvalidation_1-error:0.173469\tvalidation_1-logloss:0.384309\n",
            "[85]\tvalidation_0-error:0.003061\tvalidation_0-logloss:0.116109\tvalidation_1-error:0.169388\tvalidation_1-logloss:0.384746\n",
            "[86]\tvalidation_0-error:0.002041\tvalidation_0-logloss:0.11462\tvalidation_1-error:0.171429\tvalidation_1-logloss:0.384035\n",
            "[87]\tvalidation_0-error:0.001531\tvalidation_0-logloss:0.113564\tvalidation_1-error:0.169388\tvalidation_1-logloss:0.382662\n",
            "[88]\tvalidation_0-error:0.00102\tvalidation_0-logloss:0.112488\tvalidation_1-error:0.169388\tvalidation_1-logloss:0.382588\n",
            "[89]\tvalidation_0-error:0.00102\tvalidation_0-logloss:0.111756\tvalidation_1-error:0.169388\tvalidation_1-logloss:0.382196\n",
            "[90]\tvalidation_0-error:0.00102\tvalidation_0-logloss:0.109685\tvalidation_1-error:0.167347\tvalidation_1-logloss:0.381183\n",
            "[91]\tvalidation_0-error:0.00102\tvalidation_0-logloss:0.108164\tvalidation_1-error:0.17551\tvalidation_1-logloss:0.380544\n",
            "[92]\tvalidation_0-error:0.00102\tvalidation_0-logloss:0.107569\tvalidation_1-error:0.173469\tvalidation_1-logloss:0.38\n",
            "[93]\tvalidation_0-error:0.001531\tvalidation_0-logloss:0.105878\tvalidation_1-error:0.167347\tvalidation_1-logloss:0.37907\n",
            "[94]\tvalidation_0-error:0.00051\tvalidation_0-logloss:0.103661\tvalidation_1-error:0.163265\tvalidation_1-logloss:0.376333\n",
            "[95]\tvalidation_0-error:0.00051\tvalidation_0-logloss:0.102413\tvalidation_1-error:0.161224\tvalidation_1-logloss:0.375834\n",
            "[96]\tvalidation_0-error:0.00051\tvalidation_0-logloss:0.099826\tvalidation_1-error:0.161224\tvalidation_1-logloss:0.372405\n",
            "[97]\tvalidation_0-error:0.00051\tvalidation_0-logloss:0.097758\tvalidation_1-error:0.163265\tvalidation_1-logloss:0.3701\n",
            "[98]\tvalidation_0-error:0.00051\tvalidation_0-logloss:0.095838\tvalidation_1-error:0.159184\tvalidation_1-logloss:0.36799\n",
            "[99]\tvalidation_0-error:0.00051\tvalidation_0-logloss:0.094673\tvalidation_1-error:0.161224\tvalidation_1-logloss:0.367324\n",
            "[100]\tvalidation_0-error:0.00051\tvalidation_0-logloss:0.092904\tvalidation_1-error:0.155102\tvalidation_1-logloss:0.366165\n",
            "[101]\tvalidation_0-error:0.00051\tvalidation_0-logloss:0.090642\tvalidation_1-error:0.15102\tvalidation_1-logloss:0.361479\n",
            "[102]\tvalidation_0-error:0.00051\tvalidation_0-logloss:0.089935\tvalidation_1-error:0.15102\tvalidation_1-logloss:0.360759\n",
            "[103]\tvalidation_0-error:0.00051\tvalidation_0-logloss:0.088596\tvalidation_1-error:0.153061\tvalidation_1-logloss:0.360439\n",
            "[104]\tvalidation_0-error:0.00051\tvalidation_0-logloss:0.087474\tvalidation_1-error:0.155102\tvalidation_1-logloss:0.360036\n",
            "[105]\tvalidation_0-error:0.00051\tvalidation_0-logloss:0.08705\tvalidation_1-error:0.155102\tvalidation_1-logloss:0.359901\n",
            "[106]\tvalidation_0-error:0.00051\tvalidation_0-logloss:0.08644\tvalidation_1-error:0.155102\tvalidation_1-logloss:0.360221\n",
            "[107]\tvalidation_0-error:0.00051\tvalidation_0-logloss:0.085206\tvalidation_1-error:0.15102\tvalidation_1-logloss:0.360169\n",
            "[108]\tvalidation_0-error:0.00051\tvalidation_0-logloss:0.08464\tvalidation_1-error:0.15102\tvalidation_1-logloss:0.360282\n",
            "[109]\tvalidation_0-error:0.00051\tvalidation_0-logloss:0.082856\tvalidation_1-error:0.153061\tvalidation_1-logloss:0.357493\n",
            "[110]\tvalidation_0-error:0.00051\tvalidation_0-logloss:0.082288\tvalidation_1-error:0.146939\tvalidation_1-logloss:0.357876\n",
            "[111]\tvalidation_0-error:0.00051\tvalidation_0-logloss:0.080931\tvalidation_1-error:0.153061\tvalidation_1-logloss:0.356863\n",
            "[112]\tvalidation_0-error:0.00051\tvalidation_0-logloss:0.080301\tvalidation_1-error:0.153061\tvalidation_1-logloss:0.356332\n",
            "[113]\tvalidation_0-error:0.00051\tvalidation_0-logloss:0.079509\tvalidation_1-error:0.15102\tvalidation_1-logloss:0.356088\n",
            "[114]\tvalidation_0-error:0.00051\tvalidation_0-logloss:0.078495\tvalidation_1-error:0.14898\tvalidation_1-logloss:0.355556\n",
            "[115]\tvalidation_0-error:0.00051\tvalidation_0-logloss:0.077815\tvalidation_1-error:0.153061\tvalidation_1-logloss:0.355652\n",
            "[116]\tvalidation_0-error:0.00051\tvalidation_0-logloss:0.076619\tvalidation_1-error:0.153061\tvalidation_1-logloss:0.356189\n",
            "[117]\tvalidation_0-error:0.00051\tvalidation_0-logloss:0.075797\tvalidation_1-error:0.14898\tvalidation_1-logloss:0.356156\n",
            "[118]\tvalidation_0-error:0.00051\tvalidation_0-logloss:0.074881\tvalidation_1-error:0.144898\tvalidation_1-logloss:0.355748\n",
            "[119]\tvalidation_0-error:0\tvalidation_0-logloss:0.074227\tvalidation_1-error:0.142857\tvalidation_1-logloss:0.355618\n",
            "[120]\tvalidation_0-error:0\tvalidation_0-logloss:0.073926\tvalidation_1-error:0.142857\tvalidation_1-logloss:0.355523\n",
            "[121]\tvalidation_0-error:0.00051\tvalidation_0-logloss:0.072566\tvalidation_1-error:0.142857\tvalidation_1-logloss:0.35419\n",
            "[122]\tvalidation_0-error:0.00051\tvalidation_0-logloss:0.072236\tvalidation_1-error:0.144898\tvalidation_1-logloss:0.354296\n",
            "[123]\tvalidation_0-error:0.00051\tvalidation_0-logloss:0.071631\tvalidation_1-error:0.140816\tvalidation_1-logloss:0.354508\n",
            "[124]\tvalidation_0-error:0.00051\tvalidation_0-logloss:0.071219\tvalidation_1-error:0.138776\tvalidation_1-logloss:0.354647\n",
            "[125]\tvalidation_0-error:0.00051\tvalidation_0-logloss:0.070781\tvalidation_1-error:0.140816\tvalidation_1-logloss:0.354318\n",
            "[126]\tvalidation_0-error:0.00051\tvalidation_0-logloss:0.070426\tvalidation_1-error:0.144898\tvalidation_1-logloss:0.35476\n",
            "[127]\tvalidation_0-error:0.00051\tvalidation_0-logloss:0.06977\tvalidation_1-error:0.142857\tvalidation_1-logloss:0.355003\n",
            "[128]\tvalidation_0-error:0\tvalidation_0-logloss:0.069388\tvalidation_1-error:0.142857\tvalidation_1-logloss:0.354643\n",
            "[129]\tvalidation_0-error:0\tvalidation_0-logloss:0.067974\tvalidation_1-error:0.140816\tvalidation_1-logloss:0.351503\n",
            "[130]\tvalidation_0-error:0\tvalidation_0-logloss:0.067493\tvalidation_1-error:0.140816\tvalidation_1-logloss:0.351571\n",
            "[131]\tvalidation_0-error:0\tvalidation_0-logloss:0.067022\tvalidation_1-error:0.140816\tvalidation_1-logloss:0.351973\n",
            "[132]\tvalidation_0-error:0\tvalidation_0-logloss:0.066253\tvalidation_1-error:0.142857\tvalidation_1-logloss:0.351402\n",
            "[133]\tvalidation_0-error:0\tvalidation_0-logloss:0.065459\tvalidation_1-error:0.142857\tvalidation_1-logloss:0.351171\n",
            "[134]\tvalidation_0-error:0\tvalidation_0-logloss:0.065025\tvalidation_1-error:0.140816\tvalidation_1-logloss:0.350359\n",
            "[135]\tvalidation_0-error:0\tvalidation_0-logloss:0.064237\tvalidation_1-error:0.144898\tvalidation_1-logloss:0.349963\n",
            "[136]\tvalidation_0-error:0\tvalidation_0-logloss:0.063573\tvalidation_1-error:0.140816\tvalidation_1-logloss:0.350454\n",
            "[137]\tvalidation_0-error:0\tvalidation_0-logloss:0.062658\tvalidation_1-error:0.140816\tvalidation_1-logloss:0.350011\n",
            "[138]\tvalidation_0-error:0\tvalidation_0-logloss:0.061945\tvalidation_1-error:0.142857\tvalidation_1-logloss:0.3497\n",
            "[139]\tvalidation_0-error:0\tvalidation_0-logloss:0.06098\tvalidation_1-error:0.140816\tvalidation_1-logloss:0.348393\n",
            "[140]\tvalidation_0-error:0\tvalidation_0-logloss:0.060532\tvalidation_1-error:0.140816\tvalidation_1-logloss:0.347206\n",
            "[141]\tvalidation_0-error:0\tvalidation_0-logloss:0.060146\tvalidation_1-error:0.140816\tvalidation_1-logloss:0.347079\n",
            "[142]\tvalidation_0-error:0\tvalidation_0-logloss:0.059799\tvalidation_1-error:0.144898\tvalidation_1-logloss:0.34657\n",
            "[143]\tvalidation_0-error:0\tvalidation_0-logloss:0.059333\tvalidation_1-error:0.144898\tvalidation_1-logloss:0.346698\n",
            "[144]\tvalidation_0-error:0\tvalidation_0-logloss:0.05895\tvalidation_1-error:0.142857\tvalidation_1-logloss:0.346899\n",
            "[145]\tvalidation_0-error:0\tvalidation_0-logloss:0.058261\tvalidation_1-error:0.144898\tvalidation_1-logloss:0.345759\n",
            "[146]\tvalidation_0-error:0\tvalidation_0-logloss:0.057675\tvalidation_1-error:0.144898\tvalidation_1-logloss:0.344474\n",
            "[147]\tvalidation_0-error:0\tvalidation_0-logloss:0.057131\tvalidation_1-error:0.144898\tvalidation_1-logloss:0.344718\n",
            "[148]\tvalidation_0-error:0\tvalidation_0-logloss:0.056796\tvalidation_1-error:0.146939\tvalidation_1-logloss:0.344933\n",
            "[149]\tvalidation_0-error:0\tvalidation_0-logloss:0.056359\tvalidation_1-error:0.146939\tvalidation_1-logloss:0.344535\n",
            "[150]\tvalidation_0-error:0\tvalidation_0-logloss:0.055334\tvalidation_1-error:0.146939\tvalidation_1-logloss:0.342656\n",
            "[151]\tvalidation_0-error:0\tvalidation_0-logloss:0.054886\tvalidation_1-error:0.144898\tvalidation_1-logloss:0.342603\n",
            "[152]\tvalidation_0-error:0\tvalidation_0-logloss:0.054463\tvalidation_1-error:0.142857\tvalidation_1-logloss:0.342161\n",
            "[153]\tvalidation_0-error:0\tvalidation_0-logloss:0.053673\tvalidation_1-error:0.144898\tvalidation_1-logloss:0.341608\n",
            "[154]\tvalidation_0-error:0\tvalidation_0-logloss:0.052951\tvalidation_1-error:0.146939\tvalidation_1-logloss:0.340409\n",
            "[155]\tvalidation_0-error:0\tvalidation_0-logloss:0.052394\tvalidation_1-error:0.144898\tvalidation_1-logloss:0.340381\n",
            "[156]\tvalidation_0-error:0\tvalidation_0-logloss:0.052214\tvalidation_1-error:0.146939\tvalidation_1-logloss:0.340557\n",
            "[157]\tvalidation_0-error:0\tvalidation_0-logloss:0.05181\tvalidation_1-error:0.146939\tvalidation_1-logloss:0.341248\n",
            "[158]\tvalidation_0-error:0\tvalidation_0-logloss:0.051429\tvalidation_1-error:0.144898\tvalidation_1-logloss:0.340881\n",
            "[159]\tvalidation_0-error:0\tvalidation_0-logloss:0.051244\tvalidation_1-error:0.144898\tvalidation_1-logloss:0.341065\n",
            "[160]\tvalidation_0-error:0\tvalidation_0-logloss:0.050464\tvalidation_1-error:0.146939\tvalidation_1-logloss:0.341252\n",
            "[161]\tvalidation_0-error:0\tvalidation_0-logloss:0.049915\tvalidation_1-error:0.14898\tvalidation_1-logloss:0.341322\n",
            "[162]\tvalidation_0-error:0\tvalidation_0-logloss:0.049517\tvalidation_1-error:0.146939\tvalidation_1-logloss:0.341321\n",
            "[163]\tvalidation_0-error:0\tvalidation_0-logloss:0.049269\tvalidation_1-error:0.146939\tvalidation_1-logloss:0.341162\n",
            "[164]\tvalidation_0-error:0\tvalidation_0-logloss:0.048559\tvalidation_1-error:0.144898\tvalidation_1-logloss:0.340725\n",
            "[165]\tvalidation_0-error:0\tvalidation_0-logloss:0.048189\tvalidation_1-error:0.144898\tvalidation_1-logloss:0.34106\n",
            "[166]\tvalidation_0-error:0\tvalidation_0-logloss:0.047738\tvalidation_1-error:0.144898\tvalidation_1-logloss:0.340917\n",
            "[167]\tvalidation_0-error:0\tvalidation_0-logloss:0.047515\tvalidation_1-error:0.142857\tvalidation_1-logloss:0.341072\n",
            "[168]\tvalidation_0-error:0\tvalidation_0-logloss:0.047118\tvalidation_1-error:0.144898\tvalidation_1-logloss:0.341116\n",
            "[169]\tvalidation_0-error:0\tvalidation_0-logloss:0.046973\tvalidation_1-error:0.144898\tvalidation_1-logloss:0.341221\n",
            "[170]\tvalidation_0-error:0\tvalidation_0-logloss:0.046545\tvalidation_1-error:0.146939\tvalidation_1-logloss:0.340441\n",
            "Stopping. Best iteration:\n",
            "[155]\tvalidation_0-error:0\tvalidation_0-logloss:0.052394\tvalidation_1-error:0.144898\tvalidation_1-logloss:0.340381\n",
            "\n"
          ],
          "name": "stdout"
        },
        {
          "output_type": "execute_result",
          "data": {
            "text/plain": [
              "XGBClassifier(base_score=0.5, booster='gbtree', colsample_bylevel=1,\n",
              "              colsample_bynode=1, colsample_bytree=0.2, gamma=0.0,\n",
              "              learning_rate=0.1, max_delta_step=0, max_depth=7,\n",
              "              min_child_weight=1, missing=None, n_estimators=200, n_jobs=1,\n",
              "              nthread=None, objective='binary:logistic', random_state=0,\n",
              "              reg_alpha=0, reg_lambda=1, scale_pos_weight=1, seed=None,\n",
              "              silent=None, subsample=1, verbosity=1)"
            ]
          },
          "metadata": {
            "tags": []
          },
          "execution_count": 306
        }
      ]
    },
    {
      "cell_type": "code",
      "metadata": {
        "id": "QSaYf0OGYnBq",
        "colab_type": "code",
        "colab": {
          "base_uri": "https://localhost:8080/",
          "height": 34
        },
        "outputId": "eefea197-648b-4c6e-f2b1-1889c704706e"
      },
      "source": [
        "\n",
        "# make predictions for test data\n",
        "y_pred = model_opt.predict(X_test_new)\n",
        "predictions = [round(value) for value in y_pred]\n",
        "\n",
        "# evaluate predictions\n",
        "accuracy = accuracy_score(test_labels, predictions)\n",
        "print(\"Accuracy: %.2f%%\" % (accuracy * 100.0))"
      ],
      "execution_count": 307,
      "outputs": [
        {
          "output_type": "stream",
          "text": [
            "Accuracy: 85.51%\n"
          ],
          "name": "stdout"
        }
      ]
    },
    {
      "cell_type": "code",
      "metadata": {
        "id": "Z8D-K6-UZeNJ",
        "colab_type": "code",
        "colab": {
          "base_uri": "https://localhost:8080/",
          "height": 545
        },
        "outputId": "ce7c60f9-bfb8-4338-9287-17e070ac5914"
      },
      "source": [
        "from matplotlib import pyplot\n",
        "\n",
        "results = model_opt.evals_result()\n",
        "epochs = len(results['validation_0']['error'])\n",
        "x_axis = range(0, epochs)\n",
        "# plot log loss\n",
        "fig, ax = pyplot.subplots()\n",
        "ax.plot(x_axis, results['validation_0']['logloss'], label='Train')\n",
        "ax.plot(x_axis, results['validation_1']['logloss'], label='Test')\n",
        "ax.legend()\n",
        "pyplot.ylabel('Log Loss')\n",
        "pyplot.title('XGBoost Log Loss')\n",
        "pyplot.show()\n",
        "# plot classification error\n",
        "fig, ax = pyplot.subplots()\n",
        "ax.plot(x_axis, results['validation_0']['error'], label='Train')\n",
        "ax.plot(x_axis, results['validation_1']['error'], label='Test')\n",
        "ax.legend()\n",
        "pyplot.ylabel('Classification Error')\n",
        "pyplot.title('XGBoost Classification Error')\n",
        "pyplot.show()"
      ],
      "execution_count": 308,
      "outputs": [
        {
          "output_type": "display_data",
          "data": {
            "image/png": "[encoded data removed]",
            "text/plain": [
              "<Figure size 432x288 with 1 Axes>"
            ]
          },
          "metadata": {
            "tags": [],
            "needs_background": "light"
          }
        },
        {
          "output_type": "display_data",
          "data": {
            "image/png": "[encoded data removed]",
            "text/plain": [
              "<Figure size 432x288 with 1 Axes>"
            ]
          },
          "metadata": {
            "tags": [],
            "needs_background": "light"
          }
        }
      ]
    },
    {
      "cell_type": "code",
      "metadata": {
        "id": "FC9l3_3rdBVp",
        "colab_type": "code",
        "colab": {
          "base_uri": "https://localhost:8080/",
          "height": 34
        },
        "outputId": "04a20d9d-ce50-4073-bc79-1659cb7b3cc9"
      },
      "source": [
        "shap_values = shap.TreeExplainer(model_opt).shap_values(X_test_new) "
      ],
      "execution_count": 309,
      "outputs": [
        {
          "output_type": "stream",
          "text": [
            "Setting feature_perturbation = \"tree_path_dependent\" because no background data was given.\n"
          ],
          "name": "stderr"
        }
      ]
    },
    {
      "cell_type": "code",
      "metadata": {
        "id": "sCqFjPjzdIyd",
        "colab_type": "code",
        "colab": {
          "base_uri": "https://localhost:8080/",
          "height": 585
        },
        "outputId": "976f1d56-0af9-425d-8e96-7a784c1193d6"
      },
      "source": [
        "shap.summary_plot(shap_values, X_test_new)"
      ],
      "execution_count": 310,
      "outputs": [
        {
          "output_type": "display_data",
          "data": {
            "image/png": "[encoded data removed]",
            "text/plain": [
              "<Figure size 576x684 with 2 Axes>"
            ]
          },
          "metadata": {
            "tags": [],
            "needs_background": "light"
          }
        }
      ]
    },
    {
      "cell_type": "code",
      "metadata": {
        "id": "9E1paKnoeZWG",
        "colab_type": "code",
        "colab": {}
      },
      "source": [
        "predict = model_opt.predict(X_test_new)\n",
        "\n",
        "cm=confusion_matrix(test_labels,predict)"
      ],
      "execution_count": 311,
      "outputs": []
    },
    {
      "cell_type": "code",
      "metadata": {
        "id": "_HC4TpNaefH3",
        "colab_type": "code",
        "colab": {
          "base_uri": "https://localhost:8080/",
          "height": 215
        },
        "outputId": "72c8d1e6-ccd0-4174-ea01-dd5a031ac1d6"
      },
      "source": [
        "print('Confusion Matrix')\n",
        "fig,ax = plt.subplots(figsize=(2.5,2.5))\n",
        "ax.matshow(cm,cmap=plt.cm.Blues,alpha=0.3)\n",
        "for i in range(cm.shape[0]):\n",
        "  for j in range(cm.shape[1]):\n",
        "    ax.text(x=j,y=i,\n",
        "            s=cm[i,j],\n",
        "            va='center',ha='center')\n",
        "plt.xlabel('Predicted Label')\n",
        "plt.ylabel('True Label')\n",
        "plt.show()"
      ],
      "execution_count": 312,
      "outputs": [
        {
          "output_type": "stream",
          "text": [
            "Confusion Matrix\n"
          ],
          "name": "stdout"
        },
        {
          "output_type": "display_data",
          "data": {
            "image/png": "[encoded data removed]",
            "text/plain": [
              "<Figure size 180x180 with 1 Axes>"
            ]
          },
          "metadata": {
            "tags": [],
            "needs_background": "light"
          }
        }
      ]
    }
  ]
}